{
 "cells": [
  {
   "cell_type": "code",
   "execution_count": 1,
   "id": "28162b54",
   "metadata": {},
   "outputs": [],
   "source": [
    "import selenium\n",
    "from selenium import webdriver\n",
    "import time\n",
    "import pandas as pd\n",
    "from selenium.webdriver.common.by import By\n",
    "from selenium.webdriver.chrome.service import Service\n",
    "import requests\n",
    "from IPython.display import display, Image\n",
    "from selenium.webdriver.common.keys import Keys\n",
    "import re\n",
    "from selenium.webdriver.support.ui import WebDriverWait\n",
    "from selenium.webdriver.support import expected_conditions as EC"
   ]
  },
  {
   "cell_type": "markdown",
   "id": "7ec512fe",
   "metadata": {},
   "source": [
    "1. Write a python program which searches all the product under a particular product from www.amazon.in. The product to be searched will be taken as input from user. For e.g. If user input is ‘guitar’. Then search for guitars."
   ]
  },
  {
   "cell_type": "code",
   "execution_count": 2,
   "id": "d108f496",
   "metadata": {},
   "outputs": [],
   "source": [
    "# Setting up the WebDriver\n",
    "service = Service(r\"chromedriver.exe\")\n",
    "driver = webdriver.Chrome(service=service)"
   ]
  },
  {
   "cell_type": "code",
   "execution_count": 3,
   "id": "1c970805",
   "metadata": {},
   "outputs": [],
   "source": [
    "def search_products_amazon(product_input):\n",
    "    \n",
    "    url = 'https://www.amazon.in/'\n",
    "    driver.get(url)\n",
    "    \n",
    "    # Entering the product name taken as input from user\n",
    "    product = driver.find_element(By.XPATH, '//input[@class=\"nav-input nav-progressive-attribute\"]')\n",
    "    product.send_keys(product_input)\n",
    "\n",
    "    # Clicking the search button\n",
    "    search = driver.find_element(By.XPATH, '//input[@type=\"submit\"]')\n",
    "    search.click()\n",
    "    time.sleep(3) # Giving time to load the page"
   ]
  },
  {
   "cell_type": "code",
   "execution_count": 4,
   "id": "078b6f3f",
   "metadata": {},
   "outputs": [
    {
     "name": "stdout",
     "output_type": "stream",
     "text": [
      "Enter product name: guitar\n"
     ]
    }
   ],
   "source": [
    "product_input = input('Enter product name: ')\n",
    "search_products_amazon(product_input)"
   ]
  },
  {
   "cell_type": "markdown",
   "id": "d2bd2f6b",
   "metadata": {},
   "source": [
    "2. In the above question, now scrape the following details of each product listed in first 3 pages of your search results and save it in a data frame and csv. In case if any product has less than 3 pages in search results then scrape all the products available under that product name. Details to be scraped are: \"Brand Name\", \"Name of the Product\", \"Price\", \"Return/Exchange\", \"Expected Delivery\", \"Availability\" and “Product URL”. In case, if any of the details are missing for any of the product then replace it by “-“. "
   ]
  },
  {
   "cell_type": "code",
   "execution_count": 5,
   "id": "a33fad86",
   "metadata": {},
   "outputs": [],
   "source": [
    "def get_product_urls_amazon():\n",
    "    \n",
    "    url_list=[] \n",
    "    \n",
    "    # Getting urls of all products for first 3 pages\n",
    "    num_pages = 3\n",
    "    for page in range(num_pages):\n",
    "        urls = driver.find_elements(By.XPATH,\n",
    "                        '//a[@class=\"a-link-normal s-underline-text s-underline-link-text s-link-style a-text-normal\"]')\n",
    "       \n",
    "        for url in urls:    \n",
    "            url_list.append(url.get_attribute('href'))\n",
    "            \n",
    "        try:\n",
    "            next_page = driver.find_element(By.XPATH,\n",
    "                            '//a[@class=\"s-pagination-item s-pagination-next s-pagination-button s-pagination-separator\"]')\n",
    "            next_page.click()\n",
    "            time.sleep(3)\n",
    "        except:\n",
    "            break\n",
    "        \n",
    "    return url_list"
   ]
  },
  {
   "cell_type": "code",
   "execution_count": 6,
   "id": "3c5ee077",
   "metadata": {},
   "outputs": [],
   "source": [
    "url_list=get_product_urls_amazon()"
   ]
  },
  {
   "cell_type": "code",
   "execution_count": 7,
   "id": "9e04af2b",
   "metadata": {},
   "outputs": [],
   "source": [
    "product_details = []"
   ]
  },
  {
   "cell_type": "code",
   "execution_count": 8,
   "id": "71adcc33",
   "metadata": {},
   "outputs": [],
   "source": [
    "for u in url_list:\n",
    "    driver.get(u)\n",
    "    time.sleep(3)\n",
    "    \n",
    "    name = driver.find_element(By.ID, \"productTitle\").text\n",
    "    \n",
    "    try:\n",
    "        brand_row = driver.find_element(By.XPATH, '//tr[@class=\"a-spacing-small po-brand\"]')\n",
    "        brand = brand_row.find_element(By.XPATH, './/span[@class=\"a-size-base po-break-word\"]').text\n",
    "    except:\n",
    "        brand = '-'\n",
    "    \n",
    "    try:\n",
    "        price = driver.find_element(By.XPATH, '//span[@class=\"a-price-whole\"]').text\n",
    "    except:\n",
    "        price = '-'\n",
    "    \n",
    "    try:\n",
    "        return_policy = driver.find_element(By.ID, \"RETURNS_POLICY\").text\n",
    "    except:\n",
    "        return_policy = '-'\n",
    "    \n",
    "    try:\n",
    "        delivery = driver.find_element(By.CLASS_NAME, \"a-text-bold\").text\n",
    "    except:\n",
    "        delivery = '-'\n",
    "    \n",
    "    try:\n",
    "        availability = driver.find_element(By.ID, \"availability\").text\n",
    "    except:\n",
    "        availability = '-'\n",
    "    \n",
    "    data = {\n",
    "        \"Name of Product\": name,\n",
    "        \"Brand Name\": brand,\n",
    "        \"Price (₹)\": price,\n",
    "        \"Return/Exchange\": return_policy,\n",
    "        \"Expected Delivery\": delivery,\n",
    "        \"Availability\": availability,\n",
    "        \"Product URL\": u\n",
    "    }\n",
    "    \n",
    "    product_details.append(data)"
   ]
  },
  {
   "cell_type": "code",
   "execution_count": 9,
   "id": "96c7398a",
   "metadata": {},
   "outputs": [],
   "source": [
    "driver.quit()"
   ]
  },
  {
   "cell_type": "code",
   "execution_count": 10,
   "id": "f742cc85",
   "metadata": {},
   "outputs": [
    {
     "data": {
      "text/html": [
       "<div>\n",
       "<style scoped>\n",
       "    .dataframe tbody tr th:only-of-type {\n",
       "        vertical-align: middle;\n",
       "    }\n",
       "\n",
       "    .dataframe tbody tr th {\n",
       "        vertical-align: top;\n",
       "    }\n",
       "\n",
       "    .dataframe thead th {\n",
       "        text-align: right;\n",
       "    }\n",
       "</style>\n",
       "<table border=\"1\" class=\"dataframe\">\n",
       "  <thead>\n",
       "    <tr style=\"text-align: right;\">\n",
       "      <th></th>\n",
       "      <th>Name of Product</th>\n",
       "      <th>Brand Name</th>\n",
       "      <th>Price (₹)</th>\n",
       "      <th>Return/Exchange</th>\n",
       "      <th>Expected Delivery</th>\n",
       "      <th>Availability</th>\n",
       "      <th>Product URL</th>\n",
       "    </tr>\n",
       "  </thead>\n",
       "  <tbody>\n",
       "    <tr>\n",
       "      <th>0</th>\n",
       "      <td>Kadence Frontier Jumbo Semi Acoustic Guitar Wi...</td>\n",
       "      <td>Kadence</td>\n",
       "      <td>6,899</td>\n",
       "      <td>7 days Replacement</td>\n",
       "      <td>Friday, 23 June</td>\n",
       "      <td>In stock</td>\n",
       "      <td>https://www.amazon.in/sspa/click?ie=UTF8&amp;spc=M...</td>\n",
       "    </tr>\n",
       "    <tr>\n",
       "      <th>1</th>\n",
       "      <td>Kadence Frontier guitar with Online Guitar lea...</td>\n",
       "      <td>Kadence</td>\n",
       "      <td>4,999</td>\n",
       "      <td>7 days Replacement</td>\n",
       "      <td>Wednesday, 21 June</td>\n",
       "      <td>In stock</td>\n",
       "      <td>https://www.amazon.in/sspa/click?ie=UTF8&amp;spc=M...</td>\n",
       "    </tr>\n",
       "    <tr>\n",
       "      <th>2</th>\n",
       "      <td>Vault DA40 41 Inch Premium Solid Spruce-Top Dr...</td>\n",
       "      <td>VAULT</td>\n",
       "      <td>6,934</td>\n",
       "      <td>7 days Replacement</td>\n",
       "      <td>Thursday, 22 June</td>\n",
       "      <td>In stock</td>\n",
       "      <td>https://www.amazon.in/sspa/click?ie=UTF8&amp;spc=M...</td>\n",
       "    </tr>\n",
       "    <tr>\n",
       "      <th>3</th>\n",
       "      <td>ESH Creations E40CHEQ High Gloss Semi Acoustic...</td>\n",
       "      <td>ESH Creations</td>\n",
       "      <td>5,899</td>\n",
       "      <td>7 days Replacement</td>\n",
       "      <td>Monday, 3 July</td>\n",
       "      <td>In stock</td>\n",
       "      <td>https://www.amazon.in/sspa/click?ie=UTF8&amp;spc=M...</td>\n",
       "    </tr>\n",
       "    <tr>\n",
       "      <th>4</th>\n",
       "      <td>Juârez Acoustic Guitar, 38 Inch Cutaway, 038C ...</td>\n",
       "      <td>JUAREZ</td>\n",
       "      <td>1,994</td>\n",
       "      <td>7 days Replacement</td>\n",
       "      <td>Wednesday, 21 June</td>\n",
       "      <td>In stock</td>\n",
       "      <td>https://www.amazon.in/Juarez-Acoustic-Cutaway-...</td>\n",
       "    </tr>\n",
       "    <tr>\n",
       "      <th>...</th>\n",
       "      <td>...</td>\n",
       "      <td>...</td>\n",
       "      <td>...</td>\n",
       "      <td>...</td>\n",
       "      <td>...</td>\n",
       "      <td>...</td>\n",
       "      <td>...</td>\n",
       "    </tr>\n",
       "    <tr>\n",
       "      <th>162</th>\n",
       "      <td>Fender Acoustic Guitar Dreadnought CD60 V3 970...</td>\n",
       "      <td>Fender</td>\n",
       "      <td>12,500</td>\n",
       "      <td>7 days Replacement</td>\n",
       "      <td>Wednesday, 21 June</td>\n",
       "      <td>Only 1 left in stock</td>\n",
       "      <td>https://www.amazon.in/Fender-Dread-String-Acou...</td>\n",
       "    </tr>\n",
       "    <tr>\n",
       "      <th>163</th>\n",
       "      <td>Yamaha C40M Classical Guitar, Sprucewood (Brown)</td>\n",
       "      <td>YAMAHA</td>\n",
       "      <td>-</td>\n",
       "      <td>Returns Policy</td>\n",
       "      <td></td>\n",
       "      <td></td>\n",
       "      <td>https://www.amazon.in/Yamaha-C40MII-Acoustic-C...</td>\n",
       "    </tr>\n",
       "    <tr>\n",
       "      <th>164</th>\n",
       "      <td>Kadence Guitar Acoustica Series, Electric Acou...</td>\n",
       "      <td>Kadence</td>\n",
       "      <td>6,999</td>\n",
       "      <td>7 days Replacement</td>\n",
       "      <td>Friday, 23 June</td>\n",
       "      <td>In stock</td>\n",
       "      <td>https://www.amazon.in/Kadence-Acoustica-Electr...</td>\n",
       "    </tr>\n",
       "    <tr>\n",
       "      <th>165</th>\n",
       "      <td>JUAREZ Fiésta 104.14 cm (41 Inch) Acoustic Gui...</td>\n",
       "      <td>JUAREZ</td>\n",
       "      <td>3,998</td>\n",
       "      <td>7 days Replacement</td>\n",
       "      <td>Wednesday, 21 June</td>\n",
       "      <td>In stock</td>\n",
       "      <td>https://www.amazon.in/JUAREZ-Fi%C3%A9sta-Acous...</td>\n",
       "    </tr>\n",
       "    <tr>\n",
       "      <th>166</th>\n",
       "      <td>Pluto HW41C-201 41-inch Cutaway Acoustic Guita...</td>\n",
       "      <td>Pluto</td>\n",
       "      <td>7,099</td>\n",
       "      <td>7 days Replacement</td>\n",
       "      <td>Thursday, 22 June</td>\n",
       "      <td>In stock</td>\n",
       "      <td>https://www.amazon.in/Pluto-HW41C-201-Acoustic...</td>\n",
       "    </tr>\n",
       "  </tbody>\n",
       "</table>\n",
       "<p>167 rows × 7 columns</p>\n",
       "</div>"
      ],
      "text/plain": [
       "                                       Name of Product     Brand Name  \\\n",
       "0    Kadence Frontier Jumbo Semi Acoustic Guitar Wi...        Kadence   \n",
       "1    Kadence Frontier guitar with Online Guitar lea...        Kadence   \n",
       "2    Vault DA40 41 Inch Premium Solid Spruce-Top Dr...          VAULT   \n",
       "3    ESH Creations E40CHEQ High Gloss Semi Acoustic...  ESH Creations   \n",
       "4    Juârez Acoustic Guitar, 38 Inch Cutaway, 038C ...         JUAREZ   \n",
       "..                                                 ...            ...   \n",
       "162  Fender Acoustic Guitar Dreadnought CD60 V3 970...         Fender   \n",
       "163   Yamaha C40M Classical Guitar, Sprucewood (Brown)         YAMAHA   \n",
       "164  Kadence Guitar Acoustica Series, Electric Acou...        Kadence   \n",
       "165  JUAREZ Fiésta 104.14 cm (41 Inch) Acoustic Gui...         JUAREZ   \n",
       "166  Pluto HW41C-201 41-inch Cutaway Acoustic Guita...          Pluto   \n",
       "\n",
       "    Price (₹)     Return/Exchange   Expected Delivery          Availability  \\\n",
       "0       6,899  7 days Replacement     Friday, 23 June              In stock   \n",
       "1       4,999  7 days Replacement  Wednesday, 21 June              In stock   \n",
       "2       6,934  7 days Replacement   Thursday, 22 June              In stock   \n",
       "3       5,899  7 days Replacement      Monday, 3 July              In stock   \n",
       "4       1,994  7 days Replacement  Wednesday, 21 June              In stock   \n",
       "..        ...                 ...                 ...                   ...   \n",
       "162    12,500  7 days Replacement  Wednesday, 21 June  Only 1 left in stock   \n",
       "163         -      Returns Policy                                             \n",
       "164     6,999  7 days Replacement     Friday, 23 June              In stock   \n",
       "165     3,998  7 days Replacement  Wednesday, 21 June              In stock   \n",
       "166     7,099  7 days Replacement   Thursday, 22 June              In stock   \n",
       "\n",
       "                                           Product URL  \n",
       "0    https://www.amazon.in/sspa/click?ie=UTF8&spc=M...  \n",
       "1    https://www.amazon.in/sspa/click?ie=UTF8&spc=M...  \n",
       "2    https://www.amazon.in/sspa/click?ie=UTF8&spc=M...  \n",
       "3    https://www.amazon.in/sspa/click?ie=UTF8&spc=M...  \n",
       "4    https://www.amazon.in/Juarez-Acoustic-Cutaway-...  \n",
       "..                                                 ...  \n",
       "162  https://www.amazon.in/Fender-Dread-String-Acou...  \n",
       "163  https://www.amazon.in/Yamaha-C40MII-Acoustic-C...  \n",
       "164  https://www.amazon.in/Kadence-Acoustica-Electr...  \n",
       "165  https://www.amazon.in/JUAREZ-Fi%C3%A9sta-Acous...  \n",
       "166  https://www.amazon.in/Pluto-HW41C-201-Acoustic...  \n",
       "\n",
       "[167 rows x 7 columns]"
      ]
     },
     "execution_count": 10,
     "metadata": {},
     "output_type": "execute_result"
    }
   ],
   "source": [
    "df = pd.DataFrame(product_details)\n",
    "df"
   ]
  },
  {
   "cell_type": "code",
   "execution_count": 11,
   "id": "d0857a88",
   "metadata": {},
   "outputs": [],
   "source": [
    "df.to_csv(f'amazon-{product_input}-data.csv', index=False)"
   ]
  },
  {
   "cell_type": "markdown",
   "id": "58bb4f5b",
   "metadata": {},
   "source": [
    " "
   ]
  },
  {
   "cell_type": "markdown",
   "id": "b936cfed",
   "metadata": {},
   "source": [
    "3. Write a python program to access the search bar and search button on images.google.com and scrape 10 images each for keywords ‘fruits’, ‘cars’ and ‘Machine Learning’, ‘Guitar’, ‘Cakes’."
   ]
  },
  {
   "cell_type": "code",
   "execution_count": 12,
   "id": "fe25eb2b",
   "metadata": {},
   "outputs": [],
   "source": [
    "def get_google_images(keyword):\n",
    "    \n",
    "    # Setting up the WebDriver\n",
    "    service = Service(r\"chromedriver.exe\")\n",
    "    driver = webdriver.Chrome(service=service)\n",
    "\n",
    "    url = 'https://images.google.com/'\n",
    "    driver.get(url)\n",
    "    time.sleep(3)\n",
    "    \n",
    "    #Rejecting all cookies\n",
    "    driver.find_element(By.XPATH, '//div[@class=\"QS5gu sy4vM\" and text()=\"Reject all\"]').click()\n",
    "    \n",
    "    # Searching for images\n",
    "    search_item = driver.find_element(By.CLASS_NAME, \"gLFyf\")\n",
    "    search_item.send_keys(keyword)\n",
    "    \n",
    "    search_btn = driver.find_element(By.CLASS_NAME, \"Tg7LZd\")\n",
    "    search_btn.click()\n",
    "    time.sleep(3)\n",
    "    \n",
    "    #Scraping 10 images\n",
    "    images = driver.find_elements(By.XPATH, '//img[@class=\"rg_i Q4LuWd\"]')[:10]\n",
    "    \n",
    "    img_data = []\n",
    "    for i in images:\n",
    "        img_link = i.get_attribute('src')\n",
    "        img_data.append(img_link)\n",
    "        display(Image(url=img_link))\n",
    "        \n",
    "    driver.quit()"
   ]
  },
  {
   "cell_type": "code",
   "execution_count": 13,
   "id": "0dd24ba9",
   "metadata": {
    "scrolled": true
   },
   "outputs": [
    {
     "data": {
      "text/html": [
       "<img src=\"data:image/jpeg;base64,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\"/>"
      ],
      "text/plain": [
       "<IPython.core.display.Image object>"
      ]
     },
     "metadata": {},
     "output_type": "display_data"
    },
    {
     "data": {
      "text/html": [
       "<img src=\"data:image/jpeg;base64,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\"/>"
      ],
      "text/plain": [
       "<IPython.core.display.Image object>"
      ]
     },
     "metadata": {},
     "output_type": "display_data"
    },
    {
     "data": {
      "text/html": [
       "<img src=\"data:image/jpeg;base64,/9j/4AAQSkZJRgABAQAAAQABAAD/2wCEAAkGBxMTEhUREhMTFhUXGB8bFxgYGBgeGBsbGRgZFhgaGx8YHSggGxslHh0bITIhJSkrLy4uGR8zODMsNygvLisBCgoKDg0OGhAQGy0mICYvNTEwLTAtLS0tMi0xLS0tLy0tLS0tLS0tMi0tLS0vLTAtLS0tLS8vLS0tMC0tLS0tLf/AABEIANYA6wMBIgACEQEDEQH/xAAcAAEAAgIDAQAAAAAAAAAAAAAABQYEBwECAwj/xABEEAACAgEDAgQEAwUFBgMJAAABAgMRAAQSIQUxBhNBUSIyYXEUQoEHI1KRoTNDYnLwFjSCkrHBJFNzCBVjg5PR0+Hx/8QAGgEBAAMBAQEAAAAAAAAAAAAAAAMEBQIGAf/EADURAAEDAgQDBwMEAAcAAAAAAAEAAhEDIQQxQVEScaEFE2GBwdHwIpGxFDLh8QYVQlJTksL/2gAMAwEAAhEDEQA/AN44xjCJjGMImMYwiYxjCJjGMImMYwiYxjCJjGMImMYwiYxjCJjGMImMYwiYxjCJjGMImMYwiYxjCJnSRbBHPPsSD/McjI7r3VRpoWlKljYVEHd3Y7VW/QX3PoAT6ZWNf0aZ4vxGomMhIBMYLLEoaqCoDRq+7W319MrYjEii0mC6BJAiY3uQPU6DOJaVI1CBMaX32+W3KqfVdTq53aKUaqSOJ3hiVEkZJRFI0Rkcou2SQlTe40tdhyTfPAnhxtJEWkJEklExBj5cY9FVQdu7+Jh3PbgDK1pI3gO7SuYiCTssmFrJJDRk0LJsstNfrl86F1RdTCsoBU8q6Hurqdrr9aI4PqKPY5UwGLo4pznsJnY6Dwi3qlbBPw7+Jxmcr25R7qUxjGaiiVG/af4gSDTPFaF5Bt2Euj89njdVIDoaevpdiudadO8d6htRpzPIJEgPAdyqcggSy+WGMpS73EflWvi3XtDx1rBLHJpFRWUKpnkZS3lBidnlopBeexYANj4TTEqrULo/heTTzw6jdp5GamiRlJjke6DSEGoiFohvjG4rW4hQ2fX7Rw9F5Y98EZiDz0EZXzsLmAon06rntLcvnwfCty9N1iTRrIjBlI+YAgH7BuQMzMjujdSWeISAFTZV0PdHQlXU+9Ed+xFEcEZI5fa4OEjJSpnGcMaF5q3p+gi6hFJ1LqLloST5UbH4EX8tA/mqhxyxvvwBy50ZKalS45JyGwkycgBqTfUZG8wDK+PuoaiCaNdO0oGojbzCis5j8lkG5BRCFhJtZq4CjsaORXgzoc086zltTHFGbLs8oeZh2S2bc0fqxPB4AuzVNbUPwiTTrEodUj38BHZCUsDcFPlp8IO3giqJB69M1j6R/O01I680o2rIBzscDhgRxZFi7FHKRxNN1Rrpdy05nf8AC0D/AIfrmXlwkZCbHn6TI5L6IxnjpdQJEWRezKGH2YWM9s0Fkqq+PdbrIIBNpNm1Dc1oWcJXzKLqgeWsHiz6ZTeleOJ5NRpVnVWYzKqSx2vEnwMki2QykHdYqmRPh9RBeJNfFLJrPxQnbVx6grpyGISKNXpQBfw2g3WBzuBHe8r/AESfRyR6htQjPMAF07RgKqlbpmC18R4YtzfOTjA1nFrwYB0iZyuI53IyVgYOq7hcNdPtlvnovpnGfOfTuuxalZYuoPqNQIk2aYBuFcWQz2fjazW9r4WjebP/AGQa+WXRuJWZ1jlKRM1klQqGrblgrFhfpVemfamHcxnEd4/rfx2svlTDuY3iO8f1vlfayvuMYyuoEzH1urSKNpZWCIgtmPYDPSVwoLMQABZJ4AA5JP0zUvjnxcNSFVFI06OGUk00zAMF+GvhQEhxfJIBoULjq1W02yfLxPz7L61pJVi6P4vgl6gRtmjE0SRxGQACR42lc8BiUJVxW4KT27gA3zNC+FOj6rX6qCURyLDHIkhlZGVNsbiSkLAb2YrVrddz2AO+s+UXPc2XiCvrgAbJjGMlXKYxjCKpePgf/Cn8onN/QmCYKT9O4+5GRDatygjLkqOwvjLn1rpqaiFoXsBqphW5WBDI63xuVgCL44yj6nRamD4ZoXeu0sCF0b67FuRD6lSCBfDNnnO2cHiHvFWjJEQQJnMnIZgz4rUwFek1vBUgXkT7pk74CBrVH8pnFfcQQhq/Xj7g5B6fRaic7YYXQHvLMhRF+uxqkdvYAAGuWGXjo3TU08KQpZC92NWzElndq43MxJNepznsTA1adR1aoIEQAc8wZjMZa/hddo4mm9oYwzeVIYxjPSrJWuT/AL1O/wDfmd/JH5GCqqnefogXk9lI22SwPIXiXbZU/wC92Banu3lfpZIHFWwtyd0r4i6PIsjyxIXjm2+eErzlZBtWWMkiztAB5tdoKgknIaFpZDtTTagvEQIgYXjSQX80zShVAB5oWRw4BY7F8Zj8DiDiXlrCZMggSL3ziBBMQcnS/wDbZWWOEKb8C8HUhf7MujRn1IMKC2+u0L9aq+by3ZEeH+l+RGwYqZJHMkrAUpdq4H+EAKovkhQTyTkvnrMLTdTosY7MAA/ZVyZJXVhYrPn6dZIgdGWbbA7IEJNAqdoav8S032b659B5rb9ovhWR5Rq9PGXLALMij4iVFJIB+bj4SO9BK7HOcVSL2WzC0uysS2jX+v8AadTodD+ROk7Ste5w0LPUafO5CJ/mchE/qRk2PCOvKeZ+Eev4d8fmV77d/b6E39MsH7PvCcvnjVaiNo1ivykbhi5BUuR6BVJAvuWJrgE0aeGeXAOFvRb2I7ToMpOdTeC7IDx9tzt4rZWlgCIsY7KoUfYChnvjGa68ctdftc8PpJAuqTTJJJHIplIS3aEBgVO3llDFSR6AE5qTxRr49XL50OmRAu3csIJUIONzFQBR9q5r15z6gzT/AIm6X1HTz6xdPE8sOrN7kUMaYUVPqhFsL7URzfa5hagH0mOZ8vLLKfVXMLUA+kxzPlPQWn1Vc0axdT1+lGn0kKIhjEiR8xiNH3SFyAAAyWoB7naLOb70mlSJFjjRURRSqoAUD2AHAGVz9nXRZdLo1jnAWRmZ2UEHbuPC2OCaq64smie+WvIa9QPd9OQsPdQ13h7vpyFh8+baJle614u02mYxkvJKO8cQDMP8xJCIfWmYE+l5Yc0Z4l8O9QinkjWGWWN5GZJIl3bw7FvjI5V+aN0D37ZUrOe1v0CSo2gE3XPibxjLqd4d2WM2F06GlC9qlZD+8Yjut7fSvzGK6N4e13UCXiQFA+wyu6qimlY8A7zww7LXpeW/oH7KQ8Kvq5Z4pmJLRxtGQq8BUJZG+KhZKmrYjmrzY/RukxaWFYIV2ovYWSSSbLEnksTyScibQLjxVDPzp66mc+uOBAXHh/pa6XTRaZSWEaBdx7sR3b6WbNfXJLGMtKNMYxhExjGEXnIxAJAs1wO1n2yIM+sC/wBkhJDdq4N/CSC/qOKs13s9sm8YRQOt12pj/u1O47UA7gnbt3fH72DXAHP0MnoGlKAyqqv7DsP6n/Xtnu0YJBIBI7GuRfBr24z0wiZHdT1EiqBCoaQngHngcsasfQckAFh9skc4r1wihjNqvmEUfr8N8kgkLR3UAQOePUcHmvGbW6sceUlkeu2qW9x/tPfZ3Irce9c2DOhQHuB7fp7YRV2d9XMouFdu7cBYo0bQMC1sACGPy2yAVRvLDHdC6uua7X656YwiZhdRkkVP3S7mv6cCjzyy36evrmbnUi+DhFARdR1bMAIkond9kJO38/qKO4gfKwCnvmV0WKVd/mIF3HddgsWPzXRquwA9Ao781LV65zhExjGEWNrZ/LjeT+EE/wD2/wD5kSNZqgoZolAoMT8NqNxLBhv+YLXawCCObsTckYYUwBHsRY45GdiL74RRHTp9UzDzYkReSa+3Cj4j2P5iOfZcmcYwiZE6qTUCQlFtfhA+WqsbjywO42fcDYP4uJbGEUOZtUO8cbC+y9xyaPxOL42n0s2OO+dfO1XA8pPlBJuviAN9m9WA47elm7E1jCKHjbUMyLIgChviZaANcqR8RYC64qzXNA5MYxhExjGETGMYRMZCeMetjR6KfVUCY1+EHsXYhUB+hYjNG/tF0awCJNRLLqOpvUs0pdtsKsDUUaj4Rz/ILfAYDJKdMvMBfCYC2N1fxbqotbqEh0skqxFI9x87ygPLSU15cbDeS53MewVO9nLX4W64dXEZDDJCynaQwO0mgbjYgb05q6HIPGfM2i8Ta2F90es1Kkm/7VyCwAW2ViVb4QByDwo9s+iv2ceKD1DRiZwBKjFJQO24AEMPYMpBr0sj0z7UoPp3OS4bdxMnlaPK0/clWvGMZEpEzWfWOu9Q/HaldLHI0aFIwyKJBYjWQrRbZGd0htmFsNosbcs/jzUlNKUVirSukdg0drNcgBHIPlh+R2yj6RE00sE8SIhjkRTtAUeU7rHIpqrUKxajxaKfTKOIxjadRlIzLtRFrwOuewuuHiRwyR4iPUFbF8NNqvIB1vliYk8IOy/lDUSC9d9vHtfczGMZeXaZC9c8TaXSELPJTsLCKCzkdr2qCQPqaH1yWlfaC3sCf5c585a5jqC+oZY3ln2O27vTEWl0dqBAFWvQZDWq92OatYbCPxHFw6CcpvoI8YK2lq/HembUQEHUiNFkdgIZRcnwJECQNrLtaU0TVqp7gZYOieK9LqmMcUn7wC/LcFXodyAw+ICxytjNLbpd3zgEDgBf3NX8tXuJ478enHcZj6GIx7ZY0RJVctG6EHYRci80CVv4K9QaPGVWYt8/WBHhPv8A2u6HZeMc6KgAtNr3/wBpvY3zgt8V9IYzE6XqvNhimqvMRXr23KG/75jeJuoNp9JqJ1FtHE7KPdgpKj+dZoKkq94g8YOsrabRIskicSSvflRn+GlIMjD1AIA97BGQGp6jrrt+pGO+ypFpwt/TzIyx/UnOvRtKI4UXkmrYnuzHksT6k++Om0wkkareJzyOdtjaPsB/Wz655/8AW1sQ8hjuFvhn8i616eDptYC4Seiy9P4g6jBRZ49Wg+YMojlP1VowEuvQrz7jvl36F1mLVQiaEmiaZWFMjD5kYejD+RsEEgg5r3Qmi8fotFfYKwPA+lg17AgemSHhCUxdReIfJqIS5Hp5kTKAa9yrNZ/wr7ZPgsZUNXuapnY65T+FDi8K1jONnmFsbGM0T1Ppqo0ylFLxTyI1+oJ3RMx+qlD6/wBrmpUqinE6mFRpMFSqynMcRifx1st7Yz58/Dp/5amrvj8w/KL7+vOG06f+Wv0+pq+aHw5873wW7/kD/wDkH2K+g8Zo/ovSlaXTqECu+oRlIHaOKpZDZ7AhHF9ja++bwzqlVFSSNDCwqrQyo5gMwSJ3j+UxjGSLhMYxhFQv22Fh0t2X8ssRP/1Fr+tZoLrfVJNVqJNTLW+Vtzbb2jgAAWSaAAHf0z6q630uPVQS6aUWkqlW9xfYj6g0R9Rnzb4m8B63RuVaF5Y7+GaJGZGHoSFsofcH9Ce+XcJUaJB+fIUdQE5Krt6ff/sc3V/7PG7y9Z/Bvjr/ADbW3f02ZrLoXg7XauQJDppK7b5FZI19yWYf0Fn6Z9GeCfDMfT9KumQ7mvdI9Vvc1bV6DgAD0AGfcVUaW8I3Xym0gyrDjGMoqVUHxCTqNTMzNUejCoi13mlUOze3yMqg+nx/xZCzRBlKsAVYEEHsQRRGTXibQTQzTSojvBOVd9ilmSREEfKrbbSoBBUHnddcZBJNuO2NJJGPZUjcn9eKX7sQPrnme0aNV9eQ08wCdTEbW6yuDmr14J6g8um2yMWkhcxMx7ttAZGP+IxshP1Jyw5A+EelPp4CJa82RzI4BsKSAqrfrtRVUn1IJyez0VLj4Bx5wJ5xddrgi+M0D1LpX4eaTSugOw7TdfFDRMLc/MCtA/4g49Dm/wDKp418L/i0WSIquojB2MflZT3jeudp7hu6nnkWDzXpd422YyV3AYoUKsu/abHXz9ORIF1qF7452yFTXzNHwRyewvt3r1z202haaRNPEGRnbYtVRDC3f7Iu5vT5fWxnqOmzpIIBBOH7eV5bFiSbBD2UK9/ivb9RWbN8B+Evwi+bNRnZa4JKxoSD5ak8kkgFm9SB6AZTo4dznfUIHJbWMx7KVP6HAuOUGfP10JIFolWvTwhFVFFKoCgfQChkf4p0DT6PUQJ87wuqe24qdt/S6yWxmkvMLVPR9UJIUcX8osHggjuCD2P0zt0n4VePsVicH1442t+o5/n7ZNdc8HyCV9RomQGQ7pIHsRsxNs6MAdjHkkVRPPw2SYObS6ntL02Ykcf3Tj+aseDnnv0lbD1DwtLmnbP7cv7WxTxlNzBxGCudCLZ5PRqAPuFB+L+ZI/TM7wjEZOpM4+SCAhj/AI5WXaL/AMqPY+3vnhp+j9Rn+FYF0q9jJKysQPdEjYkn6MU++Xfw90OPRw+VHZs7ndvndzQLsR68AUOAAAKAyfA4Sp33fVBGw6dAoMXimPZwMvuVL5UPGPhhpm/Eafb5oXbJG3CTJzQJ9HFmieCCQfQrb8ZsPY17S12SzSARBWiddp44z++uFuRs1A2sN1WFf8y8DkFvuc7aCBZWqG9Qx/LAA112Dv2UfVio+ubyZQe4vOartlb9M7LjMeU/eP5Vo47FlnB3ro8p/wC0cXVVbwl4aMBM8+0zsu0BfkiTg7FPqSQCW4vaorjm1YxlljGsaGtyVUAAQExjGdL6mMYwiZAdT64oDxoxVwa3EDgC97AckkAMBYpmFfXJ/PCCBVXaB9/cn1J9ycIo5uvR1YV2HPIC18JI7kgehP2BPoalIpAwDDsRYzvWc4RMYxhFgdT6ikCh3uiaFV7FuSSABQPc+w7kZiL4ihN1uNBj+WztAPYm+QQeewNmslGhBYMeSBx7CyDf34Gem0ewwi6xOGAYdiLH656YxhFia3WpEAXNWa/1/ruR75Hx+II6G4FWIBq17Ma77qNcA/07Gpkj+nbG0ewwigdZ4iTymaLcWr4eO3AayPeiTRqypXvnsnXYwv5zQPxEAbtu0E9xV3fp/UXMbR7Y2j2GEWFpepRyO0a3uUWQR2BJUX7XR4PP0zPzF0umCbqJJZixJ72fTj0AoAfTMrCLG1mpEa7iGPIFKOSSaHfjIuXxEm0hQQ9cB6ABZQULkE0pv70CaydzisIoXR9cTYgPmN+UuVUAkFULGjXJYcDn6ZN5xWc4ReOolCKzt2UEni+ALPA75G/+/oeACTZr0/i2k3fNd+LNcixkxnXaPb/XfCKF0niFGq1YEkDiiBuBZRweWqgQL5sflNd/9oY+LWQXVAhbNgN6N7G/0I78ZL0P9fyzmsIq/ouuqd27c5JDAKAQqsdqrd9xVsT6k9wMm9NOHRXXswsZ61nOETGMYRMYxhFEdf61HpYwzAs7HbHGvzO3ehfYDuSeB/IGtzHWyASajVrpFPaKPb/Is43sR7gr/lGDKJdbqtU43Lph5UQ+w3PXsxfcPrtT2yE6h1ZHgml/EGJ1k8uSYISQVItUHovNAD3vk2Tj4rFOL+BpIExaZJkTcAkQbQLnxBtapUhEnr7e6moYNUDel6j5pUcxyhHU/f8AOP0ZcnPD3iLz2aGVPK1CC2jJsMvbfGeNy3wRVqSL4KlqqmqJkgiVXdGjL+fyGUiqN1wxs/8A75z16/qDHHFr7AfSyfvSPzIP7TgfxR2a9Cw77RkWFxrgRxG2oJmJtMm9tQbRkuqtEZR6dPZbFxjGbqprA6n1SHTqHmkCAml7lmNXSqLZj9ACcpul/aBFC7xTLqnBkZonMRBMRCtyH2MdjMyUFJpVJ72c3o0scrTdRmpySUgU8hYgfgC+xeg5Pue5CioDxRpjqI3YAeYp3x1Q+Jfyj2DC0P0bMfFdqtoPYDEE3zmJji2AmYFyRexELs0nuYSzPTaVsXpfUY9REs0Lh0bsRfoaIIPKsDYIPIIo5nZrD9k+v/fTxA/A8aygezqdjk+xIKAj02Zs/NcGRKrUKve0w+InTY5EeRTGMiPEnVvw0DSABpD8ESn80jfKOOa7sT6KrH0wSAJKmWGnWo0176Zp1PmIpVCfklHdL9C6FGCd/hY+uWPNTfgQYjG7Mxbln7OXJ3GWx2ff8QI7Gq7ZffCnVzqIQXrzozsmA4+MAHcB6K6kOPo1dwcp4TGtxBcAIjqN/dcNeHKcxjGXV2o3q/VY9OoZ9xZjtREFu7d9qj+pJoAWSQBeQGt/FSNvlMmnT+7jjkG73LyEDlua2WVFet8ZOkcNqtTqnAPkkQQ/QbUeQj2LOSD7iNfbOk8xc7mNnPNdtdpGlTNOm4hxNozgGCSdJcCAGwbSTBIVvD0eIyRZc9O8RNHsi1i0Sdo1C0Y2N0u8AAxM3Hpss0G5ANqynTRK6lHAZWBDKRYIIogj1BGSnhCdm0wVyS0TPESTZIjYqjE+rFNpP1JyfsXtV2LDqdX9wvI1GX3B/IgLnEUQy4yU7jGVHxnq2Jj0qkqJAzykcHy1oCOxyN7Nyf4Ucet5s1qraNM1HZD51yHioabC9waMypLqHiTTok/lzwvLFG7mMSKW/dqWNqDf3zV48d9VheOJ403Uv7qRN8rWAfj8t9wdu/CqBfC0MzfE8sEOm2vErKfhjjX4eaI4K8oALsj0setH06DJDqNMKjXabEiN8fxHl9xblySb3Hk3Z5zGPbR7nvO6OcZiPxM+UeKuu7MLjwipHlrtefmi2R0DXyzQJLNA+nkYfFGxBI+vHNH6gH3AyTyq+C9c1SaV2ZjDtKMxJYxSbggYnlmVkdbNmgpJJJOWrNqlVbVYHtyIkKi9hY4tOYTGMZIuUxjGEVC0kRXUdQ0vZ2bzY79RIN4P23ll/wCBsw9DNKWmQQKq/NG9imY8MHXurKeDlm8UdCeYpqNOwTURXsJJCup7xvQPF8hqO03wQWBrk/XIVP8A4xZdHN2YmgrGvQm45PaxurteYONwxa4mLEkg7Tcg7XmJkRucrtGraOnJR8DefC+mfVfvk5meIbQosnaGIocCifpmX4g016H8KNwfVuEQGywDgRKxB57bWN9ub7HOYesaENUDNqpLsIihufQlYlF8/mYGq7jJ/oPRpXmGt1gAkAIhhsHygRRLEEgyEEjgkAFuTuJzjC4Y1DbI5nSNQLDOMh+23M/atSPl5/hWvGMZ6KVRWrujRbIliPeK4jfvExiP89t/UEHM7MzxT08wytq0BMUleeAL2MAFE1DnaVAVvbardtxyCfVrPUGnkV5JCFHlEMUVyFaU1YUKu5rPBKgckgZ4PG9nVGYo02izj9J0gn/zrynIhXqdQcEnRWTwF0qMLJrQgEmodiG94gQiduKYIJL7/Hlwzx08KoixoAFUBVA7AAUB/LPbPb0qYpMDG5AAeQsqRMmUyheMJi+rWM/LDCGA9N0zOpP3Cx0D/jb3y+5TfGnS5PMXVxIXATZMigl9qksjqBy20s4KgWQ9j5aMONY99BzWZ/zfouHgltlpvUa1/wAY01nesxUf5Fl2bPsQOR7knvm1fC8pj1y18s0bIw92j/eRn9AZB/xD2ymyaPRGf8SZ0vcCU8xNu8EUSD8QawPh9x2y+eDunO8v4qRGRFUrCrCmYvRaQqeVFAKt0TbmqonOw5NWvTcwH6Re0aRHl8svr3teWcIiBBV3xjGba+qkqNuo1URFES7x9UlRWDfbd5i/dDmRmf4g6M0pWeFlWdAQN17JEJsxyVyBfIYAlT6EFlav6rqnkUNVHJATYXdTK5H5YzGTuY/lTh25peDXhe2eyq7cQ6tTaXNcZteCc5A8cvDxWlh67eENJuFIZn+CxenMtUJJZHX6ruKI32ZVDD6MMio+majU/AyPp4Tw7My+c6+qxhGPlg8guxDD0WyGFwhiVVCKAFUAKBwAAKAH0rNXsDsyrh+KtVEEiANYzM7XiNbGRcKDFVg+GtXrlK8WxldXG57SRFAfTdG28L9yrsf/AJZy65Gdc6WuoiMbFlNhkdfmRx8rD/oQeCCQeCc3MXQ7+i6luOunVQ0and1A/b5+FqP9oWmYxxyiyiFt/wBN1Ux+nFX9c9P2f6Zlhd2BCyMCv1AUDd+vb/hGWLXCbTqx1URCL3mjBeEj+I1bxiuTuFLfzEC87aKGfUgfhomVGHE8qlYwPRlUkPJxyKAU/wAQsHPM9xizSGF7o556RM55Z6z4c9v9RRjj4hHX36KV8GKW1GpkHyqkcd/4xvkYforxn/iy5ZHdG6asESxJZAslmrczE2ztXG4kk8ce1DjJHPUYWj3FFtPYddesrDq1O8eXbpjGMnUaYxjCLH1moEaF2sgegFk2aAA9yeMi/wDaKBh8w2kDm0I+JtvPxdhzz247ngGWlhDUG5AN16Hv39/f9BnpsHsMIoVOvQgqq3yQNoUWCT9/T1ABPI9QRmboeoLNe0MKqwauiLB4J4I7e/2zNVQOwGdsImMYwiiZetRqxVg4o0WIG3/rfPYcWaNXRrzi65CACFIDWbAXb3I5KmiTVirv9DUxtHtnhq9OJEZCSA3Bqrr1HI9eR+pxKLD6Z1qOdiqbuBd/CQRZHBUkHtd/XJXPONAAAAABwB9uBnphEyJfrcQZl5+E1Yo80TwAbvjtVmxV5LZ12j2wihF61pyxbjcprcQgPIFUSbo3X8+wF51fxJF8JF1VkWhPPAX5u93Z7fARycndo9h/rnG0e2ERTfOdsYwiwurany4mYEA9lJ7AngE/Qd/0yPi63GFXfvYAA+YVUD8os88Ebhde/HcXO5xWEURH16M18L8kiyBQpgnPPuews5MZxWc4RMYzo62CLI+o74RQzeIoLKHd3INhQO5FmzwD6XVhge3OeWr68pjHlEgtXPwnYvG9jyQCvy88FiAL5ycihVQFUAAds7hR7DCLkHOcYwiYxjCJjGMIonrXVxBsVVMkshIjjBq9vLsxo7UUEW1dyoFlgDhQ63WP66OE+x82X+v7vK31Pq7DqOoerWPZCB/hCLKxHsSzkH32L7DJeHq8LC94H0bg5m1caW1C1sW6qWm1jhc3WfLqdYgvzNHIfbZKn9d71/LPXpPWzJIYJoxFNt3qFfejqCAxRiqklSRYKity97yObqcI/vF/Q3/0yA6r1z95DJGKEUqtZ7lSdkg+gMbOPvXtnxmOJqAGINl9exjW53WzMYxmmoUyF6f1wSaibTshXYxET2CsoVU82vZkdipU+lEXzWR1vX+REXVd8hISJP45GNIvHYXyT6KGJ4GYUnQK0qRIw8+I+ZHKR/f2zNIQPR2ZwwHdZGHrhFP4zA6R1FZ4kkHwlh8SEjcjA7XRq9VYFT9Qcz8ImU3qviwsSmk20ppp3BMf1WMAgyH/ABXtH+IggZ/jfVFdN5SmnncRDkg7WtpSCOQREshB96zXGt1Ucmqj0byCKGviptl8EJEpBG3cQeQboAD5so4mu8PFKnmbk7Dlqfmyt4ei1zTUfkNN1Pnr+ov/AH5/t5UP/wCPJbpni5o+NXtMfpqEBCr9Jls7B/8AEHw97CAWa5J4V0A1KJ+Hh5idtm0UdrRgNR9aZvvyfTI4ayGDWHTQyBomF7d24I/xb4rsmto3BT2ph2oCB36iiOMP4ozBGnlqrAbRqng4eE7gytzg3yM7ZWPAc37h9Of7hyi/+mwEkQH+FVbyx/6eSfiPXNDpZ5kALpEzID2LBTtB+m6s0mPD2hwyN/VZzmlri05iyqvVvEepPU49Ppj+5V40kqPcrEs3nBnr4dqAUAR8QIN0QL9muuiRiCNmFnyJEJJssUVFMhPqzENKfqTmwlYEWOQexyh2Zjhi21HDR2WoHCI6z1XVWnwOhd8Yxmko0zgnOcj+tdTj0sD6iUnYgs13JJCqov1JIA+pwioGs/amksfl6aKaKWQgRvKsZUAgszUrmmCqaDCrq7ojMjpX7T4z5UM0MzTFxFI8ap5e8v5YIDOGomjQBq65IzU/VJ3OplmfTyr5EzPrFSZUvzJm8vZsvyyLCkx7rNknnO/hrUy6fUQSGCRpUYauzLGwOkKb3+BiFMu0swYtusjjHc1Z4pERl1/HoogyrOY65e+m3gvpzGYXSuoR6iGPURG45FDKSKNMLFj0OZuFKmMYwiYxjCLVXX4imu1Sn8zq6/5WhjW/+ZXH6ZiZdfGXh55yuo0+3zkG1lY0JI7vbf5XU2VJ4+Jga3WKLK5jNTRyxEdxIjKP0atjfdWI+uYWMwzxULgJBvZckL0zpKhYpGBZeSNAP88iqT9gCT9gc6R6kNwgaQ+0aO5/kgOW3wh4al81dVqV8vZfkxEgsCQVMkm2wDtJCqCaDEnmgvGGw1R9QEggAoAr1lK8X+ISmoi0SahNN5iM8kzKrbALCKob4QzENy3bb2s8XXNYftc8NyymPVwRtJtUxyBBbKtlkcAcsASwIHPxA9gc33TFs1Zwrab6rW1TDTrtYx1jw3VS0njjVRalJJJPxYjLBQ6qvzUCybAoVyBQLBqDMONxy7+LPEUUv4ONtRNBpNTC0zSx2JGoJ5aWASo+L4gBzwOxOax6L4d1OqkWKKNjz8xVhGg9S7EVx/COT7ZuLxB4Gin0UOlRtj6dQIZCL7KFIYeqsBz9QD6ZEwvLTK0+0GYJldnDl/q4SDyOrZzMa7DXRWxFk3RijvJVx8L9+GUjlW+xz6G8D6+SfQ6eWU3IUpm/iKsU3cfxVf65rHRfss1pkAkMEa38Tq5Ygeuxdo3H/NX69juLpmhSCKOCIUkahFF3wooWT3P1z7Sa4TK+dr4nD1uDurkZmItoMh48ucqB8dIQkE35UmAb7ShoVP8Azun6XlL6RqIdNqZxMyp5wXa7mlOwEMlngGtrAevPtm0upaFJ4nhkvY6lTRo0RVgjsR3B9CM1p4j6MUHl6wDZY8vUDhGP5d1f2Un9DfBNlRTxTXU6orgSIh28TM/PxcVMM5rmGk4wZkey8D4cjc/iVij8kuJPI8ofGm3lq9HJ+MLXsDyTXXrmqg1UmmSB0fym8wslEKrI0apY7Ek3t9kN1xnEeinEPkDWPsqgbi3haraG8u6r17/XPbw50e7i0Shjf7ydrMSHsbN3JJQ+RTwAASgrIHYoVQWUBLj9hzVgUe7IdVMAfLK3eB4iW1M3oWWJfr5QJY/8zsv/AAZL+KNI8uj1EcfMjROEHu+0lB/zVnt0bpy6eFIEshRyxrczMSzu1ADczEsaHcnJDNOjSFOm1mcCFmVHl7y7crXXSNetrJf7uVVo+gPdCfodxF++3J7p2tGlHlycacfI/pEP4H9ox6N2UcGgATFdb6JJp3eSJGl07ksyKLkiLcttUcyRE2dotlJoAqQFwNB1auIpUYDgoxsr9O4Zfs117DPHOp4jsvEcbcsr/tcNLjJw02jb911wbXEtz21nwWyEcEAggg9iO2drzWcvV9p2RiNXbkJF5rO318uEqT98nPC3QZFl/G6i1kKFEjsWqsVLGQrwW+EcAkCuSx5HpMF2j+qypuA1JiOQIz+wVSpSLMyrjkH4z1MMeinfUx+ZCEp0/i3EKBdjbyR8Viu/pk5nhqtOkiNHIqujAhlYAqQeCCD3GaSiXyxLFEjk+TpWXSOfMUagt+JV5DsCHdcgQEC1r4Vs500WkjBSORNM3I1LONRtJhChm0t7qWQ8jb8wY98n/GnQzoNTtYaIiD97CjRtu1CTTOAkgqnMdVRNBQtew48BeGfxmojgH4V4lMeqmcIxcKaB0t127gr2+Yi6rLnF9PF7+2fryUkrf3hjUwyaTTyadPLhaJTGlVtXaKXj27ZK54wxKihFAVVACgCgAOAAB2Az2ymo0xjGETGMYRY+r1AjUu3YV7epodyAOfc5Gf7Rw/Eaf4f8ovtW225smvpzdZN4wihv9oIxW4SKCBywAFnbx3uxuBPFVz2Iv36d1ETFiopQFq+53LuN+w5A+tH0ySxhExjGEUH1bq4W40LBtwBYbTsXjc3J47hRfcsKujnZPEEZAO2SjtPIXsz7Afm7XX86+YECaxhFgaHqKSllXdacMCOxsiuCRfF/qMz8xtJpRGu0EmySSe5J7k/69BmThEzC1+sSNbk+VjXNV2JN334B49fS8zcYRVMydOosdLBxf93Bdgn69+Cf0+oua6Xr45NyRqVCUOw2/ZdprjJLGETGMYRQEfWwJpA+6t4RFoehpm5Nlrv4RZ2hTXOeOv1WlmBM2lEtejxxMaALX8RoCgSLPI5HGWXGEVf0vUtLEreRCAo7+UsYWghfdwQAKHrX9DUjoeopKWCc7a54o2LB4Pt71/Q5n4wiZWZusnzHBcoocAWB8kfzbSeN7MQCD2Xn0yzYwiqnVupQS+SfLDPvBVykbtEBy7Ld7W/J7m7XcBy6P1GCISERKjyM8jKiRr8va6rfxXx88kkkAGrXjCKGfr8QBJD0DV0O5UOvrfN0B/25yZzGm0odkZifgNgehPoT716Zk4RMYxhExjGETGMYRMYxhExjGETGMYRMYxhExjGETGMYRMYxhExjGETGMYRMYxhExjGETGMYRMYxhF//2Q==\"/>"
      ],
      "text/plain": [
       "<IPython.core.display.Image object>"
      ]
     },
     "metadata": {},
     "output_type": "display_data"
    },
    {
     "data": {
      "text/html": [
       "<img src=\"data:image/jpeg;base64,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\"/>"
      ],
      "text/plain": [
       "<IPython.core.display.Image object>"
      ]
     },
     "metadata": {},
     "output_type": "display_data"
    },
    {
     "data": {
      "text/html": [
       "<img src=\"data:image/jpeg;base64,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\"/>"
      ],
      "text/plain": [
       "<IPython.core.display.Image object>"
      ]
     },
     "metadata": {},
     "output_type": "display_data"
    },
    {
     "data": {
      "text/html": [
       "<img src=\"data:image/jpeg;base64,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\"/>"
      ],
      "text/plain": [
       "<IPython.core.display.Image object>"
      ]
     },
     "metadata": {},
     "output_type": "display_data"
    },
    {
     "data": {
      "text/html": [
       "<img src=\"data:image/jpeg;base64,/9j/4AAQSkZJRgABAQAAAQABAAD/2wCEAAoHCBUVFBcVFRUYGBcaHB0eHBsbGxsbGxsgIRsgGyAdGyAdICwkHR4pIhodJTYlKS4wMzMzGiI5PjkxPSwyMzABCwsLEA4QHhISHjIpJCk9MjIyMjIyNDI0MjIyMjIyNDIyMjIyMjAyMjIyMjIyNDIyMjIyMjIyMjIyMjIyMjIyMv/AABEIALcBEwMBIgACEQEDEQH/xAAbAAABBQEBAAAAAAAAAAAAAAAFAAIDBAYHAf/EAD0QAAECBAQEAwYGAQMDBQAAAAECEQADITEEBRJBBlFhcSKBkRMyobHB8CNCUmLR4fEHFDMVcpIWU2OCsv/EABoBAAIDAQEAAAAAAAAAAAAAAAIEAAMFAQb/xAAuEQACAgEEAQMCBQQDAAAAAAABAgADEQQSITFBEyJhUXEFMoGx8EKRocEUI1L/2gAMAwEAAhEDEQA/AOmsovXyiYiI9Ck1FYllkkOY5JPTa0Ndoe0MMckijxApCdg5IAG+3nEGAzCVNH4c1C7+6RVrtzHWOToUkZAkpU148SqHTIhSY4ZAJIRFPFIBuHi0omK61+sSFKyMKlJcAD5+cUM4xYloJ3sO8XVlvE+1oxuf4/WogWFB9T98oV1d3ppx2epBzAuKmuSYP5JlykAL3PvdjQAevygLl+H1zKuQnxFt+Q84sYvP5uvwBkILNUudn9YS0qAe4x/SVFstJs6Q8xjUEaktzcgfLyfrEErAFJ1aq2LFzT7H/iYKTMVLZB0p1EAn/wAS5HJ2uekZvE5gqYt1Ks7bJLUfvSGzNKvcRiFctwetbJUE6XKlFnYMwDlquewTF/C5iUlSNQooAkN4qagWtalOcAJE0EGoDhvQvterebRFLUAQD4QfFa9Pyne78+lBHO4TV7shuRNlitBlhk1I3r6dYDYmU1oiy3HamBDsl9mpRzysR6Q+diBtb5d441i5weJj3UmpsePEZlawmb3H1ENzjeKqJrTUHr9ItZulw4hZhh5dpT7oABDsY9WBWotetIYqXUw5ctn7QwJqSnvd+vOLAVpDnlDPZ7DpB7LsnUrxKS4LU5/xHSZcuByY3hvBOTMKGVQgqHPcc6GOlZNgAhOs3NoD4RKEJExdQkMCLqP6U/doLYPPZSk/iES2F1FkjzMCLUVgrHuZGu1JY7VhesMfblAGfxnhUq0pMybVipCHSHFDqJAI2o8W8uz+TN0+zfUt2QoALsTuWamxh/evWRM1qLVXcQQPtC+p4T7wkCPWizMqjkGPYaI9BiZkj4UNfpCjskmIiMiPQYZqe0cknuukQzVtDpnOKc+sCTOgQVxVjCnCzNL1ZJIcsCRqJbZnHnHN8rxqpK3ExSA53oD7rnSXBD06tQ2je8SoUrCzglJUoJCgkBydKgT8AY5IcaA719Ca3YkOT1ejxUzHM3Pw3Z6bBpuMv4vxCSlJme18bFCh4iCU80gghy3i2qDGu4gz1OFlGawUpwlKXuS9/IEtvHOcjkAzJM+csolldNSVspYYp0mtCQ5JNdNuRbiDOMLMlqlkTVgmikpA0qFQfEQd7NY9Y6LFHcX1VPqvikdd4hjh/iqbMUo4gIQgkAWbxMxQpNxXe9Y1c9DORHEcCsIWJiiqZpUFlB8KCxsQCSH5A2e7xo8444xSmEuYhI/MEJT6DWkq5V6+nXtT+mVp+GX/ANQA/WajPMYUJ0gxicRMcmAhzibMmeOYogEanU4YbeZ5MOkEpB9ooJG5/wAxlapWazJ/SU2U7G2g5M1eQ4UCUom66/wPvnGcxmCUmaWJYl1jU6TV6jt8jGn16UhP2320DcwcEhnJIFq1q4PN29d4ZUbQAJq0LsGBKWJIUVTE3IY7gOD/AB8YA4paqJJolj5EP9YKzUKJelaPbrX0vA5SHLtW7bQYMaWRyJtnIArW7b/RvMQ5EwNuCCSGrUsGHofWIlSHoEsen3WJsPIKiUixuA/w6+sTidz5hBGKSPcoGLXcud2Nv4MEQjWklJBUOW9WgfKwKlFmINgkbUao7bxqcmy1Qan3SAdVcYMX1GxlwZh8XNKJiFPTVX5GNE+uWDyi7xfwmpUszpSXUkOtIHvDdQG5HxHxAZFidctt94XsQqBnxMmg7HxI57ambz7QwkElhFrEyojwUsFXiLCtTBq3E2UIIzLOU4AE612FYKzsxABJVolJ94i5/aKVP8xXkIXNUESx4bBt+fl1inxDlakTAlanQAChqA8z3f6c4NTk4i+q1GOF7/aWsPjpuKT+GsS0JolCQFLAvub7Ftwa2glgsjlkvOM5TsQVhtJB2Lt97RzvG4VaFFUtTcw5HoYtYPijEyyy1rAJejVIFA9mtQbQfpAHcBBqdCoUEA/bz952jD5PKAGiWk003BcXYt1jzEZQgAlKEhSQ4YtW4/zGVyDjdCw00JCqClyTQDrUH1jTo4jkqOl2IISX2J79fnBkoVwYtbTcDjkyTJcxVMM1C21y1EU3SSdJPWlYLpEYv/1SlGLXKSAxI0g/mo/hV1JUwtcCsX5vHOGSsy0pUtaQdQTpcEVIAJdTM9B2eJRfn2nOR5+oiCVu5IUZmnAhNFTAZmicBpCkkhwFN05EixB6vFuHAcwWUqcGKFChQUGJRgTn2JWmSr2ZCVGgJdnIOl2ILFTbwVUkxVxGHCkqCwCk3BqDFeZ3ExmFz5coSUKCTNmTAhSEKdKgTpKwwYEAEv8At8oOY7N0y1aAkKUAFLdWkJBsH0nxHlyrtEmHyPDy1apcsBX6qqKRuAVGgPIRmOO5OlRMoKUqZoSoosjSGAWdnIFe77A2cMYPKiOzrNkTFAe0XKRLIExOr2atRslRT+U923vAHIMiwk+YuXMlnVLdQUmYDqTqZIKkEaqEVICuZN4t4DhSYpBOKU0xYGtIYgAe6ksGJH1PeD+S8OypGrQG1M5JuBt2+9oBmXGAIablOQZR4hyZaperCqKSwBl0MtYSQzBVJahpHiDH1rk+J5apcwgI0hQ1aSXKXrRurBxSneOoIlOrkPusYPiXM8MqcpegTU+zShKvAoJAK1FZSTqAdb6gHASTYvFDV7+RHdLqvQbJ5BmM9q1VGnl9/bRElZmKAQ7bn+KtesW8uwUuZNmKKitCGIDAlQJZwkioDVItTnBPK8B7aYuXLSwCqAukqABcOLMwDxU6hOB3GrvxJ7favEGy8MlIp6fz1jYcF5SqZrmaXAZI67qb4RRzbJFSEpC+VD0cqU3M2HnA7LOOJ2DWZRSkoTZKqX8VFDm96xSqszZHOIpZQ9OHzkHzOlzcuWmunaBGKkK1At/UMy7/AFOwsykxK5fcah6pr8BGhw+dYKaxRMQonkQ/mDURYeO+J1NZjuZQ5ZWlAxEUp2BIezi1r0v6WjoU2XJNaRj+Ic4lodEpIUdybDtz7xwuoEvGtzM//tCA+k0NGNTb3Rcd4s5LkmInq0y0aE2K1WT0FPEpuVa3EHeE8kmTwZk4MhXqodHqlNfOOgAS5SQkAAAUSBSKAWc48Re3UvYcCBZHDcuSJfiKiEsokCpHa0Tz8VJle8pCSxNSHLByw6CsU+J81UZSfZq0kLTqLOdJLFutRXvFLAcLy5jzNYUFMrU7l7gvf4WMX7SCAonUUEf9hxiVMfxqnUUyULWRR9LCtKBTfTbmIyMyXNROXOVL0IWXI8KdJYOSAaai59Y6RMyiVKZSZY1KIZ2favQUT1qO8YrjPFaQpKB4UuTQ1U3vEg3djXkI41fPu8xmumlwSM8c5nidCw8CVrCpns0MTvyT1UdoD4LMZi0sl0mxUXa1k81Gw71i/gCEinOvMnmTvArVs7llG5xxwPrOh8PITLDXJFTT4cgOUe8V5f7SW4DlHiSem/wr3AgdkWKeNcQ8sG+0cdeMjxzFL02NOOY8kH3XB5RZ4dwMvEJmImBxccxQVEMzuQZc6ZL2Qo6aCgIdPmxELhrE+ynKrcet/wCo6bMrxKa2y4EtDgpSTqSsqRtpv5gxNKwcqUHOoq/ft5BtrO4faDGW5t401IrsWqR8nHxg3i8Ph8SnTMASuwUKF+hjhVmGQY3elwGFJxOeZznICDpSCoe4o3QXuk3feM9gMWRNCjUhWp9yQXv1aNVnnCU2WTQrl7LSPmNogyvhYuFTFDTuw8R6dIi2JWuG4MHQ2JUfccfX5+J0TI9cyahQJI8J1OG06ByLEsQDY+HdxGwJgPw/h9KCtgNTAdhRzzgqId09m9cjrxEtTarv7ehE0KFqj2GZRPVzAC25iBKVKJ1W2ETg1jxRgDOiQagktHPeIfaSZ4KVKIIWFS9D+0egKKeKij0f0joS5e8Ml7naIpIMjAEQHk2XqEuX7V9YQHBL6ae75W8oJiVqU1HAiZSq8hHkkArJ5AD5v9IpvYqMj6wlErYiQQClQIBBB8w1I5bneEmyllJw61VcFOoy6I0BdN9NGUQANnrHVc0xLO8YrE5i5ICi1aO/wMCLgI3Xo2sGQZjspyUIlmYu5J0JP5Q7k+vyjU8FaRMVq94vpPQGw++cU8SNYYKTy3AgBjROw69YSoPZSXIpyIHR68oQAsZyW/SWVaZlfDjA+s6BmU/2muUplBVZZU5DuQQS3bw8yLgxyjifDalO7lNNTMCHZgAKM+59LQfkcTBYaaHaoUmhfmRYn07xLjJ6JqVKUdRKSHBoseY/DLgEgXa8HUzVtkiaracWVFP5mc8OHWmrHyrEslazYEjlzPQQTExIUoJ90Es/J6bmC+X5XoRrXq9oskpFglJuWbk1evSHXuAHuH2nmmUqSD4ljJcEJSNaj+IdhVKOn7l9dtuZ2fCfDZnqE6clpT+BB/P1V+359rv4RyAzkomTQRKT7ks2XX3j0+faN7icQmWlqCkIgG1smEgJ4E9nTky00anwjNZpmOp+W/L1iDMczBNnBdwDehjN4nFFKk+zLhRLJtXSK17keUMBcDAmrptLjkwjiFqmSJktJ8ZSpjQh2LeTsIq8P8ZKkiVKWR7MJADguzMAGvWgt3iph8cuWrUCxap2D3BHPUPsGMxiMLNRNJCgUallJoAA5ID7UbzPqLKTyDjEHXVbSD9Z2nH5pJDLK30iiQXrbuS5tHKuJsaJhWdjagcvQaSa8zTlAhebLJWHKiqjhwQKFyfL6w1brID0SKDyZz6ekRQzEFozpKwlZBHJ4/STSCAlmbby+9+8WcNLsDv1++Rhk7B/hpmDc3NOTeQrFn2YABSWaj9b0+cG0bXAEL5XcDd2HnHQ8B4pQG4jnmAYMX1blqRscjxQIazwHxM7WJkZExvHcjTOQv8AWkjzSb+ihGUw69M5B7iOif6hYV5YmD8ig/Y0+ZHpHNZymKVciP4+sL1jx+kzM7WBl9eMKFlvLyrGyyXH+2klQUSoMCDzd77bVbzpHOsWtlvBbhnMvZTU6lMgmvLptY27EwwnAE9IALK+O+51DL8yMs1J00oRzsCDUUq8E5mVSpzLR4DcpDModtjSAQQxcFn56QDueVbDrbeCOGnqCdQJ8NGp5XsK2+MWPUrjDDiZF9KtyO5o0J0gABgKNDF894bhcUmYKkauYt2+nkYlUCCx/wA9oYrwAFEzGQqcGRaOh9YUSQounJM0RmJSYhUYCSNmKpFBazFmauKc0wJaGBIJ8/SkqWoJADkksAOZeH5BjJc6WZktWtBJAUHAOk6TfqDAbiHCrnYVaEpdSmOnmxsOu8O/04lqRg0IUkpKVTAQQx/5FM4PRj5wvf8AlB+Z0dy7nyixaMJNSoKuOdL+cbzP20qjn2JX4i3n50ik9zc0X5YxSDqDK0h2DMXMWxKUCR7RRUkbjwh/KhqYqqxSEEBPiAY0pWlajp8osYnFJJc6a1c0PO4F33go4xMG4vCSlklaBqdlEeEnuRfuYC47LFJH4UyhuFXfoR0baDeYT9/v1sYFHEM5HZmp846rEQHQEccfbiDcmwKvautLJSzB6KUN35C58hvHRsmytOIWlASSlLGYs+8dwml3enTejRnsDIdaWAASl6W79zHWuG8uMmU6vfVVXTkl+gYevOFrWNtgnnLAAxAl1hLlsGDBhswtSMlmualamTcduf8Ag+sFM5zIHUkHoPT79IxGKTdzVTjlpo1vQ+cMgBRgTT0enGNxjVrmKLJu5pe55dKU6PvEeJSlKaF6DS9GNzXkSE069ItYeSEhII94Ed938692EVsVJSZiQQQTfYlgLUv9epjoOeJpggGQYf8A5CFXUzivIuWGz/4gLxVggcSASQnQksXKQSSkkeSR6c4OYUqU6iTqNKEBv0gNcOX9eUQ8T4fVLlLN0ko7hiR3A0lj+6CB5g21q4AMBIw6UgBIIe9mIYERZw8q50+Ijwtcc3ewhklSnCWDJZief0ieSnRqWXYj5uDTzaIZwACSqxwWpSXosBJ521U6Om7bx4jEqTYOBU/fP1sIZKwynK9JBIo9WBrR+fPvECAQ4UANQZqU608oHuEohGXMYON+3J41fD2IJr2eMVhl6aPt82/xGkyVTMXFXp8vn8IFpTqFBWa3iLD+1w60/qQfVqfGOMTapPUR2lUz8OOPY2XpmLAsFKHooiKM+4zCsGJSnHUEqiNALw78pTyV8DWHSxdPMU7xeOJtaGwlBOscLzjPw6EggrQG8T2a1Nx9isHZSlBxMCRe5cigJFhTxCMdwJLMtKlmia7+dO0HMdmClTiwGkJFdnc26s0WpYNvMpurJsIHXcLSk6TqDsprgirm317vBrDTgpLLIpy2/iA2CnzFNRgbUqWGw9KmkFpEsJFPswa+7qZ17Do9x+n7aFD3hRfiKT1RhiocoxEpVYEwhI1ikD5xvBCZA6eCKj7ECYQkOHWCGYhqMYv5d+bv9BAlEz8UpejA+cFcAaq8oWu6H3hQJxKqhjneIFSX7x0TiKuqOe4kFlUdz5c/KK/M3NF+SVUIrEmJYpUAaXv6fJvOIgklgCBEsoICfGTWgYXs/faOk4jrSpMWANPT7++kVQ6lAXD/AGaRZWUm4+u/WHZVKUuaEi4elCC3N46fymUWqzKQs1HDWCMzEoAqn3iOiWpXbU3lHTMyn+zl0u1I4th+KcThpimTLCgSPcALPZx2EaCV/qKlaWnSlJPNPiT8aiK6kKnJmUNE6sCeZdxhKj4SXc9fu8UMXKLs91JJNN3Avys/WLeEzLDzRqRMTqd2cCwpdm5Qp41JCXBN/PVUdKE+RiyaiHHESElSEkAAgKHZReoF7vEGIwxXM9yumhvptqYWBIF4KYSWSKBnHS5DFh93hqJUzWQoihLaXcjcM3T6R3qBu5mbSPGp0GgdRJYO9E3r7oHQB7w/GyAvDLIKnQtKgDsPcLU5E3u25ES5ohV2AINbCtxbcWrsYsYKQFoUgltQIYhmoxI+HoI6DzGM5XMyeJUtCtBG7O4P3tFopHs0k3SLc601fGIZx9o0wgagWPMNQgjYxfw2KRMRpIYpoL+Knun5vBGACcZlI4tYSzO9D9IpFwu7/wCTT0aCkzC7oUD0cauvK0MTh0t4iByq5fk14GWAiRYZIZzufqP4MHMvoXeBMsWbb1gtgJssrCd+d4BoFilhgTa4b/ieOWY4PMmn/wCRf/6MdRWvRIJeiQST0AeOUJxSGKysEmpAIJJvaFjkscD6TCsRi+0CU5kplDkafxBHLMAVrD+cORhTNCdKT4rd3baNxwzlKFSkKU+svqSPf8JZm2ruaQasSdvmMaW30dytxPcMghIQkMBfvy9YOYDLlEOQ3In7qfh8ouYXKwlWpTMPdSLD/uO5+HeCyUw9XV/6lN+sLcL/AHlXDyClVOVTcltu3S1YuIltbvC0w8wyAB1EJ60eQ6FHZJCC14as8okUdoiIiuFGLMU5nWLa1iKkxYdoBoQlCXLCSZpsx+dG5RHw7mHtJk0dQ3ao+EUuKsUZUohAc/Bzb76xjODuIZiMbJlzKonApHhZSSSWoP3IZjzeELEe1ty9DP6nzJkAzoufyztvGDzGRpURsR6R07M5JUgERhM0whqSLGC+Zr6KzjEygQxIL9OsRezFDqfkOXP5QamSEsxDjZncecCp6EpJufOCBmnuzKqkVDWgtwzhnMyZ+m3nAmZOS3av38Y0+SJ0yCTv/n5tHT1BlbMMtE9yzTBY8+h6de8YvMJcwLKJg06aN9Y6fJQGGoC1CHBapr6uO8NzTIZeJQE/nbwrO9zpV5b9HEdTiL6pd64BxOU6Uj8+k92i3h8zxEuqVk94sY/Il4eYAsAJKgFKIDpDhx3axFwX2gLPAUtaUPo2an2IYCgjOZjhra22qTn6TV5fx/MR4ZiH+/u0XkcVImKKjM0F6bG3M/dusZDBZYo2BPRqc4NYbhqYpBUZZtSnb6PFTlPE06Uv7bE2eEUiaCoLCipIBYpINWDPa79IMYbCBGhJq1XqByvHLhlipan8SasCHTWtAd7H0grh86xEqmsrTyWX+N/nFW5QYFmoKMVcY/yIM4owapONnhBKQVamDgHUAohuTqPpA6RjVoLqqHJPnBrO8z/3EwTCnSdASau5BNfj8IGGW4oKc4s9TJiqWOHwhyJdTjkLDBQ2jxc5zazWp0sN/nDMLlgLKI0v+Y/QCCIVLltp8SnbUan/AOvLeOFh4mtXuIy0ZKkqW2rwjtX77wUy+UEKSQPMu99+UVhigk0Ac7m/8RbwcwlYfZg/nuYraMrDnHWZCVgykHxTAEAf9w8XlpCvURzjLZQJJLUqHLE8tJ3Iu3SNT/qJhZk1chKTRKDTZyQPoPUwNybh/ErZAQlibqUNIDVLV+X5RBBkUHkZMzKHRbGDHE6RwZl2qWFzEDwEadwwSAGNARRqDaNUjDpS5CQCS5IABJ5nmYr5Hg0yZCUJKVN7xTRJO+kOWHSLgVDNNYyW8mZOpffYxHUWmEmPHj0CGIvHQ5oYBHoVEkj4ULUI8iSSKZaI1iHYiYlI1LUlI5qISPUwz2qSHSQQd0kEHzEAYWZVmAC4irNmMX5bxNiMykoJSubKSRcKWlLd3MA8xzFBUEy1JIepSQR8IS1lvpVkjs9SxVP0g7O84ly0TNTqVRwkIWodShRDpvysWtGHkZGZyxiEzgUAhSSgFKnB8J2IIp25wRzDL5ilzGw4CiFKUvWkSWbTrYDUFEXd96CBWS404fDzEFwvxM1PeQpIKCQQVMSQ1yGji1BKlFROCeT3339pXgscY5nZOHs09vLZdJqPBMSWBCmd6FmUKjzGxgfnGEqeRjnWFx+LwWLlEIBQoaSlKgPaJpVIUaFJBavvBQdjHVpcxM+WFJNw9QQeoINUkHY1ERlCHA68Rimwo3Mw+PkEOLtZr/3ATEyiWZLgbExr86k6CdW1owOdZvpUyKrOwsOpgVBzibC3qF3EyFUrxy0blVB2qY32GwoTLZ2+RLihjBcJ4ZS8QJi6kOf6EdBxksiWo/tBoDz36gAekG3cKuz1BnrMHZitWkJFFP4iLP6xS1qVLZC9K3DglnCWLPsf75xU9pMUoai6SC5HTmeYcdS8Ok4YkOVM5vzDPAniOKuBDSp8vFyvZzdIWA3i330qbqxB2IpGBzHK1YSaxT4Nt/InfoY02ISJYdJfqzV5cvjF9Al4qX7Nd7B2o9Qe1frBK/GDKH06gh18TO4Z1odCyKVBDt3/AJjUcJy1K8ROgpuCQyvusY9pmEnFKwPDbcKBsRzHMxocrzNc1YlSUJD1U1Kc+lSB5xSV2mduPsJB4hTFKkzBO1S1MCPdY69NwGcg1AozC5YmMbN8QJFhc7dusa5eNVMmacMgNqWF3CUsWcE2VqD70+FTH5Soe9Uda+sAp45mKqG58sZkZOBVMP7RuaJ/uCJQiUBQKV+o1A7CJ1kgFJFGb0rAjFJJ+7Vi5TmbFVCIOJfUStJqALGrfO0Qow1WDH0cfxFPDYsodLkuLbPs8X8tV4tRLUr/AF1giMS7qQYiWUqdRYCvft6QXyZWtYIp237wOzJtVXV6c6vBjhuSx1FnJdhQXjh6lin25hviqYlCpRP6PrGalY//AHOKlyX/AAgXWl2CyC/i6Ut1gx/qCl1ym/8AbJbz/qMpw8gysZL1Eh67C7hq9IAINxb6TDqAOoyfn+86lOylSFBclSkKSXYKqQ6XLfmBCLGKuB4vVLWEYtAr+dIsS58SeQDVHWkGM5wc1aETcPVadJKHA1IcOAdlBqHqd2gPxfl7ypalApmqWlNAanZ2BND8vOLMupyvUtT0rRtswc8fIm1Cnj2IcBIMuVLQouUISkm7kJAJ+ESmsaImKwAPEegw8Q1KY9UW2iTkfCiP2n7THsSSZHi1SyUtMEtKWJJSlYKbFICgavdiDQV2Ob4ZzCYZuKMoFMoJuAdHtH8JD76TXyfaN9PlpWnStCVJ5KAUPjDBh0iWqWlKUjSWAASkFqUDbwHqe3EsRAHDGYDDTZAllM1BW/vlKtNlPqBJHJ7ve+43OhJlpWpBXrd0lRQ6PedLovWtXuLbuzclJDhIZ3b3QQQmrkuoMAat4IzOZTFrVolkKBuoMANyTYD+oqDBuO56e5alrNhPEI5bmSp+hMwkpBGoO2pjQHmCWBEHpSJS5mmdLUULKVJWgKOlqVCTuLtUNuYxmQzdCzpWCyQUqDfqA/N1IPkesb/KZSUoCj4iTpSAWBJ5sawnexqwq/MS0dStQzeT/BL2PynDiQxUmYkH8M+MrQFMBLH5lD3rixI2jI8PcRTMvnqRNdUlajqLupBKiAsDcNcDkGqGO9k52ESlABK2LAgMhSnZWhveCTR9yDGF4rxyVTCdKNFHSbA/mNAS7nqKWimrcrEMc58fT7RL/hWHJEs8ZcWImnRhy/7x9IyEjC1c1J3h2CluBSCsqRtFjvs4EWyzcTRcHYFLajSv9fT4wQz7GLRMSj8pufgab/x5Rfy/CCXJQ26QfWv8RDj5AmJHhHhdjyeLBwJs0gLgeBxKS8EEMQqqme1RT5v3gFjMV7NgwYKIf1If0g3jZCgL1AAD9Gc3raneAmOkAlwAQS+9N2PL+onmNo2ezIv+qFaNICbsaen+Y9wUw+7z+d/sdopLkgCpIqbVNP4gjhEag4NDc/1t/nvEIxLNwxCWOwgxEv2c0VSohC9w9u9GftGcWufgZngYpWjQ5Dgh32INCAQY2WCllSg4dINHtt9+cGzk6J8somJcEHuNv4glMy9WQVxAHB+fImJEtYSmYOVAv9w68xGoxeGTMSY5vn3DM3BL1VMt3SsXTyfl3g3w7xVaXOLKsldkq78j8D0tCtiYMza7CpkeZ5bpducZ/EYUu1B0jpk2QmYHDPGazDKWekCjkTXo1IbgzGpwLF2N7RaB0it+Q+Zi9Py9T0emweKpwrbbReHzHdwMjQly5qfgY0nC0t5lRTaAkuUXtGp4ZlMoEwJbmSw4Qy5xPl4XMQrkhviTGYx2WKC5c1KSrQVagHcpIvStCxps8dIxeE1KfpDsJlyQXasMJUST8zz4u2Pulfh3NJapSdawFBmtQKs/e/xgqkCZpmKqAXQKtuNR5uDSBOYcMypkxMwOkpUFKAbQshrjsNjuaGDqS0X11sOG6H+ZTfYrNuXIz/OI6EmPQY8TDEXjhDtMMMe6/UxJI5oUeaY8iSSmoQHzbFaUsLmC2LdqRms3XpWVKolKCom9q0qK+cZutLbAqdk4lgOIOmYRB8S5aFHmpIJ+IgPmOBStKkhKQCCCAGoaEUYh+kW8dnCVITNlTHlL0jSpLLSosNJZ2V4hS3Uw7CIKqneMq2q7RsCx+2DC9XeMczFJydUtblmV4UBI66q22TTvGoGNRKSkqchDsHuq5b0bygnOy5Kwx++0VRkUoHUrUoj9RJF+VoJtetnL9/E0NNq1qr24MA4vNJs0aZSCAm2wIsGJ6Vp1iirJpi6rVTcN8H5RtDKSmwEDJ+ZSiSlK0E8goGImpdvyL/uVW66x+BwPiCpOACdou4LC6piE9a9h9iGieCY03CGA1rVMIcJDDvQ/SDr3O4Bi6EBgYTxI0JSAD7o8qQOKverQu/eDOZSVEkxncVhludII3raNA4zNWtwRKmOmsk1cfERYzLIzLBUJlzR971+EV14IsXG/pBfMcixExRmJUkoWygCpViHYhmFesLXluCplWptZQNpmHmzAFNpT36jlBXKkBawnnQM1Nrbt0ETr4ZxBXVDh2cEFg3VoklZFPSofhrSK1p/LQDXEL3Ev+Xd5M1OX5SoMVMU7MfsiNFKCJYo0BcsmTUJBmaVgsxYBQ57lye38Q3ijD+0lOglCVXKSQSeRbY2artHRqcLkyl72f80pcVcSyyhUlCUzVGh3Qnudz0HwjmkzDUZo0WIy5UptQobEW/qKeIQGeKPXLNmVZzK2V5/NkMlRK5Y2eo7H6GNpl2eSp6aEHpuO4jnEwqmLTLQBqWWD/dYhxeFmyVawoslZRrAKSFtqbcFJG4JFDDy6Yuu4cSxLSpxOsTMClQpFCflOxtGO4f40mgqTNSFJS5UsFiANyGr8I2uE4glrYE6X/VT5xU6NXwwx+0dTUkdGUU5SHg9k+X6SIcnES7uII4GegqERSue5a2qJXEKqlVHYQ1aeV+0WpxBSkiIzaNdMEAiZTHJleUb6mcUeJL2hJlgkkiHpMWQZ6lLR4k1hMTC0xJI548EJPSPQraJJHaoUNpCiSSnPDuBFDFYVMwFKxXpBcJEIoEUsm6HmYPEcMpQQXUpKfdSSAhO76UgB3AqeQjxCNO0biZJeBmLy0KtQxk63Q2WHcCT8H/U6MDqZ4GGzFUizicGpG0U5nWMJq2RsMMGFM9n81ekBLl3oN2Fj0vTdoxs19NUgLcNQgv0BqI6RMkBQINjFBGTSkl0pD9XLdnNI2tL+IJVTsK8/vAK5MDYCUpqxssi4hRh5fszLUXLlQbfpAhUgDaIFohYXEtuELqa6bxbh1D3iD1SofFmioriLDF3mS35FSR84ykyVuWAFyaADmekCsTjZYBCBqILOQyXvpu+punPlDdZZzxmWK7+BNpOzqTM/DlrSVKYAJIL1D2PJ40Cs3UhAAuGAf0tHLuGMQJmLQjSygH5gtU9rRs82ntQXfb4j4xftK9zQ0qC1fcPMOoz1QFQl4sSs+SaFMYteIUQFHlZqny+sQIzBnv0/uJ94ydEp8ToUufLUHSdL7RZ1EpIKQtJ2jncrMinxPQfGNBlHECVUeu77fzFL6dW64PxE7tCQMiX8TgEhKwQSg1SDsd0m/M186tGEzWQZZUkggORW46GOpSWmJB3EZjiTLlaitnQoB+h+/nCTVNUcnqZboVM5fiJJJCknSpJdKuRBeHf9UmrXonq9ogEsioAckk93LvBDN8uVLOsAmWr4ff30BTElEwHYj/P31jV09pK4B4jWgVHuAcZmrynK5eoKlqSmYp0+NFSySo6VIKdQo1RdhvBbH5SUaQoDUXcCo8juP48oGcPr1ghVUghw6XfUhiHSa1FrsR320jC+2nD9Kb7h7lujvFWuKisYHuOAI9+I0118KAJcyDIpaZTzJaST0r63i4MllXSFp7LVTs5MFGYMNoTQ3RpVSsBgCfJ+Zjbj4kUiWUjTqWoD9Wn5gCJkh4cIiSCS5aHEUKMCcj3j1o8aEBBSRILvDohY7ekSJTbaJJHGEEw7THlokkTQo9hRJJGqGgtChRySSGGKTHkKBhSCbhwYDY7KgappChQpqaEdfcIQgHESCktEBMKFHlmGCQIUrT4pm8KFDFfUkD51P1KEgFt1cj0tDsHkqgQSoBA83HJm7+sKFGohwoA+k9No60FAwO5fyvACTi0FLOlKi/MFvlFvGpUte1VN67+sKFFoPAlNChc4lTEzNHhRQvXvQU9RAo4lYLFW7MNu1IUKDEcTqIYlWllV6ih+6/GLuHnlIJTtX0P8x7CiGRwMTXZRntUg9LerGNXKmCclum+8KFAMoK4MxdZWoPEEZhlCFIMshkk0eukk1A5A+faMjO4YShWhdUiqSCxY2tbcNChRlWOa87ZmD2txLOBwCJXuOSaOdu3peN5kmF0SwTc3hQoP8PY3akb+cZkexnPuMvphwNIUKPTiVRJVDV0rChR2SOCo9EKFEknoEImFCiST0Kj2FCiSRNChQokk/9k=\"/>"
      ],
      "text/plain": [
       "<IPython.core.display.Image object>"
      ]
     },
     "metadata": {},
     "output_type": "display_data"
    },
    {
     "data": {
      "text/html": [
       "<img src=\"data:image/jpeg;base64,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\"/>"
      ],
      "text/plain": [
       "<IPython.core.display.Image object>"
      ]
     },
     "metadata": {},
     "output_type": "display_data"
    },
    {
     "data": {
      "text/html": [
       "<img src=\"data:image/jpeg;base64,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\"/>"
      ],
      "text/plain": [
       "<IPython.core.display.Image object>"
      ]
     },
     "metadata": {},
     "output_type": "display_data"
    },
    {
     "data": {
      "text/html": [
       "<img src=\"data:image/jpeg;base64,/9j/4AAQSkZJRgABAQAAAQABAAD/2wCEAAkGBxMREhUTEhQWFhUXGR0YGBgYGB8gHhoeGiAgGhkdGhsZHSggGRslHhsdITEhJSkrLy4uGiAzODMtNygtLi0BCgoKDg0OGxAQGy0lICUzMi4vLy01Ly81LS0vLzAtLS0vLS8vLS8tLS0tNS0tLS0vLS0tLS0tLS0tLS0tLS0tLf/AABEIAQ0AuwMBIgACEQEDEQH/xAAcAAACAwEBAQEAAAAAAAAAAAAGBwAEBQMCAQj/xABIEAACAQIEBAMFBAcGAwcFAAABAhEAAwQSITEFBkFREyJhBzJxgZEUQqGxIzNSYsHR8CRygpLh8RWishYlRHOTwuI0NkODo//EABoBAAIDAQEAAAAAAAAAAAAAAAMEAAIFAQb/xAAxEQACAgEEAQIDBgYDAAAAAAABAgADEQQSITFBE1EiYXEFFDKh0fBCgZGxweEjUvH/2gAMAwEAAhEDEQA/ANfifGriYi8DdvBRdceVzoAxGgJGnpX23zUwcDxbmugnMZ+SE61l8dtMcVfAEk3bkdtWMfP0qzg+H/ZyTB8QDUsIPwE+6Pxry1rAMSSe4IBsy5iedbVvEGxevsHVZPhOxBn7vmAIYDzbafGvOK5pcKrW7rtbyjI2Y+YdCT1Pf1070J4rGLgzcU4exee/qTdQOFIMsVBHUHT1Emdqv4zgSWcOmKwSE23RXuYd3LRIktZZ5ZXBJ3MH5U8tC2Vgqxh2/Dx5jD5e4pcv8Nv3bjNmHiDMNxCjUba9aHcJYxl1lAv3QGMCbj676hZmIHWtfkO8p4Xee2wYTdIJHYDRlOoIIgg/61y4JjBauZz1kA+pljH4mB60/wAhFLe0Cw5AnfE8MxFq3mW/dd4kBrrj5R3+MVlf9r7qOEu5v3mDEQd4I6/71tYjjMsQflQxjeDXL9x2RcynXcbgR/Chrdk8SEAS5jeOXmt3VW5czNGRluHyxr0P9AkdBTDXFrasC5cMBbYZjv019SfzpIY1L2HYhhlbL7p29CD1+OvWmbzviCvDkc6LNk3PRZB+maKNTkAkzqmCXHvanft3YtW7arOzgsfmQwE/DbuasYf2vqGQX7KqpIDMrnSeoWDtvE0nOP8AEfFuuwmJ09B0om5c4NhHwyviCM9yQpYTt8jA9dKrZYaxuJMsuTGzf9pmGWGCXWQnRwBB9RLA/hRLwfjlnFKGtNI7dQd4I6GvzpxfFNhCcO6gqRNth/A9RRL7FuKMcf4WuVrbE9vLGX8z9TRKrWfB8Gcyc4MdOMuEMQCenWsfjPGTZK2w0MwJliSAB6A6k1z58xTWrF11JEZJI6CRm/ClVzJxNrjKbRneF7TG38qHqb2HwL2fMb09Ab4m6EY9jmsFV88XGnNmJIWDG3WelXOX+L3MR4kNJQgdYM699DpSf4thL62rJAYN5pO3vNIzfD+NFnLnFBgrdtFuB2uOM6xrJgaHv9dqXS5g4LNkfKMPQpQ7V5+cadm4SrzIIXadRvBn5UlMRzNicPaLNevNJVVbxiZlZOzeU6RGms6U5uHzkuSZ0/gaTOHGHu4c2MSCAxzFtjI75TE9gNNKLrWwy56iun0b6h9qeBmThPMGLxQ8l+/niWAuvpqR37AUV4c31tfpb94GNxeaZ+H+tLg4i3hc32U3RO5Z+g6aAfH+hWth2xWKQAsVB77n4mknx2CcTdo+wkUf8hGfOSePpNQ80s+ZRfvCUOVvFYanY7yo9YprcqXGuYPDvcMu1pCxnNrAnzH3vjSJPBDhmVWPihiCOkEdDG4jptTz5QulsFhiRBNpZHbSmtKV3HBzPPXV+jYVi05sxBtPeZTDNfdV0/eJYj1Gn1rHw/FVQlvFZ5iVaew6GZg9mE1pe1jCOhF0Dy+LcnTbMQQSfXLH+9Le/j9Z/KgmoNkYBE9R9mnTDSBbBnOc9e/UIOJY+27+ZZjvuCd40I7fStHA8wkFFZ4tCEg/dUbEdNJ/DegzHJctsuf7yq4+DCfruNe1WuBI166gHQhmPoNTPx2+dWFZrXg8QvraQUlNgwAf39Y+eXbCLw/EZFAzeIxA2LFRJj1qpwPgiYlfFvSFtufDAYgll0LMVOsGQAOx7xVvldP+7rw/8z/pFZ+B4stmyLRbVSx13hiTP1JpmxsVAkZni/IBlbm7hvhrmtvHmEj90nXb0rawWLS0gVWEULcV4l4hVYJDOoOmmpEyfhQ3b4pcVFjzQNSTt9JmllXA3KJYkY5hbztlvLbgAuGP+Ugz+OWmNZsK9hUdQylAGUiQQRBBB3FIa1xV8zMwzT5YJ0B1KkAdCPX+EP3Afqrf9xfyFOabPOZVezFDzbyLglvXGRTbRMsoASJImQDJO4HbT0odVVsZXDC5h1MEhYa2T0ZexinBzpwp7ts3LP6xRqI3G+3WNfqfSlJwng7qb5uwRcQoVDAhiT5YA6/zpTUBgx3njwP0jShNmc8ynzEUx962LAJC6SB3pn+zzktcIReIh4+e1efZzymtlM9xIYbCKYIEVoU1hECiCPcC+eMWoPgvot0EMY2AA/MkUobFr7K73CcyIQAT0zbflTJ9quGZgHScyH8GGoPpoKW/DuLm0IvRAbOVOxMRJ76D8+9JahH3EtypGJoaYqVAB5nXFcdu8R/RICRGsdh8PhX3lbBLbum7euENbMoI2I2ma4YLHeC/2hBlW4WGgIjLBn4EP+HrV61wZsVcF0KYfUaGDGk/hQ66WY+mowO8/wC4Sy1EXcTnxgfpG5ylj2v4V7jbkHWNwMwBikQ9zLaQD9kHX+v6in5y3hhasPbGyoB+DTSG41gb2QFULZUEnaSfQxGmsb70XULjahP9Zb7L1tenud34yDj+socMvK+IS2x0Jk/Lp8aY3GOKIgCpAET+GlKBA1lWcmGnbSZB09RH8KvtxjPaUs8t1XSZ+AqlunLY29dR2n7VW3Js+ZHtiEWK4uXuIo6sNPzp8coGcFhj3tKfqK/OfDLRRGvuDoNAO/QD1r9G8mj+w4X/AMlP+kVfToqkgTzuovN9pYdS1i+EWrshwSDuJ077UK4rkHhaXld0K3Gll8xAlYmB7s6zHXpXLiftVw1i9cstYvk22dCQEgm22UxLgxNeLPP9jE+YYDFONAHyW/WCrG50k6jvTQWseBLA2L1mXMVypwq4ZfI5U9XBII6f6elXMHyhgSD4YMAwcrbHsQNjBH1r1g+KYVzlaz4YPm8ygidR90n9o+mp71kca9ouD4bdax9nukzmJteHlMgGdXHSPpU21nwJXLHiF+D4RbtWWspORpnXXzCDrWbd5OwrGSHOke/0r5wHnCzi8G+MVHS3bzZhcyg+QAkyGKga7k1WXnmyTAtvA3YlAB31LdKj2VpgN/KDYL5nmzwHAWywDlTbYzLkQRDHfdRIEjSdN9K8WeT+H3JCSc3mgPuJgkek/mPSuOH5uwV17mWwTkRXZoSDnLmJzakMpJ9YPrWweIWLLytqGNsHSJ85AVIn3ifwUT0rnq1e4nNq9ykns+wQMhXkiPfPT/YUU2kCqFGwAA+WlY68x2zcFsKxP3joAvYEk7+nqK+8x8yWsCqNdDeckCB1AnXtXa7Kzkqeu5dVycCa964FUsxhQCSewGpNZy3sJIufoQxAbMQoaDqCZ1G/XvQ4PaFhbqkC2zqRqJQz3BGb+hXocfsswBwbAPJznwwOh1809B03APSodRUOzD/drf8ArCd+KWFIHiLJOUAHrGaNNtB/CrltwQCCCDqCNiD2oPfi+HDQuFYvOby5OpPmksNdzO+8a1d4JzVZv3DYt23QpoQQAF0kDQ9h06VxdVUxwGkOmsAyRNnG8Mt3pziZ0Imh7iHs7wF4hntt5RAhyPX+NFuapnpiAgPh+W+FXLS2wfKGlQXIMsF76mQV0/lRJguAWbKC2gYKNvN867rgbKai2oiNfhEfSBHbpXaxjEecjBo0JUgie0jSakk82MGqBgJ82h/r50JNybw9TlJcZPJJYhQSBoGIy5oI9d+xg1Vpqre4fac5mtqTMyR1iJ+MAD1AHYVR60f8QzOEAxeXvZtwW6czO3QT40AyAwjodCNqsW/ZrwdIYEw2gPizMCYHyo6XhlkRFtdCSNOp3PqT171W4lhLFqyztaGSyruAogj775YIgkidxrXSq4x4k2g8QXTk7hflQOTmPl/S6E7CDsTJgfPtRpg8OtpFtqDlQBR8BVfB8PsZUdbQGzrI1WfNA7AE7DQVpVUVIOhIFA6iExfCTdx2KY6/2m6qg7a3CSY6gDp1oxXyXEw9tQxC5mBmY6mZAj1P8RWTx12sY5+kXHY9vOSw/wCoVtXjktl9RcbXNqTr7oj9nby/x1rJ1lpVsRytN2BMrG8QxC3IBVFzKAoghhuTm10gn6Vy4/ypZa3cu3GuXHchbZ93IACWMZjn6DXuNKIeCqt0LeCqSwbU6lekDp01rE5ixswmgVQYAGkyQfy/Ch6a9t2IS1VHAHU9coKbPL+O6lRiTPeEkUIcJ5ja8qLdW2WCElLRWYGvmEjNp+zLdgaNOD//AG/xA90xJ/5KWnsu4bbvM2aDBEyNfh6jr86f1YT0t7DqLV0i19pmmuES41z7M0pftMhBUqbbAMIIYCQVuOQR+wfhTC5c4i/2bxXAe4XYkt5YWAEzs3ltjLCk7lUEAkmtjivLds2JEqygEOuhWNdPpttoKAMPxhCjXcQ7OFzqrLnRS6mPKjAKusyY3O/dVXZkxt54/wBSNSoX4Dn6zS5kFi5YIa61y+ZzNZyraTMMpUC4Idcvk2MgmYma0faP4Rw+BF4jISNCJJ8g0DfcPr8Yg0CYLmDwrF2+9pbuVrircuux8VpzZU8wzW1GhJ7IAJOhv7WWnBYQgaHppGqAgFSGzD0pipG2MDx9JKeHGZjWDbW34KW5tOfLmkzP7zT12JOle7+NOHfJiArAgFTuD67bz/ChfiXNjvaRLSlWBB1Ggy7j1rMx/FMTiYBEEQQe2uhPYH+prP8AurNy35n85uDUVrwPyhrc45Yy3PDJS8ogTMGJIBB6STtVfkDjLX+KYdreYh8wvaGBFt8pP7OsDWs/Dco3sQVuYi4EXLuupPpE6fPX0FHnJtlbN6zZUyFkCFyj3TJiSfnUqNVTqBySQPp+srczNW2BgYP7+UYzb1ic08w28DazN5nbRE7nuewFe+L8YFk3BIDLbDCdpLZBPpJG3rSm5v4t9qxbMGJRfInTRdJj1Mt863mcDiZeh03r24PQ7/SeMRxfE4i611m8x10GwGwEzA9KIuDc2Yuyhzr4w6BjDDXWI30B0+FVeW0tQ5uRohjpqP6NZGMx5kC2YHf89/h+JoZyBkdzdeiuxTWEHH77jq4diVuotxDKuAw+B7jofSrF64FEn8ASfkBqaGvZ9ig+FygEZGIk9c3n0/zR8q1eJvqF11MSOn3mP0/KrO+1MzzbVbbCvtPGB4lanwy5zlmgMGEk+YKCwiY+6NdD2NDnPvNVpLd7CAEu9tkLAiELqRr1JA1rjz1xE2bLhTEg3Af2XX9Ira/vDbqDS+47eZ7t4vo+Ziw7GZ66kQRuNunSlTqDtwPpCCobsw/5b9oyX7tu09sIrwqtm2OwBkdTp6TTCr8ycLcqyRoQ4+Wsem39RX6ZFMUOWBzB2KAeIuefsBDfaAJBOR/SCcp+BGk+g7155f4kz+e5oSIUzoY3I7SP49K68bxXEi95EwYe2WdRKzmWTB1bqKEeC8N4ohdLmCuBIOUwupnSTn8sCdhqY26ra7Sl/iTuTTWbQVaFpxtnDXWulGymAQhGWSfeySJY+nY0H8RxrYm9ltrmuXWhQNJnb0AA/AGrWL4FxAiBhbh1np6ev9RWZwnlXiBvTdwl1V0GYxsTqdCTtQtJpmBwYS6wdiMTGcI+x8FxtqQ0WLzE9ybXm+WaflFIbkbil7D3muWbPiIADcUGNAdGBOx12r9G8cwbXeGYqxZttmNi5btoRBPkyqBm+Q1r8/4fkDjVsQmFurMgwyCQdwfNqPjWlZWGUpjiL1uy4bzGbwv2mpjbgw1m1cRj7zXAoCjrGViSfpWpc9muFexlVrtuQIK3W0IkzqxB1YnbeJmKU/B+SeM4e8t5cHcJXQ+ZNR/mpm4fi/FUtkf8Ovlo0Ga3HzOeR9KzbNPZXZ8AJGPB8xtWVk7APziS5uNyxfbCZjksTbA/ak53cjoWY5vQQOlOf2roTgcD5iBpmjcjwxpSv4j7PuM37r3rmDuF3YsxzJuf8W1OX2g8BxGIwmEt2rbObcZ1UrPuAR5iBv61oFSK8ef8xdCN/wAop8Gs+VFgR8/XU6fwH7xqPiTPh4YZ3J98bA/u9WP735UX3PZ5i2C2ykKRLwRlHoTMufkB8K0sB7PLtpw6jUCAOn+/rSRqfk45jysnkzFGKxFg2Va05BgTIJmJJIGmkE0S8ucSW7j7C65hmOxH3GHXeqvGuXseDbNq0bmVs0SBMggglj2J/CtjgvLN9MXZvXFgWyx0P7SMusdNR9BSVelcWKSuOecfWO26mpq2GRnB/tPHtOwxzo4MeIhtz0DKc6T8fN/lpYXcOx11JgMfiRr9DOlP7j3CUxdprN0HK0ajdSNQynoRQVxH2ZtKth8QZGn6UTp2lInXowNbT15OZmaPULUeYDcHu7owbWNvx/OtTBcvPiSy2NZmGJiCN5kCR0kTW9w72fYo3A19sMFkTkVmJHWM0BT/AFFMDh/DbdhQttAoAiesep3+VVFZJ5jd32kx5Q4M9cLwa2ba21AAVQNOpjU+pJ1msDjHMFizdKXWKssn3SRHQ6DWQenf0orQVm8Y4FYxS5b9sNGxkgj4Eax6bV22ssAB4mYj4OWgPiMKOJRfBPgBvJm8vi5DB0Pu25H95o+6PemO5bsYm4928IuPuykzMZQYHl2AG3Su/GOVcVg7AXhjuyZiTbYqWGbfKzD3f3RGpmhNsHxwn9TdH+Sl/TZeMQ29TzmWOW+TLv29EPms2yLpuRAIBlVj9osIMdBPpTpigLlHgGLdPExl10fUIoAUpsSylTBnbzKRptR9TFSbRzA2Nk8Stjg+Q+H70jaJiRmjNpOWYnrWan20FR+iK65mbVhqY93KDCxqAJPQVqsxmvmc0aDmULmN0GWzM+YwQIj7vmJ30M/Ka9WGxmZcwt5M0t3KknTQkAgEf5dzNaec96mc96kk7VjYxcXJ8Ij3wRmIy5OwAXNPck9dPTVLeUmqjXm710DM4WxK2I+0sukIe6wTIyftGIP6Tt93Y14t3cZJBS3AOhGsr8cwl+uwGvSquP4/4bZAczdewrlhOZSWC3IE6SDp856etcJAkGSOpp4RsTnAuhMubdeoysT/AM2QDrHzrYqkLx7184pixaTOzZVGpNQ8dyA5l2sfFfahcY28pUsBDxAEDVYg7hpzE7iKFrnON13OTyoNAIGY+pkED4D8a0uWuaDefwrsBj7rDTNGpBHf8/zSTX1PZsBjTaWxV3EQh4Ub+U+OFzTpl6joTqdfpV+uAY17QmnYtOlYdsYtR91tpzxMwJIKQAkzoZMH5VuVyu3AoLMYAEk9qkkyMLexjhSy211OYEEGATEQ5gmPoR1kD04xYLAeGQXaGO6rIKTrBOpG3QVn4jmC6xPhhVXoSJPx3j5RU4FzNnueBe0c+42wb909m3joY+EqLramcIDO4hLanKM28Cfj1rpXK+SFYjeD+VI4878QIDfaiAZ1yJEwD0QmBMxv8aNZaEIB8ypIEb2I+1C4xt5WSdA8RECCuWDo0zmPXSvto4vMAwtZc3mMHVesDNofjO3WlRgudse4C+OWmJZFSRPQDKc2s9I9a0eT+bMZddlvYhmI6FEG0CdF6z+FVF6k4l1Xd1G9UoI4tdxly0Ww99ldZkBUOYbA+YQPN6+tEPLN282Fsm+SbpQZyygGeshQBPwAowOZwjEuXrgEzVNeIozZFZc3xn8tD9axebcQ0MAYAaCfkGCmNpzfgKH+GXCblpoglwI27fz/AKmk7dQwbaI9TpA9e8mFXGMXNvwzBJ3+unz0qthuOtbjOcy7a7/XrQ1zBxnLiHXoTKnuBp+YP1FYXEeOKRof67Vl2XXi7Knrj6xHYxMdFq4Ht5lMgiQaH8bxtUYqozEb6wB+deOSrzNw0E+9FyJ+JK/mKVmC5kzgkTvrMz3271uiw7Afed9PLY9pscRxbo7M2uYkz0k9D2NecAt3FMRbgBd2Own8zXLgmG+3Z2cxZQ6kblt4HwBEn1olwmDt2ky4diknNBM5uhkmTrFB5buEJC8DuE3DseCFVt4AzA6EjT5E/wBGsv2muwsWY903gG/yNln/ABR+FVcIJAYSM2gX1nf01op49gUxFk2rglWEHuOoIPQg6g0R82VlfcQdRCODFXYOlXeDoWv2ivveIsfI67f1vVh+TcUphGtXF6MxKtH7wCkE+oNeGxowNzJby3MQPecjyW5E5UGhZoIknYGI1Nee+6WVtufgDz+k3DejrhOSfH6w44PxQ3r7rsoTptmW7ctn5wordWlfgeOXLU5DlJJJ7aksdxtJJ+dFnKvMBxJNu4AHAkEdR1071rabX12Ns5zM27R2Vru8Td4jjFsW2uPsPx7CgfifNL3xkCQhMwASTGokj/Tau3tJuB2s2zM2z4vzYPbH4ZvqKG8DcgAiD1b5eh3+Gnzq2osyxXx5hNNQpTewzL6cWA0Kx8QQfx6VlcYvEMHXSPMreo1keoImu11S3Y/h9KrXGEFGkqw1jceojQEVmtp1PK8QtulVh8HcaHAOKjF4JL/VkOYDoyyrx6ZgY9IpBrlOcSSWIIXQAEaPmWQFEadNdj1py8g21t4A2w4YqbhPSMxLLodtD+dIvDxdyZlILAHsSv3omB0Jn4CO+pZyqk+0yHGDgwh4Xw1r0+GwVbZAz6kTuI3JYb6aba1b4iTh8Ul85dTBYAiQY8p9QZIGum1X+AWYwyBY1kmI11gHTfQCuPHLuSyzT7vm16Ef1+NZS3n19vjqMpSBXkd9wx4fjJBXUhte/b0n4D40bYKfDWe1Jvh3GJUFZ1/Z9I7j4T8KbPLtwthrLHcoJrcrbMqw4zMvmjhTXCLlvVgfMkwLgEwCehEmDQxZN/OVs4W6rE6NcPltz1EAZyOhplNanrXj7P6/h/rXHoVm3Tq3uq7QeIJYjk+3esqlwnMNmG4P8qwbPsx88velZmAsH6kmmRZyuJR1Yd11H1Brp4B7j6f61c1ITkiDDsOjKvDsEtmx4aDQAxQlxrkPC4l2chrbsZcpAzHuQQdaOwmkVyawo1JooxjBlCWByIE4Tl5MHaGHsTHvAuZJP3pPf8NRXK/YIuZmEKonNPajVsLbuqCDmXoykfDQiq1rgduQxZngyMxEDsYAE/OaGyZ6nQT5lHgnDwqhisOZJncZiTGu0TBA7VrcRaFWrIw47mvOKwouAAkiO1XOMYEqomUL1Jzjl1rWNxCvM+IXHqrwVI/KnYuAtliouSw3EiR8R0rH5k5Hw2MAa6zoybXEKhgOoMggr8RQLqRam0xmi7033Rb4XjBCFAxyNqV6SKLPZvbL3nu/dAyg9ydTHwH5irVj2V4VSJvX27yUE/5UFGGB4ZbshVtjKq6ADakdP9n7LA7HrqN6jXB0KqO+4Le0Ph7kLiEGYKuS4OyzIPwBmT0kUBeKCPKfkxiNtR3OnSnmRQfx3kTBXZuS1juUYBT8VcFR8opi7TEtuXz3FadQ1fXUXID9FI+Z6en9CrWEwzu2VQWf9lAWb6D3R6mBRjhvZlhQZa9fcfs5lUH5qgb6Gi7hXCrOFTw7FtUX03PqxOrH1JJqqaVv4odtcxHwjEyOV+DHDYds+j3JZhp5dICkgwSPTSSfjSE4lxWyLxyIfCyiEE7hcupkzrMkHrMDYfp24sgjuI+tLNPY1hhl/TOcu0onTbWJ+lMPVwAPEzrdznJgLwnmIWUa1cIVkbQxCkEA6EneSZqtxHjqsVH3ZBM7HUGD8RP0phP7IsO1sg4m5+84CgnLoQ0aQI7V9u+yHCvP9pfywGgLpGsazl8p29Zpb7mN+7EsLH2bcQC4W4tOwTKUOoIPfYb6nLBkSDr2NPTlUzhLH9wUE4P2O4a2cyYi7B20UgdRl0219aYPB8AMPYt2QxYIuWTuYpqtSCZ1WOMGXqlfKCebuLXDmS2Sqocp/eP8vSr2OEGTLVoXOBCC3wdEuWnQ5RbEBYGvlKjX7u5JjcxO1a1Ir/jd62wKXGBB6Ej8jTM5I5hOLtkP+sTf94HY/H/Sh13hziEt05QZhLeuhFLMYUCSewqje4hh7qMhuKVYFTr0Ig1646W+z3si52yNlWYzGNBJ0FLpeY2tOlu9g7qM7MoIIKnIYJDECQdx3BkUxx5ijF84UZhkcBhi+drjM2urNOpnUCIBE6RAECK5/wDB8NEeKfeLfdjVs0EFYOgiTM7maEOL8bxHhsLeHIJ90hlOmkxqCWGugE9qu8n8f+1JDoyFRu4yz/dDAEj126VUMpOBOsLVXJHPtD1cdaAAzjT413uXlWJMTtWCbA6VY5hxosYfxIkiAoO0mAJ9Ovyqz7VGT1KU2NYcYnu/w61cbMXeJJyg6CfeI0mT3mR0Irg3L1giMz9NjA0zdAsfeNLq7zPdBzNcaZ6MRHwA0FG3J3MH2q22fVkjXuDO/qI/Kl6r1sOAI3ZSyDJl9eBYcMW1aYMNqJUg6LEAaRAgQSBArS4fkRFthsxAiTMsdyTPUmTVe64rxhf1i/P8jTWziLbzmazOBuRVXFIlwRnggyCCJB20mRsSNutecX71CPOXM4wYVRGdhMnoNvqTQ2YKMmHrraxtqzfbgtkxLv5Zjz6jMN53kHUGd6u4GxashgjaMxcyRoSAIHYabUpuE+0om9bS9BR2CE7Fc2gPwkjfpPzI8dztYtvlysyzBYR03gde/wAKoLVxkwraW1TjGYwVvKZIIMb67VnHmTB7fabP/qL/ADqvwPHW79q5ctOroQRI7iQQexHakrw3hF3Eo1zOLaBRBcwWB6oIkiOu21VtdhjbFsOSFUZMbOHbh15vJi0uMc211DJMljAG+pM9OkV4GJ4W2fLirOghyt5JyqRox+IGu+m+8qT/AIuMIDasAZnQoXIMqDuVPc7UR8Cvpg8GttVAvMua4+maeqz0A2j0+NRrcCGp09lr7OiO4zsHxzA27K5MTZ8JAEDeIsaaASDE1rYXErdRXtsHRhKspkEdwetfnnAcQKm6ttFIvGNdlI95gNpyz8Jp28hj/u/Df+WPzNSqwsTkQbKVJU+DiWOPcYXCpmIzMfdWYnuSegHelVzNzeGzQkSSSAc3qdY7zRH7SXfJcZDqkgfQH+ZpeYjGWbN/DC1B8NbZdh95mYFgeh00PxIoJY2E5PAOIRSa2GJXwjvi2iysxux0UfPv6CjzkWwcJdJuOJK5dNtTOp6bQPnWTiMQi3Mltrdi27Eliug17Dqf51Xxj27V+19mxTX85AdcugXXzSBvPSltxVsr4hbL2YY8Rw8WxRXC3bg3W2x+gmkzzxxlVs271p87qwJk9xGnbXWm3hWzYFs2vkYH1ER+VLHgrYbwXD27cCcyFRE9QRFaJOUDQFX4j7zzyZx+7jwAFgKdWbadoUbtvPStHiGGvcNY38RcN1LrwHyxB+6hWTHlEDXWO9DPLWIaziP0VpjaaWUqJAExBjY6Aj40Q85c6W1wvhyS4dMwO6+YEkzqO3zoDj4tsaVjjdDrgWK8S0CZBPQg7dN/rV3mnBePhjbHvEAr8V1H12+dBvJXGPtFtAhLEjfWNevYUY81XymHJUw0afEwP40ypDJgjjn+0SZPTsJU8nn84guYfFRipR5BggKenpFFns+4k+HS6rWjnbIVYnykQ07bZe25kVwbBy0n61exlwWrauWgKYMnTzaD5zFKVYr5xGLn9QYlzG8cvpLG4wO4MmB/gPlI9I+Yon5L5hGMCtAW4ph1HfUSPSQR8qVnMOOZhoa0PYvinOOy6xlcn5+7+U/Wmw3RHnuK4yOY6cZ71KX2r2LeIKGXtXEJVS4GS4u8iDmEGRqO/SDRb7ROY3wD2nyhrLyr9wdCuX1InftS35v4nbxVlmttIBkR0IoVj/wx/TVlCrno/wDkCsChS8pb/wDGc3xI2g7R1+Vad/Fm4SZ0nt/Dv/OtflngBxOH8SNMzL9P96s2eWktHVTPrMf60I1lsGN/eUQsrd5jG9lNl1wFzNszMy7bEa/8wO/5RQJxPjpVFsoMqqoWOugAid42+gpi8isfBvg9FEfRqTLKUtlXDO0zmDSddxHXWrWAqoAimn1S13FmHB/Kd+EoruzMwBSGWROp0Gnpv9K2OB208Qi9D21GZQG/WE7qZ1UTqSe5r1y3yqpzXMUcmgypMaEBgWjuDtVHmHBW7bBrLEaElJkHb4xQ9mDmaYSkE385+R7GJd43xUMbivaCQAEFuCqCCNIAgkHf0FOblfCrawli2k5VQATvFJTlzg4xJ8S42W3mGZGMO3QCOi6f1vTz4Yf0SfCuV6hfUKn6zJ1VisfhOZj8y8Ka7JVc07ilzf5HutcGW1lAaSYHx0p2CqmPxDW0LKhcgqAqxJkgaTp1nXtTHoLu3QPqHAyOouLvKlyPcDDsas8M5YuZ58IWwdyNz8KMsJxcu6p4NwEz5spyQDBMnXtoQCZ20Ma9cOmQnJlS0zjhgmHZI0ynT5UuOKcp4RnN0p5juMxg/ETBpsVXxLZUZguYqpIHeBMU0pAGMQDoWOQcRIcu8Ut271xdAfEbTTvWhz3xKwmG8WEJdlQyBMH+WtMy7xS2GeLDsEAOcIIMjWCYmNJ/0rieOIdsO57eUZTC5pzCRHTv1ig+n8WRGvVyu0iAvKfMAuBFtkE6BQP9OnSjnmph4ag7NIPwIit5bSjZQPkK9MoO4BoifD3zBW/GcjiJLG3rtokFRdA2YHK0fvDKQT6iPhWTjLd3FxbZAloGSsyW6amBp6RT6xjLbXNkB8yg6bBmCk7dAZ+VZmI4yiK7Gy+VDBOURrtudtNexgVRa1BzISSIl25VJEeI2XsTMfM/xo25A4YmHvW1UbkknqfKd/5dKO8Dj1uOVFl1AnzMoA0/H+R0rSFsDYD6UYMozgQRRjjJgxzrw1cTauWmEyBHoRqCPUGkQ/Ll+2zIHCqZDA9vh/Gv1BlFVcWERSxRTBE6dCQCdugM/KgsgJzG0vZBtHUVfJxFi2tse6Px7n40XNg0cbCtN+KgFgMMxysQIA8yj7y6a/6rrrWthWDIrZcuZQYI1EiYNXHEExJOTMfguFFtb0dVH5NShwOKSxaT+x3oRApLWyk9iWYSCTT9yjtWZxrEG0qlbXiy2UgdPKxU6KdC4VSegYnpQrELdShUHuJewt5la94UWei5gT1zeUdB/H4msbhV0W7zXIBQa5JnRTIBG1PIcYTWcO4CnL7g10liJ0gaf83aut7iFpGVfAbzKG9wdQTl/vQNhuZHShmgnoxg6h2rFZ8dRLW+MhrzXSAstIH7I6Cnly5f8TC2X/aQGq+Axtu6yr9nKhpIYoIgCZJ/DSd171trbAEACqV6XYxbPcVRNsUnO/NPE8HfKrcVUdn8Py2zChiBJK9F116UP3vaPxN7ypauCNA0WkImBOuTSdT863OeFbFcWtYZT5balmjpmksT8goHxFatnhNtVAtqFA9Px+NdckZOeo7pdN6vxMcCBDe0TjFonxnZZnIPATXt9zWuB9pvFlyl7sKM2ZvBt6/s6ZenWirjmFLocwEjY/CgviOHGQnodx60JdUc4Il79MKz3wYyuTeacXiuDX8W9zNfVrgRgi6ZQMvlCwd+1U+B8c4rdvor3D4cy82kUhQJO69YjTvVf2fzb5fxZQwQ14qfkpFCfL3Mlw3EttdKqoa5cLtpmEmTr7oXLp3Ld60vV2V5Cg59/pMu3O7gwuwnPmJY4hnuAW1ggZUGVc4VozDzEKSYParljmq/cE2sWpXWCLS6gbEQpgT0/lSe4zxJ71+4bimVyKqKzFVE5vKVaMpJ09DsDqJy/wASNq/bMjwldS0R7vlB00OWBEb+bWT5T2/bZ+H4fp9JzY2O+Y18VzjiVU5cSxYSDms2wuvuwd50P3fyiiP2g8Vx1izhzgiPEc+eVBBAAOuYaan0rH4jwBHbMkqD7qzudx007yCR+FbvPj5bVj4kH/KKzNNf6gb5Yha1YHDQdwfNnEwcrqjmASQygLOsfq9T8JrpxDnbGWUL3Uti2BqfEWSewBtifTWsGxjcpLesR36/xrnxO5bxPhhwQEcOBuGIkAGemsUeu3KgmF3KO5o4j2mYp0Q27F9ZPveGCCCDt5dTMbdJq/yt7QbuJxuHwrEguXDZ0AJyozbBREEVhY7GkgMNCuo1/rWuvJfFkfiWGRXliXzDfUI5M6eWNBM/nVWLFxjOPrOHB5EbmLxWQmTA+VD/ABzmxbVlntuC0aDSZOg0+P8AGsn2kcVyt4IbKSNT8h0670rsWfAMgq1th8T5dRuN/wCHpVrb9p2DuN0Uqw3MYweH8+37twAsoUnaF1EyNx6gfLvRpd5jtplDOAzQIMbkgR8ppCcHxhz5yI1EjU9h6k9/U/j5xuKv3LpfUyd2OsEaEQRBgde9BrtZc5OfrGLKKmxjgfKfojAcUF4XMp9xQZI/aBI/KgHB8247wxcuXEg+7FsSfU9qveykucJda4jAnYsZLCCdZEjef8VDeExOe0hURKiB6AabUD7Q1L11qV4zAafTq9pB6H5zXvc3Y7ywQVJhv0Y+U9p9avJx/HNEXLZMTlyD4zMdqGruKVrggwtwA/z/AJ/Ot/AAEMygAxAPpMEVm/fr1wN0Nfo0Uk88+PaZ2P52x9t1TMoJaCMg7T+VMXl7Fvew1q45BZ0BJyxr8KVnGrIJRxuJB/L66kUzuVB/Y7H9wVr6PUNYMn2mQQVcqT1AhbI/4li7kbjL8laNDWojantWDxHiOTFXXGwu3VcegZh9dJr5e49aMlXU99dR8e1FtI2ma2iuX09p7E68cxYUN6UsuK3S4FuSAZZvh2+da3MfHfEQm0VOYlcxMQANTPxgfOsE4ZlJt5vFcx5lkiI6EiTGuvWJpaqoj4jAau4EYjX5Rb/uDEwIH6UD6ClNwd/AuuxCtlkQ3umTENOkd6bXKdsjgOKB3/S7EH7qgbdaSuMulHugkgGemoMyN+sxsRpPqK0tymoL5zn+UzSMn+UmKugJltkoCXLRmKMV0lCROsROo8wnLBrzh7AYSxcFsqqpRgtwCIUlP8JJmZIOpM1ys3ZI88ZVhZE+6JCkiIEgQY0J+NaXCWbLOc5SWMZQBMg9zoQSSABBC7zTCIbGCjzLsQBmOriNwWrNsZmYlZzyYYgAEgaZdekTWj7Q/wBRh/j/AO0UtcJzbiL+SxeKuozZWI80nUyRoevSmV7Qx+gw/wAf/aKz00dmlsdLMZ4PE7U4dyRFljcQFI+J/wB6+2r+k9PXt1FVuMIYkbjWqOFxP1n5/KusvMNYnOZtPe0I12/2/Cr/ALOeHWv+IWrotkNmYLq0T4ZLOemdizjsBEAHU49kEjvRd7PcUq4m1bg5mdoM6RkYnTq2n0mujIxOYwszvbPfyYmfRZ+g6UE2bD3x4aSSYhRuCRO0agzuKNPa7hvExjg7AJ/0ig/lviAwuJBYmIjN2P8AWnwqty/xCM08jHtPFqxdw7lbiFWXoek6dtdAPpXXD8SLMVcb99p/Ka0uceJrib4uWzIygE9D/OqPB+ENduDJvttIH8p1FLldwyRzDCz03BMdPImJz4MnSQv896XfAHBsWiCNAF07zEfEUzOUuGHD4YqxligzCfKDBkKNgJJ13PXpCU4Bx0W7yW2tjw5Kl8x0IGZmj0217VTXUs9SgdjmU096JcW6BzNjguFa+qOWyks6oGBBJBbJIPuggUW8JsuAEcqrdZO3Xp1oGvc2S0oBdGcFCNMoK6tBEyDpGm9FvLvHLF4EoxZxo8iNdcvXaeo7dKzn07tyRj/Ah7tSCduc8TQ4li1sobeT39NtDPf19KMeU/8A6Sz6LH0JFInHcZvXrrEeUyIPVdBmUDYEGR8qeXJC5cBhh2tin9FTsLTMexWbA8Qfx/s78V7z/acviu7x4U5S5J3z6x/Cse17JPDzf24ZiDBNgadCY8TXcfWmtWbxLhFu+yO+YMgIBWNmKsQZB0zIjR3Qdq1QijqVAAivsew+CufG5lDAlfs8ZgDJH67SdprWxPssZ2Zzi1DNvGH8uggaeN7ojaaLv+zaBVVbtwQ+YkkEkb5ZAER0P3ZMb1rYTDi2oQEkCd46megAA12AqNWrdyEA9wb5c5QOFwVzCXL/AIxuMzG54eX3oEZcx2jvWDj/AGUWbgbNdgHUzb6epz6RE0ySY1of5l5gwNpTh8XfS34yMuVtyrDKdIOmvWu7VzOFAeYC2/YvZRsy4txqNMg0IIYQQ4IMqOpNXW9ki5Mi4gKND5bIGo0E+fXStAcV4WxX+2sZOgOoZt5hrfmYnSOsxGtbB4fYtgnxboJkqXk5SwgGCoOmhjQyo7CuqdjBgeR1Iaw3Yglh/Y/kdXGMMqZ/U/h+so35j5f+1pbTxMmQzOWZ0juIq7ax9lVAD6AADc7fKrqtIkUSy1rTlzmRECfhEAbvs0Df+JP/AKf/AM6op7LrRkjFgxMxbGkbz59KZ9Y97gVthEv/AJp/MGO0DQAmhbRCbzBVfZmB/wCJ/wD5f/OrfAuRPsuJS+MRmCzmTwgM0qVGuYwRO/yonwPDVsvcdWc548pIyqFmAoAEDWPgB2rQqbROEk9wR5k5KXGXWuG6UJAEBZ2EdxQ4PZNYYsBiiSNwEGh9YfSmjWJiuXrdwk57qy2Y5WG+Zm0kHKPORAiesnWulQZAxHUFbHsttLp45P8Ag/8Aka3eF8nW7HuvP+H/AFq7c5etnNle4mYR5Sojfby7anTbrEgEe8JwNLb5wz/dgSIGWIgBRGgyk9QT3qBQJCxPcuWsHlVln3hG21K3B+xYouV8aHGkD7PER/8AtO9N2pXGQMMGVKg9xV2PZSAXC4tCdRAs+7p1/S18T2SlZVMYoBAzL4Hb3Tpd0A1+fwo8v8AtuzNnuAmdiojMcxy+XTzCZ3J3mvd/gdtohnUi2LYZYmFMzqp824nszd6F6Fft/eVFaiA9r2WGcxxYc9zaJPxk3dT6mj3g3D/s9i3ZzZsi5ZiJ+UmPrVjB4UWlyqSRM6xOu+w1qzVlpRehIEA6n2pUqUWXkqVKlSSVsa0W3I6Kfyr8ve0XEu/ErjMTAChfQBRp9Sx+Zr9P8T/U3P7jflX53504T4mKHSRJPUAabdfSht+KFQZ4EG8TxBWtoqyGG5J6zvp0oj5r9oWJxvhWrbtatrbQPlJDXLmUeIWIg5Q0gLsYkzIjQwHKNnw/MgiNWJOYSPTafShbmPgLYS54iyVZp+BJ/EE1zjzCvUy8wp5d5kuYW7bRs9y1dEQWmH2GUsdJ2IJjY95f2GMop28o/KvzJy5g7+NxlotJhw7GNAFIJPYbflX6cw/uL8B+VWXuBsnWpUqVeDkqVKlSSfDSq4/zzfxN44fAstpASPFJBa5BjyaGFO4O57iiz2lY1rPDr7IYLZUnsHYK23oTQByRgQbWe8oAmQ5P0rhOIapA3JnOzwTHMrO2MxGfUj9M/QT+18Nq3OR+drqOuGx5LBzFq+e/7Dn16N309a3LN1JFw6qqsPjO5+cCqPHuGJewjkqtxyDlW37qneAJkkdzVFsBOJdlBHUYdSgb2T8Su3cK1q7JNhsik7x0U+q7fCKODRIseJ9qVKlSSSpUqVJJKlSpUkkqVKlSSVeI/qrn9xvypJ8evA4sAjQeXvJPod+lOziH6q5/dP5UnOdOE3lcX7Sl/wBpRv8AEDqR2oT9w9DYOTNC0wCMzsoUAQVGoMj3xJAHXp/CsrieFFx7SMc2e4ATI1B322rJw3H8wCspJ2KgRPcZeh6R8aL+TODvcujEXkKKgi2h310zH4DT/bXkacjE3+X+EJh0IRQs/U/E0bWfdHwFD+KuBFP4UQWPdE9hXa4lZOlSpUosHJUqVKkkxebeEfbMJesdWWVnoykMnyzAUo+S+LNZunD3gPISMrqCQRpl1GhFPU0Gc88k28crXLYCYkAQw0zx0bptoG326VwjMuj7Zmnii4i/4KlLbkBk1lHI1dQRtC9/4Vc5r4iuFw2dbVsP7uoAho0+M/wpb4PlK9aMvcKONhGqmZnU7/zrbXhCuwfE3XvFIyhz5BHXL3oYQA5hDaIU+yWy4sXbj73XDj4aiY9TPyij6hTkrGo5uorKSgSQDsDmA06bH6UVUWAznmfalSpUkkqVKlSSSpUqVJJKlSpUkkqhxLEPbVSiliWAICkmIJ0C+oAkwBPyN+pUkmNheK3GDFsO6lULH3tSAPKsoCSTPTpXK3x12yxh7ksCYgyIgMDKgSCddY9Z0reqVJJVwGINy2rshQmZVtxBj/X51aqVKkklSpUqSSVKlSpJMfH4++jlUs5xEhtYMiRJAMe44Pq1v9qvmF4pdZwrYd1BnzQYECROm5On9RWzUqSTEw/FrrMAcM4kgSc0AHLJJKdJb/KO+nO/x5lLj7Pc8rhdm1BMKwhD5SdPj3Ekb9SpJM/hmLe5mz2mtkR73WRrHw+J3+VaFSpUkkqVKlSSSpUqVJJ//9k=\"/>"
      ],
      "text/plain": [
       "<IPython.core.display.Image object>"
      ]
     },
     "metadata": {},
     "output_type": "display_data"
    }
   ],
   "source": [
    "get_google_images('fruits')"
   ]
  },
  {
   "cell_type": "code",
   "execution_count": 14,
   "id": "ae5afab8",
   "metadata": {
    "scrolled": true
   },
   "outputs": [
    {
     "data": {
      "text/html": [
       "<img src=\"data:image/jpeg;base64,/9j/4AAQSkZJRgABAQAAAQABAAD/2wCEAAoGBxQUExYUFBQYGBYZGhwbGRoYGxodIBocHBkcGhsgJBoaHysiGhwoHRoaIzQjKCwuMTExHCE3PDcwOyswMS4BCwsLDw4PHRERHS4pIigwMDYwMDIwMDA5MC4wMDAwMjAwMDIxMDAwMDIyMjI5MDI5MDAwMDAwMDkwMDAwMDAwMP/AABEIAREAuAMBIgACEQEDEQH/xAAbAAACAwEBAQAAAAAAAAAAAAAEBQIDBgABB//EAEQQAAIBAgQDBQYEAwcCBQUAAAECEQMhAAQSMQVBURMiYXGBBjKRocHwI0Kx0RTh8RUzUmJygrIHJBZDU6LDFzSSk8L/xAAZAQADAQEBAAAAAAAAAAAAAAABAgMEAAX/xAAxEQACAgEDAgQFAgYDAAAAAAABAgARAxIhMUFRBBMicTJhgZGhFLEFM0LB0fAjYuH/2gAMAwEAAhEDEQA/AN2FnnGA8yL9cHvTtbA9TLzyjGF3ZmuvpPUwqqLzA1qnaYvi7tLxM4j/AAs7HHoyR5nGnG7dAZLKiHkiTIxE08WLQgRqMYmExsXIes83JhX+kwY08QNPBhTESmKjIJE4jA9OO0YKNLHnZYOsRTjMFKY7s8Emnjzs8HzBB5Rg2jHnZ4J0Y8NPHa4vlwfs8WrThfPF9Gnjwi98Zn8R6tNTXj8KNOu4M6487LF7Ab4hr3GFbxS6aU7yqeBYvbix7wcssxti+gu/hywNVp88RoZgKZInBTOWXcx8vglU2ohz1OZnAlfMTzxXmM2W5QMDFsE1Gx4yNzPK0zjsenHYPmQti3mtIxEjFhxAnHneaJYJKnpg/vz+OIEMP8w+B/Y/LF1TbC3inEjSps+lmjkon1joMcM3qCid5XpLdoWKgJib9Ofw3xKMYHNcf7RlLVu6pDLrAHf25QOfKCJ8Jxs+H58VEDKQbXWRI9eY6THnjRkDILMhjYP0qF48Ix5Qqq4lSCPD4YkRiJzVKeUDIxjwjEyMUZuvoUt8B1OO8094Bhs1U8aqJInYAn1JH0xKMZLM8TZaoXTrMgspMCRJUeME4d5nibIkuFVjyk28JPPDl2AF9ZQ+GFkDpGMY904D4LxDt01RBU6WHQ/f1wefLAOUqauS8odpCYx4xnfHpU9MehDiZZW5jrqXjaRNORiqeowRoxVWZRviWog8zQtMKIkGCnAdWgL4OCA7fLHuibcsTLMpsS6MvBiZqZxwo4Y1wim8Dz54oEPMWgxc3J8uQj18sOc7kRwmO+IKUjHYnVpEHHYdc7VzEbEt8TSLmAZEQw3U7j9x4i2BqlYnCzM8SYgkkSPdIFwTtB/UGxi+LeF8ULytRRYDviwMmACPyn1j9MZDZ3ijGU5hVWqTinFzeWKyMMtESl1E/EfZvL1pDKV1XbQYB8YIInxjAlfh2XU6QGVFABKsZKpFiCYIIEeuH2bfQD1O04zfEqvLrc+XL9/hi+N2LcmKMSEEkDePuD8ZSqQjIEY+6F2gTAttAGHDEAXOPneX4i9KoHQiR4bjmMbHI55qqBtMTeD+o8MHPjIojiIEFy/+KYHqMK+OcS0yw3FkH+br6YIfOLpdgQdFo/zHb9flgDI5cM3aPfT7o++ZP0GEUBed5YKDuBKeEZHsQK1S9VvcU8upP3bCfjmdNRjeQPmcMeLZ6Zg3Nhztz+OENQ424QSdTcyOWlWhNZ7F5Q9n2p955UX5A7nxtHkPHDypUgxOM3wiucvSCvJcnUFk90dD06nzwZlONBpNRNImxEmR5b74zZEdnZuk5FAAuOw+Ka+ZAIE3Jj6/y9cCU+Ihto5CNiCdhHXC/MsalQQbLtHXr+p8sKmNr9U7Qp4j6rVCi5jC6pXDEwdt8LOL8QAETaPUn9ziPAJKGo+7kBfIGB8ycVTAK1NAzaPSI4pORtiynWIBGojxAkjymb+hxVpI3EeePQcOyKRcgHa6ifMUKxKOv4ekutRql2cOdCwLmQGkbDVyEYacFyZp09LAll7uskEuABe3ujw8MD1+IaaumJAWTHI4r4fxVnqsnIAePe536R+mF8g1Y95cueojqMdirtDjzE6HcRbbsZl8jxVqoM/lvHO/67f1xYuaOqVPh/Ij6HGXSsQbY9qZ2oBKsdQiDYmx8dx4YinaaDkobz6AOIdmok6zF/A9AecdPgeWKhxV39wDfn92xjMr7RViO9pt0G/py9MMMtxtJLXmNhHLre9v1wSCOYUKNuJoOJ50ncyYjCbMvv1O5xQ/G0JMgg9Ovjjx6ga423xTEKjswqhI0aJYwPXDSj3fzGSI35dI5jwwLkgYIVd92PLDClTpqDcagNzFz+2HyZK2nIvWeouyiANzy9fTEsxmJWBZeQ8Bt6m5wMH1E0wNRsWjn4T05nEc37QJQCqFY8ywgBjcGKnOPDniBJuwLMLMAJWuVLsTUDIsQotJvEXI3vJ64Cz+TKsNLIsAmGYkkg3iBytfA7e0mskJl9ZNz3izECNzE787b4BzHHqiMQ+Xpq8g3BkXUix8h8cVRsur+0zPpI3jlOLUyAWIB57mSOcna39ce0+OUL98ggW8PARInxxlm4mSANKQNvngds0TbSPO+NSr3k2ynpU2nDs8rd8ESJ0wQZJG/Wb/ADwd/F6EJtJtPOOg8+uPnSPJ7oM8gJn5Y1eQyFbSmsqsqLuwGm3ObzHScMwTqYqO1VUnmSWO/wDLDTKcQRvwdTUo06GVoJjlO18eZfhCArLhixABUiCWsAOp5dMWdpR0ujaU0lkZRBgioyr3tPvbefLxRvEIRQ3jeUWO/MKpcJ7xZ6lRxaFZjHqBZsQbiDdo+n3QBJ6RO3icC0szRHdV3MwQASJMWHIEkYrzGcDUz2DAOCFI2NzpNzsZO+JLkF/6JQYQoue5iuVDOdz+vL4b/DBHsxThS53P2fp88Lf4YmkA7wylgw96bAj5EDDLhvEAFRFW1hM3uJmI54fLnTQVBvvOXE5YGqEZ53P9mhIEtsB447AOeLsSFGxQjzOr6RjsYFzKB8M1eT85iWp611KJ7useAB3IwDxGoRBE/mBt4Kefngvh1b/t6tU3dvwmBZQQrFZIQC9rT5+OBnIhgoB0QZa/vMRafIjGhBR3nltkLLv1g+XzJO+1o5b/AM8WsxmRitV1zYBgQDvfcgwOhGKs5VC3CvpAhiQYJ8DERyxUgXAr0N4WmZk3wfw3iuhl1TAj6fQYSlsSAJtBPkDOOOMEUZVcpB2m1TNBEq1NYNMvIUHvQbG3K8H0wLxAjWagI2DD/MNMkeRv8cZ45OoqiUI1soXX3ZuRzjmRh9lclVVdNQ0goERIJ2gCSPPGQoFN3NaZtVgioPl+IgSqsIVpXnI5AxvvN+pw6yuaaqNCgODuAqwN5kkbRjHcJpHWwIBIAs4gWbSfcPe3F4xsKFTShHdHIBO6D6Tfz+WHzEDgbxMLlhvDDkaeXV2TRcKhAAuWMC+/P99sIk4c1Zq+pI1SqsepSzWuYI5f4vPBzH/C0fA+E7H72xHLvUBBVgDsC3IMGBk7SZPwxDHqWze/eVYKYuz/ALPUAO6xBsD6zy5chhLm+F6NmnrjV8QHaEEjSw3KkHUCIFrXBET4+WAKFJWLXB0lVMiJ+dvjy2xqx5WXk3M741bpUG9kszobRqCsWldUX2tqO21hznGh4yoSigKFoDWi40zJtylvmMZnMZVTUK29wk8uY6+eHFKpU7OmjEvDAAMwEaXLaixMkQyiJ5TjslOwYbTsTFQVO8v4VWbtstT/ACNe4G6guvl3lHw88S7JWGYYsP76o0Tcw1vnf44llswrZ3LBbQKpIFtqbjkZAE8+uEXEM44pZghe4atSHDCRNQg93fliYBa+nH7zvNAyk9AP7QlHUPQgQQ+l9QsVVQsjwIUwep54t4LldNNapBFR6mk6psutTJU2AmTJwLXbSKFQvqJVSx07HlAi/dHxGGGfz6qKSrUFRX0akJCAgiSQxAYNMRfpa+Ge6AHX+3SVVlBtv9uHVx/fELI1DYctCKf0PwxDguUK1ixVoJY3Ee4AiCD1h2ny8MX8HzhRqlOowAVdayw7tOekST5km4xDjHtHRWi70qoFQbAqQSYAEat15zjJbfCBzKNlxjcni4xqdolRqhQEEKFA3BAbf447E6uZLIHKsbTIWJtO+OxDftLLVT5fw6kJdzsgJBHJyO6YAvzF7QTiZzR7Vgai95AZBCgkGD3gN77eAwT7IIIdmJAewBHdlQWN9hYg9caGlwmi51pz/NE3tz3A2Hpj0ny6WIInj48VoCDMktQDvl0YEXMr47wQY5Yhm69eoiUVQPT1Eqyqd2Zra5gzJ9Iwx4pwwdozFqOkQv4hC76iAGYafync8sXZOnX0lQqlYIhKisAdBAMKSJFgI+NsU1ggGoClEi4SMimXpp2qU+0KgmSrTa52jfAGV4s9FtBpOFZiWgRGqeX5bz5xgOtqCsjhtWpd7kQrCJ5jvDYnbFvC8+tKopqhnpG7oVJ1jQ0SCNwTY8t8AYiQSd4TlNitodx/ZXXvqpknVfvCQb7bWnp4HAOV4uxCuyRTYkEkwAfA7dLHGwNag6KqpSWmVEU4BBtaTpJJiLzOF9T2dpvQ05fsu67VHFZmKKvZ8iRMAliJ/wA18TGkCjGJJNqwmfokJXeDTI71xABBYMCSTBHl9MP8oKfaIvaUyGJUrquQytbcGZi48MZZ8oWqrRVqbMXCLp16JYaRZlAA1G5jrvh7/ZavRpgu61RdAtJ4BapAGojSJDapBG4HnVkBo3AuQ0QJfmyabEzrBO8bTeIA6HFVHiZ0sQO7AmRfeAZm0kkeIPli7gpo01Palu6xZUAJLqABMRqA6kTsOuLhWyrImrLVAbEBdYWSBpYGJIjVF488EYhzD53SQyme1EaQZ5mIAmBzH6HlgThwIeqrAEawAT1JMbHugxvhtwjhzOoZGaACVDD3dLEKGm4mBMDmMU5fKOivWzFN0CsYZrLp06V6SC1/UYky6SaEprDEG4vRkXMaak6gCFgGAZXePCPj44c5jM6Rq0gMoLBYksYIiNzeMI6eYoFgi1H1E2hiZvHXDrg9PLdm7vXq0yX0nc6Y2gaWvMib2wxYqtV+JDbVZPeGcHyFYNSqUaQ1ov8AevAFxDXPvAyfHyxi/bbLNRc6ZAJ7x1SJYyQLWWfOcbjPcdyK0gv8QxVF0SUqEkC3/pC8eGM37QLlKjha1SosKrAIr3U7EwpuY8MDG7FrZSPpAEXSQrfmKOE8Yb+GqAElkbdjJCNEX8Ii+0jC+S5YESAdhzsIkDlcTjf+znDsrVoaaYfQrGLMNgCT3hvblGKKuRyeXqoCwUvGmUMKQIAu0LuLzvHngqxZmpTBkSgupukxPEWlmmxVYAWwESPOdxGA6ebgoYJIU6iSZEiP2EY+jVfZrKVCGeTDEnSukHnBAe42wqy/szknNVBVcsDeI7o1GI62MSZ5XnFFoDcSOmzsY24f7QA0aOsBSaVMElyA3Z95TBN7k+eOxRmuAZcUqpZ6hACQCvuimJ0g3uRBMgm1ox2M/wCnVt6m4eJCemL+GZde0kEwLiLnvQDaIX3fOx8MN+H0dFMaaiHUD3TvYnlMDl8uuELZyilJXFRyoI6kHflPne3ligZ6IJBIPu/1wrLcZWA2kfahC1N/zQ9Mnzmqv/8AWM7/AAAKhrd4xyw/DNVFSnp7zKrKsATpqKbMYAi/O84H/wDCNd4YqFAERqnn988asbBUomZsilmsCTpOP4umWbuoitpMAaRR7Qz1FvnGHXtRkFOaqvTZDTPZmARBV0LMZ2iV2Hj0wk4wyCtEKraQpKWA/CCFfFRcbc8C0uH1l1Kx3IJmH2BAvysThwpJBB6cSZNAg94VXyAYFFfQFM6hLTIYxZtUGdxba3Q3grfw9NkZSDUQqaktpILHcRqCkR4T1BnAmWLKPcnUyli3dWxJi4NjIG0+GHeYoOxlXd2N+zCTNrqD2jGI/wAvLbHbgaT+YrXqBUWOvygWS4U4qUqysvdqK4CvqB0tqvBty3wyDynY1mZBp1SNT3DAwFtsT12HpgCjQq12/u0oaWA79NFJndQKaBiOUbdMHcSylYKWqJSOkiAitaQJOoMDsRbxPPAK8WI4cKSFN1OyygiolM0qsd0VFp1rTFpcWNp36mBil8pUCUqr1pYKH0oDYkAERrkr4RHzOAauTNWmKiZynSDDuoRVGqCF1EnVpJmYE2Um22GnA6jFxRy+hyra6jOwGi6qCHLnUDIiOs2nFkRQCZLWS20P4NxSgKdSo3aU2EUm0rpST3pWGEC43uYmMA5mpSZFVwldSSKtSksPckrOoAgnrJ28IwDxau1Kt2eqWqNOotIMgyxKkidO83AtiStl9QV6tKrr2PeTRv0a8kxYnb1wGUBqJ+0ohYiwLESVuEK1ZBl6bhCTeowMgH3o6DvbbxjW0+GIoY9oSj6IsAbEk93X+aN9Q3Pr77P/AIVU6QApaCaZZ7Qtg4B0DqT49MW5zss7UrUqc0+z71QzOpjOjSAbQQwMj+cTnOor0B59jA+BTR6kHb3iPiXC6hV5Y6YK02KxzJFtVjPQmN8H0+E161Q1aaoR2aUzrBMEAMbgFbfU4ZZrN1QKWXOZQKUPu6UgKoABUhh7wTYCb3HMSnx1MpTUJUZlaowKjSHDEt7pRAQdW8hjvtYYGfJ5gAXn/MbFWIkf7cjwbI1KT0aZeWVqpdULKhBpvcqY1Nq07+mHObQyo0BjNvdsbGe95Ha+EXBnarmhW1utFFYAVZRiSlzrga2liAYE/HGsNJKlRaQZgxGtWDLEebIYN+mEcgIVvcxwjlw9bD9vrE2Vd4BCU9kuWkmT3ZAQRO8zz8MRei6nX+HIUWRTMAyBJb3QQPhAGGue4NQpqNV5BbVdyQNySybCBJPhiqtw6jSZULQTBEU062PLnOIDEOdXMscr1Wn9hAadNyxDFSEYEQpBPdt+cmBb3huvrjsN/wCxtIhW0X200hJO5gPvjsacZxqKuefmTM7k1+ZiE4ZlSBTqimrkDvI5IINtyIBnFmZ9lqbHs6NGpUOkNrVnYiSb7aAN8L6ntOgh6NNaYPOJJ9dONFwrjhfLFHJZKt3BCANAAA2kDujpeeuEZXQAt+89XGgykqgBIF/SUZb2erwn4JcshamJpIWQEd4U9eogahJvcjAubzjLRJKimCpKktZiOW/dNxuMG1OM1QVKEyilEIZ5VLd0QbLYWHTGd4jXLAo2xPUwCf5/pjkZSZTJ4Z1F7CDvkaIP4kk3mSDfnYbXwyfihRFCsmkXEpT1HfeVLH1wnqpYsCGUXJUDe1vA/fXDA8Nyy0lqPmXBamH0AAQxVpAkQQG0iZ5t0E6/MraqnmviFA3zLuCjXX7fOLFGnLhWBUNyEKENhIO0cuch3neO5aqlRabQACT3aggd2ImAYIblsb+Ansv7LvmaNOs1eqyt7o7RVAMwV1OGaxtZeW+DOIezlGmoZaVIgsV1GrUqCVkGWGhbEEEX2OJM5fJV7zgMYXgxDkqCCrTqZrMIKGk1EW7VCrAqAogkAxBJ6GBzwfxYZUhKeWpM71BqDU76UOwbTsdiZA8sRQ8gqqIiFWIHT0xbwvg9WhVd/wARmcIAG7NSFd/w7TJ1GwNpM4dwFYFjM4VmPpheY9nqCIBVzIChQIgEJYyAWTVMgXB/N4YUpwes+qrlO+3/AJhcagRe5ciZEH0GIcfzOsFXQxLWYgSVkH3b78pw2GWqmlTag7JTdQyxCggwZgBjN9t+uKlvTSjf5xQChtj9on/s3N5Zu3ror6SNPdJUEDWQQVEgruBeMBZ3if8AHVFL0kVwwJqU1ABUciFgesTjUcR4aXUa8xDH3i1OZGmNk2gnpy8cA5XMjKTpUOCSZ06wTG+lxM+nXnhDjfTrrnr0lB4lL8u9x04Ma8DqU9aoDpQm5pohKrBJ9xd9t5xdxihkampWSqQVIBFQkg6iAYeBddJIixtffGffiyVixp0Rr5sinUJEGwqQJv8Al5nHZnIZsr2pYpRADSqkwsbkD3R4knCogU8xixI4ibK8Npmq1EUi7KI7i6mJCyTpgnrt0xfUoijNQ0tAHJ9INh/gB1i3OI2xVlqKmp2qs+oiWUho0gQQTADEgbCBy8cEZNC5YN+FBsREDw71umNJKMhVjJprVwyxvwzO61UzIiLgag3Rx15SIk+cYPp5/sS7M5SFJTsjBYgkfnAGwDX5EeMZ6lwenT1sKrgm5YFQfGwEH4YKzWZAp6GaQLd8TMAEgki4gifA4844aIqiJ6n6oFCCSCfYj/yE5vjeYqKh7aoLSCUpkkbXgERKk+uKaPEMwWDmsHjVOtVktHd2AgA6beZ3OCX4ArpSda0qWWkAFpjTAtJIJC232g+eDl9m9KsEqU2a5AarTi1oAX3RPhucAuB2+089nC5RqJ3i4+2XEhuKB/21B80YY8wHTzhI71PSejETjsG/+omvSvcxIvs9W/8ATc+MEW9caThNMUqVJarIhCmFchSTJ3k/PDPh3C8x2gp1MwmqJ0xNpA3teTg/P+xaV1ipVMf4QBPnJmMTLNk2PEomRMDWp9XYxVToa5qU3Bi34M1I6gaAb+uM1xjLa20rSzFODq1VU0lm63/fnj6PCUKK0qK9iyaQrKS6kagXLUmbSzMNV7XM4U8XzIY14qwLdlT0gEjSNRLKdIOqYsbDfGrDhozJm8dlyNRA9p89zCVUQk6F2Cqg5yJM87DxwHWpOWBdY1HZgQAJBsNUxv8APG1ThzvvRV159oV/UGR54Dz+TrhtPZ00tPcK7Hq25ONDqb9PEnpcLbA/abj2QzlGnkcuUp0yyIGI3Ku0kxJlWMnAHtXxHWVWYvJCiFW/XmYn54z1DjwoU0oBdRhnqEEgA7jYNPISCDYYz/EeMZquI0oixsovH+pyW+eMmPEVyFj+Yp1HaO6HFEcTRWdJ2EybgHlffDNfa9z79TQYAAAd2ge7sQBfYTbwxleB0qpdVBNOn+bT+ZjYeZtv4HDfinElBULkMmuhwwddUsRNnJeSDvpMiQOmNAx+Y3q3riNq0jaAZ3M5dyfx6sknelsSZ/xk74t4Xm+wrJqeo1I2mDp7yjR3Z7oJH7Y4+0LGoH/hcqT2Ypx2RIImfcDaSxPPfC/iGcaQgCgs2ohRYDVqVQOg6cgBjQ2OhcQgPsRNlw72lFSoaYEaX1IxjvESAbgaWgkTJ57Yb5jM5d00VKNQ0iCBT1DTINzpJiZ8Ivj5xTptWRWUkMu/iSYNpA323xZTo/3JKEkkzEjtIaYMtERAtGJJ4lFWnHHaTbweUtaNse4uMePZanRUVKOpFLAaS4fe3uk7TytY2IjG0/tmh/Z1SlRKM5pmkANeolwQ5YEGbHaeQEnfCOr/ANO85mGFV6dKlqIkFRYciUBEHwicLPa72IzOUprU7ZGUOolAyspYhQYk6heN8I7pkNqK+UqmJ8SkMb+cWZ3NKe0D5bL94ADRTNI0yBAIZSNJm51BgYwfweiVViKf5fdWqKhMR+Um0zynltgEu9cfiPRMAhWqTTdxokGRKEA7z54pX2WcgPrLGLlF7QTEWNNybfTAbSy0Zy61a46aKlJHXuVRDMFJAIJ7w0ggMeVxtODM3lm93+GpASLtVpIJKgzvIH9N7YzFepWy4/FD7whIiRpJ23BmBvjT5WK1JakkHSC2kSJIuP1t4YVVN1KuwK316z3LZgUOxTUmtWZ2dKgdQPyd5RBIaBygXwx/8UMBK1SfFTG5k3W9zfzwlOVDAOG7sxtBkbyDgTh3A6Naq9NXqKVuQrAqQY23AgnbDXjTdhJjCctXf0NXCeNZim81CYYxMknVJuSJ38ce4hU4Jl6LgNXqTf8ANPgRtbfaMdiTZcJOymakxNjGm/zH9bhFOgGem9QuASAxVgxAkAgr1Awg/wDqDUqkJo0NtA1bgX94kL97YLpUs0XIbQAd5Ybem5xPMcEDTYA7yBefP54hiYJs28bNgXKbqopz2ZzFcx2monZTVBHwDdPDEOGUa2XqlmGVqNEaarUyFmDszC8eGBM460n7OqkvEySTIPPuxA874nmM5RUCKIgixJI35xIOPTFGgDIDCimwdxNF/b2ZZ0IoZcsslezRWiRF9B09N58MKs9UrENrVVDuzMAiqSzGSTN7nltbCduO1UVhQcqGhQshjPhbod8BZWrmazCiGYlmiXPunnLH3QIY+hwgLIaAHvzA7gnezDcyyCxa/QGPkLb4CXNBHIUKsb2F/M4+i8G9kqVIKA+WZyLtUpu5Y+DmoB6KMW5nJRACUWBOkOikDUf8rggrEmVbp1kUBDDc/iSZt9hMbkUarTRyjhRVP4iFSDa66SwAeYN4sOc4rztGiSbVpJmSI26xSNzJ58vHG5z2Vo0khQC7WayiR4gCCPA9cZ/N8KpMRoSnTvfTTpkH0dTH6Yh+oVNr4+U0L4TLkXUo/MTZHKgMdCO/cazMFKHk2oCQBzlQIO+BaXCyx0s6kss6kIYcxEjYnSPQ+WNBm/ZcsulqtTQL6VAVbXnQi6ZwPT4ZTVQo1d3Y6iDe26xyxNvHIwNEmUxfw/K3b7xRlQ9JalMAyxGkbk6dRJt/pGNB7KVkTM0HqmKVJwWJEgQrHbnfT8sKnzKM5VgSyAm3IyIbx3mPHBdVqtZShIN7bBzeYk2M+eIu2994yqPgPS9p9K/8WLUzdQpnqAoGlCU6g0kVb94sQJG1tW3LmUXHPaBH4e9HM5mnVzBRpajdSwMpdQBuBcRj59XyzJLsSKYFyBBk2A7wI9cV1GpaZFRjbY2I+FPDpYiFUG28sytA1jpZC/MRNiTvbcXv4dN8b3gXszkOxWtUy8MWVSqMxPeYCdNSpACggtufDGD9neLBHZY94iJ6AG0nz6Y+p+yftHSrU+zBGtB3lJ97SYJUneDA8JGMvisjpwDUdMasNVxJxT2NypR6lJNMOUKuRJCvpDKuojQ24I3B2w19kaXYJoWtTpMq3LLrEF7gqGESBGonfDLN5qjEVQivA1JKmCdxcgkb3Ai2MPxnM0svm0rgwlSlAHhKmxBuCHBGKeFyjKwVrHaT8QpRNS18+8j7Y5Oia7Oa0khA3ZAAM2gBiF1d28mCT64a8E4FSFGgaIfVUDTL01Zip5KwMixO9ueMPx7Miu4akwY3mx7vqfAfc42nAuKqxo12Z6JpotNral0pvGlvdfnqWxvOL+JTSdjcTE5YA1UnxjhAo0qlQtoZWAAKqSS0mLSJgTt9MdiNIJUD0e2FQ1HVw0GQwLFnl1U3UldMtvyvjsZLraaAGbeZzNVWZkCAgraF3J8TvOGnDMtXHeZtII93dj8fd2w9/hUEjUJ2+Rje3I4orodlE+HyxwN7CWC0bMzfGuDpUYMwJYCJki3pgWl7MKO8RPnefjjYZbhvM+GK83TBMcoxQZSPSDF8oE6iJkq3A6jujUSoKHdpAg9SL8sbL2TypylQ12io7yWUjSuokkMAJIYBmAJmzHDfhnCRpKmJBB8yQJwTW4WFQuzBQN+vhYbnHoYlXRTczzcrW5I4kM3xujUr0sxVy7tUpKwpgVCVGrc6CoGqLT0wg4zxShRoFKCMhNbtnas2ou5B3IMneOoAxbnKgAYe6BcsSNvLrj53xXP1KjlioFKYA5qDsT43E9JxcJhSj+JIBzuOJpeC1P4kVna+nQJ2ks0WHJR4ybmcGZfgYZoRnM/lg2vB9fDfAf8A0qrqazqoJBFydiVZdMDw1G/ljbcOpLTzLgn8zaf9THUB4GG+WPIzENnZT8v2nteFzMuGl6An8zOjhKAlajGOoHUWInfyxXW4fTX+7cx6fG4xrMv7KHN6qpqdnT1uqhdUkKxU2UqPeB5nCLKcFy1fM18pSqVRVoe8aidxjsYOuQJ6ja4nCrgY/OWPjMQO7EH68/aZfjHDGeSAuqI1KApYWMFRy8PDCbg/EHqVmRwLAwL2A+u3zxq+DcHTM1a9LSqNRcodVOQ0GCRMEXHPGd9r+CPlK61FuhF9Ijbe145fHGhcZUbiY8+XG7hkN9/nCA6sUpPrdWYHSTCpfSGNxIBYbmBJPLDHN+yVKHfsn0KYZlDEKdIbfmIYGR1xl8pxNTUAYShVkkCO628jDDIe0D0Ms+Vo1XCuzFlKK1zCmGIBUEKLYmUPcwnJ2AIlOc4dTpVFCTqVrjp4ERb1wrzPEKlNrNpZCdOnYSZYRzkwcMOK8aevUNWoBqNjpBAtMWJ8euFFUBjPx88aMeOzvvIZsnppdozqe1LOFNektXTIUtFpud1MdYx5V4o+bqDWgtZFAJN4G56ADaAMDcPyQZob3D70cvEdSMaPg0UKgouoGr3XH5pupnocFlVN1G4k8ZZzTHaMMlwqjlqclkDsL3+Q8MCVrhirC6tKwJaxi/3thtnuHmpCh9MWHdBv+1xgDN+zNWmNfaIR7oIBHeY6R8zjIH9XqPM1spC0BtBKWTr3IIJEAXE/Kcdi6vTqUa+uqskCe7YGbTMGf6Y9wwQneDaaCtU1tEQB/S422OC8lR2vt67YjlKBc7CLbc95v02H74Ir0xSW5m5McvX1+mMzt/SJoFcyriFeBpAJ68rfrhFxLOGnS1bO8hBG0e858OQ6m9xhotUMCxNoksOhxmOO5k1HJExsIBsNlAHXyxTGlbGSyvtsYZwH/qPmMsClX8VY7uoAlY8bE8rE/wAxcz/1OzEAgUtRnV+EPSL9Os4T1aA2i/PwI/UD5/AYGOXEnu8tuYgjr4xjemSuk85kuTz/ALWV6tnkgkawBEib2EYHzmZDIEQBjp02VhpEg7uSTYAQPG+2JHK35Y9SlBj5/rjmfUbMZQQKhnsrnP4Z6Xegszq14sVWNri+m/XH0jN1e1isqwHTVqBnVpI71vdPeK/7R4Y+U1aezCzAgqeh3HljYZT2vAyo1LpCuEImSFaoC3e59zr4Yx+Ix6mDDnia/C5NJF9P2mw4V7UVKFHRNOFZraGLd+ozcmuCW6c8DVvbOsHZylMaralphXPQMztEYWcZohWsJAuCb2N5wLTzunVZiSIAkiCbHyEE8jfSYthdbgcz0G8NiI1Bdzv94X/b+cqEkD3jA09mvIkSwW9gbzywpz1CtUM1CX8CSdIImYOwjfywfmuMyPckwLOe6CD0Ud7YHlsLYWNnaje81ugGlR6c/nhdTuPVt9YMSMjbIPtEPGvZGosvSuN4B/T9sZ0V3HMj0GPpLZvu74w3tNTArEgRqAJ5X2ONeB9XpbeZP4j4YYzqTa+RFuksbscMcpllHjhcBg7hpuemNDcbTzF5jSha2GVL8ZVTd6XeTqw3K+JBkj1wtQ/HFmpgQy2YRtyOJywmp4VmhVUMQRpN95BEfGZ28sHZrNHs0BWV7WkZBHKqJEARyj0wn4BxBElmEBjcmYDQDB5jbUDtg32jaoFU0lkd15XkQbSvpjG601TYGtLhnHOIUtUn3FJtsSw94x0Xx5nwGOxbw+gtWitJ1UuFMlgCSSJN+s97fHYnYG0b1fKMu0Kgxa1mbqRMRaeXh9FecLEypLyYXVHkBtv/AC8cXcQq2IWAtoFpmQAYIj8w+HwqzE01ao1jso5/5m+gPgfDCovWF2oRbxavpmkpnTBY9XvEm1gNQvzOFWZEk2kKVtJgkzFxvBGCqs6ehKzESBqAMb3j7OBnYagRBsRa/wCWORFwx89zjQBMpNwUBTqtygHpBPy/lgaoB0jx+/08cFq8Ax5bzabmOkxfwwJXUxHj9APpigimDOR1/b7/AHxHSTf9sXGlfbl89zHOPvpMxR3jn0/nP7YeJBRTkXEeWLwirTUdmtQsza5EsBCgaSJK21GwudO8Rj13tt8+Yx7wlT2/ukgqZIvGnvTG5AEzHLHWQCRzGQAuA3F7ze8Eda+WTXGqmqq4mCVHcLDmYi/p1wpz2WRXYCoAQTp1lQGUbQxIlo5R4eYVTPqCBTYe6Cukk90SgOqTqupkzfC9u8GNW7Md5uOkHcQOmMW4PqE99U2DI3+NozYneI9f5Ypc4Ay9SmFIeo4/wlVm3jDrfxwFn2pkQKzEc4W/wLMB8cUXEO/4MV/GEbaT9xGGb4jTCvLS3LT+Uzewt6Yy/FMyajhj4/D64nmqw2WyjYTJ8yeZOBkoljONWJartPJ8XlDk9zX4kkScHUaUDfHUaYAtv1xah64dmuYlWpJG5YLpP1wITGLUqwMKZQQ/K11Bhvdax8Oh9D9cargmaLK9JveQfKxkczaL9cYkuD4YZ8JzhQA8wAsm8je87AevLYYnkTUsrjfSZrsjS0bkkeg2AAvyMRyi3jI7A9DPq19ithuSP5nacdjLpM12IcApYtU91RJaYtEb7ySIvhNxStqqdFBAtEJoBIiOhYTyvfcQdn6mkdnzLLrO892Y5TyPrfCcjc8yRM+UfQfAYZBIZGuVVBv07jSvJ9ImwHOAIBuL74jXcA7SZMnwsDbrv+2LFOgxspET/hmCDIuV1BbcoMdMVFd56crztBnmN8VkoLWBtcA7DwmQZtsAZ9PAYrq7nSB62j9j9Ti5nFyDyED1vte1v/yxWHgkc/28vGPhhoJWq2Hznrz/AHx5XpA+GL2Pl9z+8YqqiRvA+/5fLDCCUin4/f1xSQRdZVhswMEEbEEbeeJM++23xxFt/L6/YwwixfxBXqVDUeo7OfzE3t5fTFj5WpNMam70TfBPZ2vyj6csMc5k/wATL+S855jCZHoj6x0sA18pm69NldhqaxOIdmTuScOeJ5QCs/n9BgbsOXPDqQVBisWsizAqVAdL4I7KMWqkEc/PB/DqFJyRWrCkIBVijPJJAghbgRz8MNcSouUbfe+PWXDocMypn/vVBix7GqVNrxafiMV1OFZa8Z6n/wDprCT4GNvExjp1iKFTEg3lizIIrVFFR+zRveeNWmxIsOZMC20zthmeF5Y6f+9QyVBAo1QQCRJ71pAJMc9JGBOuL6TX2wUi6TqU38efMeGGLcIyttOdB396jV3kjYciIP3YGl4z5dPHHGMDGPDK5UowgqwK35MAJB8Ok9cdgPKVFViD7h97wMWYR9PHHYUpq3lVyUI0zVclgOlr3gxfvfc4HqNuNun3y/niPb6pgREEjwMi3hyv1GPGqAnf7+GIgVOueVaptte23Lz3+xgaoTGkWF7kbSNp6TJud58sWuxjz/lipue24g+YJ+FxfzwwimdmYJvvtcnrzHM8/XEYgSDcQfn/AE+eOZRvty532/mcdIHnte/LBE6eITzm8WnEQ0iD18h8PvbHo2iDY35dbW+7YgwMz97/ACGGgkalMjcRvYfcY9Ub9bx9/D4YkWB39MeLU+R+nj1wYJW6SfsT3W+NxtvhtxQxXy4B5J/ywmrtPr/O/wCuG3F21V6BiPdt07/UYhlHqHsf2lE4P0gfG4GYqeh/9owH0Fth06D5b4M9pR/3D9YX9Bhey7RimE+ge0R/iPvLFpzb0Edd+W9px1MqI1AlJAMbgdRPMTPjcHeR4hi/Tp8vLBXDs12dWm4soddUjlI1g+ETfFYh4ntPKCjUQv36LkMHQKwdNUErqBEiCCCJB6GMGOmUcqOzrJyLIqkXvqOptUA2gAW5ThkaBJrp/EMHpltFMO47QByCQVIX3YMAy02wBSqMyOp1Ke6Q71aoI714XVpPiWsszOO1CUGFjvY6fmALRprq1UatzNMsI7kNBIBAYk6djyN8SrHL6G00qoa+mSIEsNM3vAsfQ+GLkoNrKfxDAzCtrfS0AlmktqKgC0A6pAG4xZw3tGFQnMVUKIWQa377AgBPe7pOqY3scLq+RlP0w51Dp36wb+GFJFZxDOPw0tdf8bDks2Ufmidt4qTE8/0vhhm2Iy71DUYlqlKmJdiZ01He5JtpCD1GFxqjn+m9hg2CARIlSrFT07SdSNo+98djxmtY7dOfL0MY9x065JiFJJGwte4ne3jbn164mjQACdht0O5G+wJIHkMesm41bbHoRcfP4xjjG5EdIuLi/j0xKNPEuJJveQD/AJu6QOVo+JxyiB5ERPT6zb0GPdfPaJC2+N+VhF/HFbtG2/6mb+X9MGdIs82vc4jqFtv25+pIx1NSfW15tiLU772ImZnngwT1CZFz+48vvfyxfqv4/r99MUU6hBI/b4XsR++LGHM/H75eWOnSs+cwdvlviISY3/f08LemPWJJ9fvwxNBcR09AfG9v54MEEqLe0bn03GHPHaWmvRAvdZi+9T6HAwpQYIvb0P3+uGXtIg/iKfTu+P5zjPlb1gfIyqD0n6RX7Vf/AHH+xeXmPs4ApiN5E8/3B5T+hw/9qcv+MLf+WAY295vp+mFUfM7W++uKYDeMe0TIPUYNpEQPT76Yno5esn4bdY/TFlQxMfEdfu+Ih5MeZ58z5nY/qcViT3tKgXQGlV2RwHXeTCsLX6YacIyVLMoydmi5oSyASqVVUd5QFMLUWCdjIkxY4WEbkR1P7497UodSGGBDKynvKy+6R42Bwb77zrZfhJB+UN4VwJqjuHpNSp0wTVeq/dXSJY91FlQIMzz6kAgVs2C57BVSlPcLIpqRFiWaYJgmOUxJO7X2i9pqmapJS0dmohqoU/3tQG0D8tMe8E/xN/lU4SOvkfDr54YhRwJwfKw9ZJlgQzqcszREm9ukcgLmMWADpbx6EfTHr7CJ5H6/Zx2gEC5nr9j7+eEuGp5TmSPv9sdj2iYvYjmDawHX0+WPMGdtL2qzeNt/p8sSZ+o8z6Ax538v0w0yvD6DqNdRkJA90IQDctYsDYR88eZjK5UIAMw5O0aVtO7GTsDJPPwwlQ3FfwBi/h4b7ePX0xGmDBJjb+v64sqKdRM8+QEefSOnLHKfr5ef6YEMqqHYbeXPoPhOPDT3P18d46XxPTI5+PTl+/3OPC/3PW+/XfBnSKn49dp6/TFdRJ57fc+IwR70co3nx/nGK1AtPX4c/jgwSNIRygHb4+VsWqfC3l99cc3lYfQdcUkA9Y/n+uOnQqm01Ej/ABC4294fXDL2pJXMU2HIDr/iMYV5JO/T5guLf7r/ADw39p4OYSTsqn/3sT8sZMn84exlV+E+4lHtZaspjdAL/wCo/v0wqptf6/1+7Yde1yDtEMTKkfObepwqZlB3+N/I9cU8Mf8AiEXL8Rg9cHQTtsB5fv8ALHji3qR9dj8fXBCXAEnxtz6QcU1HgRvzgbC0c9+X3tok5Gmgk9Z67fzw64LnaKU2Wrl0qBnVyXrIkaR3QAVJvcHltscJNXL+m2Pdh8vPHQEXH9fiVBgDTytBGFRHDCsjAqjyV0m0Fe6etz0hLxrMirmKtQItMMRCIQQBpA94WMxJPUtih23HQ9eTXJ9L+hHTHBRzP3e3lg3ABPUNo9fXr8MSXcwBexBn0MdRjxASIG58fXnif8Mx5W5mx2uNvIDAjSCtfwB3PXzx2PHSCfPa+Ox06G1Nx/pP/FMDLv6j/lj3HYWGWZP+6pef0OPaW3+1vpjsdgdYZKlsP9v0xCn7p8h/wXHY7BnSulufT649q+9/vb9BjsdgwS0fT/5GwKv5vT9Rjsdjp0LX+8of61/5DDD2w/vh/oX/AJtjsdjJk/nD2MqvwH3Et9sveo/7v1GEHP1GOx2H8L/KEXN8Zl9Pb4f8Tin8q+R/5nHY7GiTkTv6H9Tjwfm9fpjsdgzpGt/ef7f3xA7ev747HY6dOobn/UP0OL8zy/0j6Y7HY6dL89u3mf8AjjsdjsATp//Z\"/>"
      ],
      "text/plain": [
       "<IPython.core.display.Image object>"
      ]
     },
     "metadata": {},
     "output_type": "display_data"
    },
    {
     "data": {
      "text/html": [
       "<img src=\"data:image/jpeg;base64,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\"/>"
      ],
      "text/plain": [
       "<IPython.core.display.Image object>"
      ]
     },
     "metadata": {},
     "output_type": "display_data"
    },
    {
     "data": {
      "text/html": [
       "<img src=\"data:image/jpeg;base64,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\"/>"
      ],
      "text/plain": [
       "<IPython.core.display.Image object>"
      ]
     },
     "metadata": {},
     "output_type": "display_data"
    },
    {
     "data": {
      "text/html": [
       "<img src=\"data:image/jpeg;base64,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\"/>"
      ],
      "text/plain": [
       "<IPython.core.display.Image object>"
      ]
     },
     "metadata": {},
     "output_type": "display_data"
    },
    {
     "data": {
      "text/html": [
       "<img src=\"data:image/jpeg;base64,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\"/>"
      ],
      "text/plain": [
       "<IPython.core.display.Image object>"
      ]
     },
     "metadata": {},
     "output_type": "display_data"
    },
    {
     "data": {
      "text/html": [
       "<img src=\"data:image/jpeg;base64,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\"/>"
      ],
      "text/plain": [
       "<IPython.core.display.Image object>"
      ]
     },
     "metadata": {},
     "output_type": "display_data"
    },
    {
     "data": {
      "text/html": [
       "<img src=\"data:image/jpeg;base64,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\"/>"
      ],
      "text/plain": [
       "<IPython.core.display.Image object>"
      ]
     },
     "metadata": {},
     "output_type": "display_data"
    },
    {
     "data": {
      "text/html": [
       "<img src=\"data:image/jpeg;base64,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\"/>"
      ],
      "text/plain": [
       "<IPython.core.display.Image object>"
      ]
     },
     "metadata": {},
     "output_type": "display_data"
    },
    {
     "data": {
      "text/html": [
       "<img src=\"data:image/jpeg;base64,/9j/4AAQSkZJRgABAQAAAQABAAD/2wCEAAkGBxISEhUTEhIVFhUXFRcVFRUXFhYXFxYVFxcXFhcYFRUYHiggGBolHRUYITEiJykrLi4wFx8zODUtNygtLisBCgoKDg0OGxAQGy0mHyUtLS0tLS0tLS8tLS0tLS0tLS0tLS0tLS0tLS0tLS0tLS0tLS0tLS0tLS0tLS0tLS0tLf/AABEIAQoAvgMBIgACEQEDEQH/xAAcAAABBQEBAQAAAAAAAAAAAAAAAgMEBQYBBwj/xABFEAACAQIDBAcDCQYEBgMAAAABAgMAEQQSIQUxQVEGEyIyYXGBUpGhFCMzQnKxwdHwYoKSk6LhBxVD8TRTY4OywhYkRP/EABsBAAIDAQEBAAAAAAAAAAAAAAAEAQIDBQYH/8QAOREAAQMCAgcIAQMCBgMAAAAAAQACEQMhBDEFEkFRYZGhEyJxgbHB0fDhFDJCYrIzUnKSovEVIyT/2gAMAwEAAhEDEQA/AMLRRRSS+mIooooQiilpa+t/G2ht4VIxuDKWYHMjC6uNxA3i3Ai4BHDxBBIqF7Q4NOZy4x78PgqJRRSlGupt48qFdJoq8i2PDILx4gizAXmiESFmDFQHVnCkhGtnyjQ3IruK6MyxQGaQqhDZRGxbOSCAbADLxBAvqLsLgXqJWH6mlOqTBJiCCDyIVFRXSngfdXcp5VKYgpNFWq9HsSclo79ZlC2KkMWUlRcG1yFJF99jbdTf+TTZOsyrlKswYMpFkKqxvfgXUfvDnRKwGJon+beY+eB5Kuoqw/yae0JyaTkiE5rZiCAQLnTUga21NNY/Z8kJAlQgkXGoIIBKmxBINiCPMGolXFVhMAifFRKKKAKlXRRU6bBdXGGdrM4BVPrW9s8r/VG879BbNBoVGPa8S3JFFFFCuiiiihCKKKKEIooooQirfY2OUXimUvExG6wYHuh0J0Vxfjodx0JIqKkYXByyX6tGcjfYMbX3XyjTdRMLDEU2PpkPMDfMQRkQdhGz4mZm3NjPh3FzmRhmikAIV4+YB1UjcVOoPoTV1tdh4oiP5NjIXaBza4Vs8bWyrIlxow3eI0N7WqDtLoXiUkYQp1sfCRRcMDuuL6HmK0NN0SAYXPw2lKYcaNd7Q4fykBrhvByB3jxjcJOxekkUeH6ty0bB0JAhhlR1RJFZXR2S98y3JZr20twdg6ZRxlQIHYLGYlJcJIVyoFvKoJU3jOg0AIGuXWnHRHGcYSPNlH311eiOKP1F/mL+dQKdTceSzd/4uTrVG3vGuB6QeZjgrrZnSiOTLCIeqZ16kSLKVCmTqULyEjgIgS28666kmq6V7Yjln+YiVI0zKt1DEgnVr5dL2uOIJOuujZ6I4obwg/fT86l4fobJlkaSSNAqMVGZWLMB3dN3605HZVDaD6Kja+jKL+1bUbbYDrZ8JJP3fbkfS4rLh3EZyQBAY84Ad4wQrMwXQ2J3g2ubWuaiYfbaLD8n6o9W3ba7Aky6dW4OUZcoGW2uYM1+GUPRLEcAp0BuJE4686P/AIlivZX+Yv51HYv3FbjEaNAAFRoy/nukg55gkkH4Clt0qQhFOH0jmiliAdQVVEVCrtku2YRpdjr2Ryqt6QbXGKKsUykZl0IsVLEgWAADDMwJAF9Da9yXx0RxZ3R38iv50N0Ox4//ADsfI3+6jsn/AOU8irUq2jmEOZUYCP6x7n6b5qiArS4DZaQRjEYkdooGiiO9gbkSOD9QkHKp72Uk9lWvabA6OLh1OIxiXZT83ARe7anPMo3ILXtx3byAaPbj4nEyF2Rzdie6STew1A42AFtwAAG6rFhaJIP3f8c1jVxzMVV7Ck8Bg/c6QJ/pafUjy3moxmJaR2djck3JpilMCNDoeIpNZrstaGgNaIAyhFFFFCsiiiihCKKKKEIooooQirnoxtB4p0AZgpYXUM4Uk3jBYIy3t1hI10OtU1KjJBB3G4sfGiYuFlXoNr0zTeLER8cjdbnpHjMTHi2RMVKkTQRzIFEYa7XRruFvq8chsLACwAAFUGSeZ8iy4qRjrbrp93EntgAajU2GorU9NUDDBYhe7JHY+HWoGQHyEeIPvqX0F2lhI06mSNzLJL84xjzIIwLKHJ3JbMNxF2N7DWtnDWqgTAK8XTdTp4XXLAXAx58fLmYCxbbNiT6SZi3sxyTSe9i4HqAwHOl4LBYJ5FWYSxoxsZGlSy+LXQ6ev50/0n2dLBiJQUyxtI7RFARGYix6pVK6DKmVcvC1UQ7RCg63A1JtqbangKxdULXQBt2/lO0cMypT1y/MZiABadmccSVP6S7IwMDouFnTEAoWcrZghuMo6xOyxIvpvFtd4qlMCewvurXYnZMUaqIIHxWcgLiGZ0w5I+k0jIKKrG3bZSMrE6Wu10gweHjtFh4llfKA08bYh0MlhmEAzlSi8zm1OXgTUupm5y5qKGLoANZBcTaYaJvnnIHiBtWT6hQe4oP716dAH6vWkhxs+HgOGKoWxD/QMLP1ZTKWlClXXOWTJmIPYYiw3r6S4CKLq4IYVeXIDLNG2IdesIDFYFzlSoBHaIa5NtLGo1DEytRi6Wvq6mZgEapBjbsgcxnexWcSQji3o7j7jUmG6gEGVV1swlxCg235SHsfSlHAGPWVWU71h161uWZSp6tND2nGtjYNw2/TzHLPhcGA2WXJHLJhlDZUMsJOoAspUiwU2NpTprUBh1SZiFFWth+1YxrQQTBMWHha+/ht4ZjBNKT2cRiBf/rSt8HYirKOWddmrNJiJmLPNbtlC6hhEl2WzABsz2Bsw0N9CKrrOqhkkP1UPPedK0XTmEYfA4DD/W6lc45GNArX8S0jfw1pSe7UcSsKmEpVMTSpBoub+Az6LCzSFmLE3JJYk7ySbkn1puiiqL14EZIooooUoooooQiiiihCKKKKEIooooQrfZ+2nXIknzkChlMR0DBiDdXWzK6kAq1zlsbWuasZoMFMQYnliI3KZInVfENII39zGsvQKuHxYiVy8RomlVcXtJaTnEQfEEekcVrf8txX+ntJgP258bB7iWZD55rUxidm7WQFs+Ldfaixc04PiBFKx+FZ6Kd11ViDz7Q+6tb0H6QRpNlxKKytYdYyhnjbh2jqV5j3cjYOBtceduq5dfRlbDsNRoY+N7AD03eKyOMlkByTNNe98krzg3G45XO/drvpxcfMAQJ5gDvHXz2PmM1ei9LNmYyG7YfEO0epMEgWVLeGcG66j9E2xqYuMq/X4KAuqlk6rrcOC1iQGSJ1BuRYGpdRc2+t98UhRx1KoSDRBi9gDbwP5VIDl11Gt95Bvzvz8an4L5ZMLRNi5FOnYfFMnkSDlA86tNkzyOyjD4eCM692MM/pNJmYC1rkmtlJFHBD8rxjmYBcqI5JWaS31Y2uFQc7XO/iBQ2gQNabIraRD39mKQJFrgHyGzym24LGYPYOLhQ/PLhELXIbG9UrNzKQuSW4ai+lPxQiO5O0J24/NPOoJ8JZZAp8wpqgxWOZ3ZgETMSbL2FF+AC208KjljzNVDwMgT4ldUaGq1b1XNE5hrAep/Kvpcfh41+bS8g1R5JFkyPwcRqiq7A6i5OtjvFVe0dozTleukZ8iLGGa18i3sOyAOJ18ah0VVzi63/S6WF0bSw7tcSXb3XPllA+yiiiiqroIooooQiiiihCKKmYnZsyd5CRzXtD4aj1FRNKiUqzFMIXKKCbU6Ijy95A++pzyUuxTG5lNUUuRLGxBB3+nhzpGWiVdldjsiiii1F6FqCCiug1yihSCvSugfSMToMHO1nGkEh4HhHc/wBN9Pq8QKVtvoj1pPVAJIt80fC5vYoOAJtcf7nzaNypBF+YI0IPga9e6KbYG0ogkjZcRELOQcpkiOmfT3NwvY6XApqhV/iV47TOjewd+oo2E7Lap32ix6G24JGydjQYeJmdgsEQvNKf9Qj6q23rewsO8bDd3vPulvSB8ZNmIyxr2Yo+Eacj+0d5P4AVa9PelIxDCDDm2GiNlA/1XGhkP7PBfU8RbG1nWq65jYntB6LFJor1Bc/tG4Hb4n08bFFFFYr0aKKKKEIooooQiiiihCKKKKELeotzbj+v16UqfCwXu8UchvvYE/da/kb1FwEPUJlZs8rG8r829leSjd6ed+vLXQo4VjRJEr57idIVXmGmBw9zmeOz1VpszaaKciRRpppkRVGnkKlz7cYaEKQd4IveqGBwA0jaAAgE+HePlpb0NUuJwrYjtySSqp1WNGyWHAvpcsRrbhe3C5yrFrXQE3gqJewOcJJ8rcT92LSxfJMzE4aJg29CqlAfaQEXQ+RA8KRNsTZ0u5JYTzjkLD+GTNp5WrKf5RKn0OLkH7MlpF8td1OLtDFRfSwBx7UJuf5bak+VKF26D0XRLNU3Dm8RcdJPMQrefoQTrh8VFJ+zIDE3lftKfeKo9pbCxUAvNh5FX2wM6fzEuo99WWB6RwucokytxV+wwPKzaX9a0OF2xIndcj1oMDMQtKdWrE03hw+7R8LzoWO40EV6RO+FxH/EYaNid7qOrk9XSxPreqvE9D4H1w+JZD7E6hh/MQAgfumiNxTTNIubZ7SOo6X6LFU7DMyA5WIurA2NrqwswPgQSCPGrXaHRfFwgkxF19uI9avmcvaUfaAqlFjuNGScZiqVZsWI+5rpNcrpFcoTYcCiiiihSiiiihCKKKKEIooooQiiiihC1xakqCxCjeePIcT6CmM5DFXGVl3g/eDxHjVlhY8qljoTuHJfHxO8+nKuvUqBrZXzPD4c1ampzVft/FqvVxWJU2zKouci7hv4ka8wrUmPHxsbZrHk11PoGtf0q66GbShjaSaUNea2QgZgsIvkFt/a750Pe8K3uH2fgcYpJjhmHHsrmHme8vwpHs2vGd1134qth3k6nc2SDl45DffKV5dRW9x/+GUJ1wk0kB4I3zsXkFY5l8wa8/20JMHOYMQqsyqGLwkuoB3ZlIDKba21OopZ+GeMrpylpSg6z+6eOXP5AXMVho5BaRFb7QBt5HhUFdihPoJZIf2b509Ubf76nYXEpILxuGHGx1HmN49aeFYgubb71Thp06neIB47f9wvyKgLLjI96xzDmp6tz5huyKkQ9IYwbSB4m3WdSAT+yePnUoUoi+h1HEHd7qtrDaPvp0WZpOH7Xc7/AAeqsMFtQ743v4qb/EVJxTwYj/iII5D7dssn8xLN7zas0+xYSbqpjI3GMlbfujs/CurhcSn0c4kHsyjUnxkXX3AVoHbjzWLmGe83zB+YPIngpeM6IRNrhpyp/wCXNqPISoNPVfWs3tLZc0BtNGVvubRkb7LrdT5Xv4VfLtaWP6bDyC31o7SA/ug3UedWOA6RwOColRgeyyNu+yysLHyqdWfxdDMU5hgO8nSD1gnr4rBla5Wz2x0aSUdZhRZ7XMPBx/0zvDeBvfS1uON361C7OGxYqd05rlFFFCeRRRRQhFFFFCEUUUUIXqe3sDCBHIUzHNYEm2XS/LUeHhWf27C7xSLD2mykZRo1joSPGxNjuvalTh5JyCSWy2Go000W+6w435760WC2NCwCks7rbM2bKAT7OlwNDbfW0Pc4gDJeODqVOkHOOY87/jL0WQSZNwNuFj2SPCxp+KVkYMjFWG5lJDDyI1rSz7NjIKl2bkJe1cXIGVyOyNPZNU2M2IEBYEoPXq/R0vYeLhaXqsc3MJ6jiqdQWyP3L8K+2P07njsJgJl56LIPUaN6j1qs6WwwY5p2ibK88YKluyySKgXI410IVdVJ3nlVJNDIlsw0O5tCp+y66GkLN4e4/nVqOMdTN7jjZL4nRdGuO73TvFxyy9FhINmTYfEATQSixN8rGPQggFZlBAsdb63tat90Q2LjsXDJJG0cvVOEKucjNdQ3ZkAtfUaNzGtcZo3sJQzLfUZilxyvY291en9Dtt4BIlghAgtuRz3mO89aSc5PMm55Uz2lGoPn5lcz9NjMKSWm29vuD7gjisXieieOXDPOIsjIQepJV3dQ3atkJA01338Kp8NiEfuMD4X1HgRvBr36sP8A4ldH48RFGxjTSZS7lBcAhlBLAXtmYepHKgYZryGi33arN0rVYS541huyiN2fnmsCKcFeddIWxODxUkRkdMrHIA7BGQ90jmCPjflWu6CSfK8YsDzziKYP1BIhLhkUuBJ2CCCqtqLagc6xOGcLSm26WpOAJaRyPwrpaTiMFFJ9JGrciQCR5NvHpWwm/wAPpgfm8WluTwG/8SyAf01El6F45T2fk7jn1siH0Uxkf1VHYvC0/XYd4gnmD+Qslh9itGb4WZ4iNQrEvGT+0D2tedzblVD0hjYTF2TI0lzInBZh9Jl/Za6yDwlFegzbExkepwkjAfWjaJx/DnDn+Gsz0wlimQZSRNGLvE6tHKAnExSANYozEtu/+ugqxa4tMqKVakyo00yIygfGy/ALIGiutXKzC9XTdLZRRRRQroooooQiiiihCIekUsUwlD513SJlAXLe5ERPa8ibXI1FehYTaWX5xDmVkuOTbip8dD8a8lxIQSOqd0WtrfeoJ146k1t+iOIz4YKdShZD5b1/pYD0p941Ic2y+fYdxrk06pJm/JaXaGNObf8Ar9AVyDabLuNV82vw+AAqPmpSq4lxcF2cLSApNYdgHpfqr1hBLvTKd5Kdk+dhoT6a+dR5dkslyoWVDxVQXA59Xfteh18KgxTWqfhMcV0v5fl+vwrDum55rdzXs/aZG77dNYb5Lb5zsm/eVZLeRCytr6DyNWnyPZ7WMMlyfqyOqjx7Rhvpv307iMMr5XkQqTqkqkBtOTi4JHI3tTkyqQCQCRY5wAGDDcwI3GpFMjYOUfeqWfU1wCHO5gj0jqpeGxU8CfM9bkHGKSOaIeXWXyjwUCmJulmKykNlZWBBWbDkAi+UglTlIuQOG8c6ehghxRuxeOdB9JC5id04G4vpfTjY3todTHYgylRCUEitZ0lOWWSwIKm2VSeNwxOnLQ5iu6dWCN8EQOerY75So1Z7zQTtke9+fRZPaYGJWzojIO6LCVU0tZWJaw053p7oTBhsHiPlEnWSMoIiCBQqZhlLEFtWsSBqAATv4aqXZcTks0drjtgi0sRBBuRa8sN9cwOnjrlhYnYShiLyKdLGTLIrg2AMU1108ypvwPHX9e92bj5j3iP+UcYus20MGTPZweBPoD7fnXYfplhG3s6faQ/+t6s8PtbDydyaNjyzC/u315bidmOodoxnCEBlF0lQc5IZbFeNjmINtDTE0boAZI3QEX7akDxu3dv4XqzcVImyucBQd+xxHL0sV7TXlH+N2A6s4THhb9W5gmHtQy7gx9m4Zf8AuVHwO0pY7dXK6jgFY5f4dxqZtfaEmNwsuEnKssi2z5RmRgQyMALA2YA20vbeK3bWBzWFTR9Vl2kHovLcRBkZkvfKSAfaH1W9RY+tM1b7c2c0JRXIZlHVOwBAYoqNG2u68UsQtzVt9qqDS5EEhetwFbtKQKKKKKE+iiiihCKKKKELPrHlawbMCLg2I8LWPK33Vq+gk2sqeTfh+vKskdG99XHRvEFJHYcMmnMdoEU68/8Aqk8F8+wjf/pDRtn0J9Qt9JUSSnIMUsi5lPmOIPI0mQUscl26ZgwUvZ0avIFYsFysTky5tCouMwI0vutVxidgyKheNhIgBYgjJIABfunRrDXePAGs8soR1cmwBIY8lbj4AMFJPAA1uthS3UhiSD7Q4HQjx/vSWJLmN12qlaq9tQwd3EcvpWZEjoShzAqe0jXDKfsn8fjUvD46/Gn8ZiWl6s4mMBMlxJezot1XMHv3bt3ToSANBXX2Gri8EpYgqLOFViDlGYMDYgFrG4XutbhdisBRcBOf3PJZUMaysO+IPT5581HmPEEjeDYkaGwIuNbGw08KaUraxAtyAAFrW8yfE613F4WeD6aNlF7Z96X5ZhcA+F6iueVZ9pNwm2sY64v4K1w+1JYxYMHT/lyjOv7oOq+lWke1onykwsrC4ZUYvdTvC5WD+4Ec6yYeldZVCATOR4W/B81V+FaclsItsYdmBDSXQEX+eJVNL6XbS/A6bqVhMThVYNDiWjNgClyIzqdOrZFUeFrW1tbjlY8Y4N73NrXJN7cs47WXQdkECl9ahFiLHKqg2vYLuIsVt43LEgc9agMbx6H2ySzsMRv9fZaqXZ+HkIKmF2vcFXyqQb3VkS5vv1OtyNSdabm6PWYmNmCbxmsSu85dNSumhsDzvas51SkkqwCnu9saNyOcKXB11UG1xvqUpkiFxI6rprlkjOvhbWx32J5i9aBo2Ov4R6feCoGOb+1/kmOk2wppBISrN83HlCrveJn7RBIYXSV07p7qHS1YGTCOCQVNxv4n4V6pgtqOO9iY7cRcMfeRfjv8/GnpcQsscjSRROiqMsjR2uxIGVWJ1OpOns7gDVzrb+H3JMYbEvw/dItOycz4j4Xj5S3hSctezJHh2Hbw0Btp9EoOnOwveoWI6ObOk3w5PsOy/ia0FM702zS05tPReTWorf7Q6AobnD4g+Cyi/wDWguP4TWU2tsDEYbWWIhODqQ6Hl210F+RsfCoIIzTtHSNKoYm/G3qquiula5UJ9rgclnpRZvSp+xD9L+5/7VDxyEMPFbj+Jh94qXsT658R9x/Omn/4P3evBYW2MHn/AGlXUEzIcymx/Wh5ir3CYsSLfcRvH4jwrOg07DKUN1Ov630m06q9A9geLZrQMKVhsVLECsUjoCLWFioFraKwIX0AqrXanNfcfwNPQ4tW3aHkasdV1liWuiHiQrSfakjhcxHZBUFbo1r3ALHMbDcALCw3X1pWExAF80rKLX7hLG1+yjK9xe532F7btarywGpNvOouI2miDQfl+Zqxe6b38viCqDC0S3uy0cDbk6QvRdi7Oixcek6O9tUBKSoQLX7YzNxAzqQbkjnVDtzZbYWYxFgTlVxYaZWzAXU7jdW3eB42GLba7tusOPdB++9Px7VkvmYhid54nS2pG/QAa8qzeW6sBsIw1BzXy2pLd0coiB52nctDhplVgZI868VDEX8itjRPKhc9WCFv2QxuwHI1EgmDi4PpxFOVhJiE9qd7W9zHLLonQ1dD0xYf7aUoDx9+v3WqJUqSsn+/H307DOV1Vip4kaE+bb/jULX/AG/I/nXQ/O/u/EaVaVRzWnNW6bQlG6VvV5T8c9KbFsxBdi5G4sWcjyzswHuqpSSnlkqWkC4WJoN2BXEWJsN/vNySd5J4mufKzVaslIaWtO0KjsQrZcaRUmHaZHHQ6MOBHG44/jVAJqlJiY8hBUh73DhtLX1DA6buVqs2oqPoiLifv3jwSNs9F4pwXwwEUu/q7gRP4LfSNv6fs76wUsRUlSCrAkMpFiCNCCDuINejYGf+3lwpvpL0fOLCzQqpmFkkBOUOluyxPtLbL4gj2atE3C0oYl1B0OPd6j3j08MvG9rAiVgeGW3gCoYD+r33qZsHuN9r8BVXinuzMNxZiPIk2+FWewT2G+3+ApusIpx4LgYJ04ifFWlF65RSK7wclZqM1JrtRCtrlSIIy5AFT8fsdGFhcEC2cflxrmxRqTyHxP8Aa9WJaqQZlbODXDVddZn/ACyUaaEjlx8RSS5U2cEHx/WtagrxG/nUqHq5BkkUeo0Plf7qZp6tWxsei5lYVsIddneZ1HjvHHnvWYwOLCm96vIcQGGhBoxnRBG1iYoeXeX3HX41TYrY2Jh1yFgPrIb/AA3/AAofh3N2K1LSVN+ZhXwrtqzUO13XQ8ODDUfjVjDtpT3l9xv99LOproMrNdkVaXroeo8WOib6wHnpUlQDuIPxrPVK0lBIPD866F5E/f8AfXerpQjHP4VMqhhP4bHSororAq4sykaeYBvZhzFjUdpDyPw/OlMnI38xaiKEsbLYnzA+JqZKqGtEnmm3JAuxCgbzf8TYCpGGwrvqkUj/ALQRit/ByMo99XHRbLBiT8p+bBibLIVuyvmQqUNja4Da7tK022tpwSRmOHFrJK1it5FBunaAtoBpfcL3C8daZo0WuFz5LmYzHPpOhrbbzcHl8lZ7Z/R3FOA2RUBI+kex1Gh7AYeG/eRUzGYd4Tke19DdSSCDfcSByI9Km7Jzu3WZcjKLNYHIV1YFr+KAeZpfTQ2ePdqG3chltf8AiNXezs6gAyI9Erh8U+s+HFfMkm6rTYTdlh+194/tVZJUnZMuVyOY+7/c0zVEtKSwr9WqCr0Gl1GV6dVqSIXdY8FOUCi9cvVVsCFY7OxAUkHcba+PjVnes6DT0WJZdxPlw91ANlobmQVfoaWy1Uw7S9oeo/KrOGZWFwb1Ut3LUOMXUqDaUkfDOPZv2vQnQ1cRbTjsDKGjDd0upVW+w57L+hNZ1xTmB27NhW7LnK28b0bwZdxPiNaZp4hzf3XHX74nzXKxOjm1DNOx3bD8eXJaebZWHnHaCN6A+6qXGdBIj9GzL5G49zXqywO18FNq8CI3txFowTzJjI1+0PWrdMEhF4sTIoO7OqSr6Fcht6mmg5lTK65L6dagYdI9PI5HyXn+J6F4he46t4EFfiL1XS7MxcR1hfzTtf8Ajr8K9VWHEDcYZR4OUY/uyAAfxU4zuv0mGlHiEMg9WjzAe+szQYdi2p46uzIryIbZlj0fMPBhb/yF6fXpE37NeqR4rCOcpZL8VJF/UGuz4TAKMzJB5lEP3isThRvTLdLPGbQvJZdq597fH8KhfK+12ZbnfodR58qsP8Q9twyn5PhUXU65FA+6k9FNhhFzOAbj3nn9kagetZPospCZTdDHVsSYDYA2yfaAn8BttxYOcw8d48jWhgmDC4Nx+t9ZHHYTq5CBu3jyP6+FSsDOV3Eil32uF0qbXOEHP1Wuw7Ze72SeKkqfeNaexmNso6x3Y3ABZmc2F9BmJsNfjWdOMc/WPpp91NSyE7yT5m9UFeMlH6UF0mPfmvNOsoDWII3ipL7KYbj8KZOAkHL3/nXYFRp2ryJoVG5gqxw2KDeB5flzqWr1QHDSD6vxFTsEZb9ru+Op9Kxe0bCm6NZ86rgVah6WHqMslLEgrGxToeRmn89KzUzei9RC0Dynw1PQYgqbqbH9b6h3roao1Vq2sQtDBtJTo2h58P7UztRrhbEEa7udVCyU6r1UyEzTqMcZS0kKm6m1WWB248Z0JXxBtfzG41WVwrQrvHCQtvgOl3tBH96N+IPoK0GD6WRDesiemYf0m/wryU3pceKddxI8ibe6tBVqDb99eqQfg8M7NseEj5HRezv0vgYWdg45OjH4MtZPpJisFOrLHhI8x+skfV/EAVjo9qy+fmBTqbQdu82UeA19LVJxFTK33zVWaLw5vLj9/wBKTs7o/HGxJAueA5efAffWjiWwqh/zC2iCw5nUnxPj764mNcG+c++49xpdziTJuunTota3VaAApe3ou6fMfjVVHpUifEM/eN+VM1SZWzRAUuOSk4nEqguxsL29dfyqOrVU7VxV5MgOijW/tMAT8LfGinQ13wssXiOxp623IDec/QFOtFTTR1KovTEJ1+CpuyUApSSlWBUUgwCoISj9HkZQVCtSbVLbDU00JqpBS78M9ubUyDShKa6RSbVOsUsaLU4JvClCQUxai1TrrM0jsUkV29Ra6HNTrBVhwUxZTTiy1BEppQloIBV21ntVgHFduKgCUUoP41GqtRi1NzVzNUTMa7mo1QrfqipWauhqi9ZShJUaqs3EhSw9KBqMJKX1gG81QtTDa7TtS8ViRGhY/V3Dm3AVmMM5ZiTqTcnzNqVtbH9YbDujd4nnUnYWFBBdhpuF+fH9edO0mdmwk5lcarUdjsS2lSyExu4nw2BW9TdkbOfESpEgu7NbXdffc+AAJPgDUIV61/hv0e6qA4h0brJAgRVALCJ2Ha1Itm0Ym/dA5kUs4mLZ7BlJjebfi94XptIYsYaiX7TYeO/yz6bViumnRn5FIoQs0bKCrsLG4AzhuRuR6MPGs1Xu/SnZkeIikgYm/wA2ySBLokjFljOa5IGhzG1srkA3Irw7FYd43ZGBDBirKd4YGxB9ahmvHfEHy9ktonG9vT1HGXN6jfx3HyO1M0UUVddZcKikmEUuihUdTY7MJlsNTbYc1KoqCAsHYOkdkKAYzypJWrG9cKDlUaqXdo/cVXZaLVOMApBw9Rqpd2BqDZKiWrlqlHDmkGE8qIKwfhHjNqjyBrdlrH3j1qI+NlXvKD42/EVZZKSVrRr4zEpGrhHG7XEenJV67Y5r8f7UsbXX2TUiXBq29R+vGor7IB7pI+Nah1M7Eq6jim5XQ21uS/Gos+MZ9CdOQ/WtScPsxg6lgrLfUNntbjcIQ3joeFb+PoTgpVbKxBYKqSJnaMOAHbso0hD6quVn+totxetA5gySzqeIf3XTf75rzjBYUytZd3E8APzrTIgUBR3RoK3OB6PwxNGiiExs46xCsyuIwA8rsXOZcsRDX7O8WB0viprXNr2zG199uF7cawqPLyvS6Fw9OkHRd0CTkIk2HmM9vDIWGwRh+vQ4o2iBu44tlIIW3InQnlfjavS8X02wEilDI2VmRmBhBBCEMFte1rgcDpXkNFYvph8TsnadojYdxTuL0dTxLtZ7neAiN+4nPO69cxHTTZ7ZVErqi5CFWEAkRkMiFhujBVTlAG617aVkOnu0cJiXWXDs2e1pAVCg2ByPfnYZT4BeRrJUUCmAZ4Rty571nh9FUaFQVGOdPiOR7v3xhFFFFXXURRRRQhFFFFCEUUUUIRRRRQhFFFFCF29Jyiu0UKCAc0nqxXOqFLooVOyZuCBWywW1liFo8XHFGWaUJ1bmVS0Yjy2CZGyqAB2wLqG37sbRRCzrYZlUAO2cAf7gQtLt/pN1t1iBAIAkkYKHkVTmCkLoiZtcgvc6ktpbNUUUK9Giyi3VYIH376L/2Q==\"/>"
      ],
      "text/plain": [
       "<IPython.core.display.Image object>"
      ]
     },
     "metadata": {},
     "output_type": "display_data"
    },
    {
     "data": {
      "text/html": [
       "<img src=\"data:image/jpeg;base64,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\"/>"
      ],
      "text/plain": [
       "<IPython.core.display.Image object>"
      ]
     },
     "metadata": {},
     "output_type": "display_data"
    }
   ],
   "source": [
    "get_google_images('cars')"
   ]
  },
  {
   "cell_type": "code",
   "execution_count": 15,
   "id": "6f1abee7",
   "metadata": {
    "scrolled": true
   },
   "outputs": [
    {
     "data": {
      "text/html": [
       "<img src=\"data:image/jpeg;base64,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\"/>"
      ],
      "text/plain": [
       "<IPython.core.display.Image object>"
      ]
     },
     "metadata": {},
     "output_type": "display_data"
    },
    {
     "data": {
      "text/html": [
       "<img src=\"data:image/jpeg;base64,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\"/>"
      ],
      "text/plain": [
       "<IPython.core.display.Image object>"
      ]
     },
     "metadata": {},
     "output_type": "display_data"
    },
    {
     "data": {
      "text/html": [
       "<img src=\"data:image/png;base64,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\"/>"
      ],
      "text/plain": [
       "<IPython.core.display.Image object>"
      ]
     },
     "metadata": {},
     "output_type": "display_data"
    },
    {
     "data": {
      "text/html": [
       "<img src=\"data:image/jpeg;base64,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\"/>"
      ],
      "text/plain": [
       "<IPython.core.display.Image object>"
      ]
     },
     "metadata": {},
     "output_type": "display_data"
    },
    {
     "data": {
      "text/html": [
       "<img src=\"data:image/jpeg;base64,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\"/>"
      ],
      "text/plain": [
       "<IPython.core.display.Image object>"
      ]
     },
     "metadata": {},
     "output_type": "display_data"
    },
    {
     "data": {
      "text/html": [
       "<img src=\"data:image/jpeg;base64,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\"/>"
      ],
      "text/plain": [
       "<IPython.core.display.Image object>"
      ]
     },
     "metadata": {},
     "output_type": "display_data"
    },
    {
     "data": {
      "text/html": [
       "<img src=\"data:image/jpeg;base64,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\"/>"
      ],
      "text/plain": [
       "<IPython.core.display.Image object>"
      ]
     },
     "metadata": {},
     "output_type": "display_data"
    },
    {
     "data": {
      "text/html": [
       "<img src=\"data:image/jpeg;base64,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\"/>"
      ],
      "text/plain": [
       "<IPython.core.display.Image object>"
      ]
     },
     "metadata": {},
     "output_type": "display_data"
    },
    {
     "data": {
      "text/html": [
       "<img src=\"data:image/jpeg;base64,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\"/>"
      ],
      "text/plain": [
       "<IPython.core.display.Image object>"
      ]
     },
     "metadata": {},
     "output_type": "display_data"
    },
    {
     "data": {
      "text/html": [
       "<img src=\"data:image/jpeg;base64,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\"/>"
      ],
      "text/plain": [
       "<IPython.core.display.Image object>"
      ]
     },
     "metadata": {},
     "output_type": "display_data"
    }
   ],
   "source": [
    "get_google_images('Machine Learning')"
   ]
  },
  {
   "cell_type": "code",
   "execution_count": 16,
   "id": "2430cbb2",
   "metadata": {
    "scrolled": true
   },
   "outputs": [
    {
     "data": {
      "text/html": [
       "<img src=\"data:image/jpeg;base64,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\"/>"
      ],
      "text/plain": [
       "<IPython.core.display.Image object>"
      ]
     },
     "metadata": {},
     "output_type": "display_data"
    },
    {
     "data": {
      "text/html": [
       "<img src=\"data:image/jpeg;base64,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\"/>"
      ],
      "text/plain": [
       "<IPython.core.display.Image object>"
      ]
     },
     "metadata": {},
     "output_type": "display_data"
    },
    {
     "data": {
      "text/html": [
       "<img src=\"data:image/jpeg;base64,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\"/>"
      ],
      "text/plain": [
       "<IPython.core.display.Image object>"
      ]
     },
     "metadata": {},
     "output_type": "display_data"
    },
    {
     "data": {
      "text/html": [
       "<img src=\"data:image/png;base64,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\"/>"
      ],
      "text/plain": [
       "<IPython.core.display.Image object>"
      ]
     },
     "metadata": {},
     "output_type": "display_data"
    },
    {
     "data": {
      "text/html": [
       "<img src=\"data:image/jpeg;base64,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\"/>"
      ],
      "text/plain": [
       "<IPython.core.display.Image object>"
      ]
     },
     "metadata": {},
     "output_type": "display_data"
    },
    {
     "data": {
      "text/html": [
       "<img src=\"data:image/jpeg;base64,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\"/>"
      ],
      "text/plain": [
       "<IPython.core.display.Image object>"
      ]
     },
     "metadata": {},
     "output_type": "display_data"
    },
    {
     "data": {
      "text/html": [
       "<img src=\"data:image/jpeg;base64,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\"/>"
      ],
      "text/plain": [
       "<IPython.core.display.Image object>"
      ]
     },
     "metadata": {},
     "output_type": "display_data"
    },
    {
     "data": {
      "text/html": [
       "<img src=\"data:image/jpeg;base64,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\"/>"
      ],
      "text/plain": [
       "<IPython.core.display.Image object>"
      ]
     },
     "metadata": {},
     "output_type": "display_data"
    },
    {
     "data": {
      "text/html": [
       "<img src=\"data:image/jpeg;base64,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\"/>"
      ],
      "text/plain": [
       "<IPython.core.display.Image object>"
      ]
     },
     "metadata": {},
     "output_type": "display_data"
    },
    {
     "data": {
      "text/html": [
       "<img src=\"data:image/jpeg;base64,/9j/4AAQSkZJRgABAQAAAQABAAD/2wCEAAkGBxMTEhMTExIVFRMXFxoaFRYXGBoYGxgbGhoZGBobGhghHSgiGBsnHx8YITEiJSktLi4uGB8zODMtNygtLi4BCgoKDg0OGxAQGzIlICYvLS0tLzYtLS0wNS0tLy0wLS8vMTAyLy8vLi0tLS8vLS0yMi0tMC0tLTAtLS0tLy0tLv/AABEIAOEA4QMBIgACEQEDEQH/xAAcAAEAAQUBAQAAAAAAAAAAAAAABwIDBAUIBgH/xABDEAABAwIEAggCBwUHBAMAAAABAAIRAyEEEjFBIlEFBgcTMmFxgRRCIzNSYnKRsUOCkqHRJHOiweHw8RVjstIlNPL/xAAaAQEAAwEBAQAAAAAAAAAAAAAAAQIDBQQG/8QAMBEAAgEDAwIEBgICAwEAAAAAAAERAiExAxJBUfAEYXGhEyKBkbHB0eEyQiOSohT/2gAMAwEAAhEDEQA/AJxREQBERAEREAREQBEWm6J6dZXxGLoNaf7M5jXOmzi9pcQBtEQgg3KIiA0fXRxGCrkGDDb+r2hQRi63A0trVTU7zEZm3gDK3LBn0/M8lOvXbN8FWyzm4PDM/WMnTylQM8V5/beOt9v7LIVWXpPmFrTSqd5XqNcKE0wMxzO742J+XYT5+SmrsvqF2AbJJPeVRJ/vHKEW06+U2rfVff1779YU3dmOb4EZ8095U8UzGYnfZEQz1yIisVCIiAIiIAiIgCIiAIiIAiIgCIiAIiIAiIgCIiAxsdim0qb6rzDWNc5x8mgkqOuyDFuqVce55l9Q06hP4n4gEeoiFuu1XH93gHMGtVzWH8Hjqe2VpH7wXg+xXpL+1lpP1tF4/E6m9tSQNh9JUt5KrfzI3op/4qn331JwREVjA8918E4GtoL0tf72moCqUBbiZ462/wBxnkp76/kfA1ZmM1HQT+2p+YUDUsSxrmPBfLalRwlrSJDWHTNdVZenBjU8NwznpwaPP/vE8tFOfZU2MABIP0j9DOsFQvjsc2vUdVeXZ303OdlY0D6x2gz20Uy9k5HwJyzHeu1AHys5EqUKj2qIikoEREAREQBERAEREAREQBERAEREAREQBERAEREBC/bZ0mTWZTaSRTpwQ03z1TJt5MYP414Pqn0r8LXpVxJbRrNJMAlzCCyoAB4eBziq+uWPNfF1nmQHudUMGDlmKYj+7Yz+JaGmS+C3KDMEXh08Rm0yvPVV80nY0NJfCVLV3Nvy7rGH7Lnd11RqhzQ5pBa4AtIuCDcEeSuqDOzjtIbhWNw2LJNCSKVQS40h9h4FywTYiSNIjSacBjqVZgqUajKjDcOY4OB9wt05UnK1NN0VQzS9oE/A1IbmOejaCf21Ply19lA9Nry6m00Q1pqVA5xpvOUFtO5g+vrCmPtK6boNpNwhqfT1X0yGtuWhlRjyXX4QYgeZ9VC1HDBxpta5xc6pUDQGXJc2mABxa6eqhinBlV6BbUyMpio1tJ4FQU3gO46mgJspj7KJ+CdLMh702gifo6d7n29lCp6P7l/dVC9j20ajXMcwAg5qp+2pn7JI+CcA6fpBtEfQ0f8An3UkM9wiIpKhEWv6b6Up4WhUr1SRTY2XRrrFvOSECUmwRUseCARodFUgCIiAIiIAiIgCIiAIiIAiIgCIiAKiowEEHQiD7qtEBzB166AdgcW9j5cwCaLzcvokRlPMt8J/DO60DzlmRIAs8xfNqBpqPVdE9qXVY47CTTbOJoS+jGrvtU5+8B+YaudqjGkPDjYGTrIOh9v97LCulJnX8NrOvTa5X2w8znC9Ej66oyk4WfxNnxWvzHzFVtx1SkcwqEvd4HDlG535LFr928TxNDAACY05Rm8Srr95LRSnJGWQ7f7yosrrzPt+j1aibpqtNNnSqVObO1p5u7J46G16Bql+MpkuDnWkPI4YcwHWATP/AAsyk6oO7IFEEPqEEGmCIZTgji1/0WJ1eYPjGANzGxdALfnZ+mq2VCm5hpPFHia97gcxMENpkWJvcb8lrTg5fi0lq1Jcd98cLBa7ys4tc/ui80n5nF9MknPV1JdJ/wCVMfZHPwlScv1jfCWkfU0uRI/0hRLjMRVr1BWq0s1R9J5c7NF5q2gGApW7I6g7iszLlIdTdFzZ1JgBn90j2Wh5Xg9+iIpKBRx2244DCUsNP19SXRrkpDOT/F3Y91I6517U+sDcTjX5XfRUh3VPkcpLqjgdszhE7imDuq1OEb+Ho36iRNHULpDv8BhnzJDO7cfvUiaTv5tn3XolGnYl0lnw9amTxNc2p7VGwf8AGyofdSWpRlWoqYREUlQiIgCIiAIiIAiIgCIiAIiIAiIgC5+7YernwmK+JYPoMQSXDYVNXN9CJePMu5LoFeZ7QuihiOj8RTiS1hqM/FT4gB6gFvo4qtSlG2hq/DrTmO/1k5nbhSMoZdp4jJaQ0RlI+96+iNpB1RsOcAPC3yEaba81TVozTLhctAAPNrr6ba/yKUqjhSGU3JgTlcI/9dPRee/6+/U7e6lPa04S3f8AVw0ojlO0tY4stl1fDTjGuBDgY1Pdwe8p7nX0WeKLSKf0TPFU/bNPyU/O61OBrH4mnDQIqsBLYGrxrOuitYLFPLKMgHjqjbanSjRbUpxDORrul1t0uZvhr1zc3OHw7fovomfU1P2zftVzHi/n5r0vVPrO3AYljngClUptFUNIccrWs4hB1bObzaHReJ8GzGvDaUACaFW8jWcRH6LGx2NdmYXAzkp8c2H0bZsPdWc8FKNk/M7fX+DrnCYllVjalN7XscJa5pBBB3BGqyFy10P09Xwhf3GJfSDTxsYeBzpicpBbf0lbPpHrtja9ImpiXFhMZWgNmNbNDcwsdbKvxEaf/HVMJp2nMW63xe3qSP2ldfWUaZw+GqTVfLXVGHwDQhh3qbcm6m4AMHakXpuvBy2AI8O4mBFmr4cS2vmLwRlGx25R7K27IcrmMLhmj0NoEbg/5KlVTbhnu8PpUaVO6mpNPmXMTDtHDzKxOFLJI7EekCzGd1ECpTe02gy3LUZ6WFb81PKiTsd6nOpgY2qTxD6BhOxkGq7mSCQ3aCTeQpbWtGDmeIqpdbhyERFYxCIiAIiIAiIgCIiAIiIAiIgCIiAKzifA+dMpn8leWq6ydIjD4epUkBwaQyftQYSYJppdThHLwpOYzKCbBrc32YdUvHnBWIKtjALix0eLYm5gWWz6SrA0gwHVpc4wJJmGmZ1Jz29FgPmMp4nzo4hpktELyuJO9Qq9kTxHW6UWzeVMw24jhRkdEEjF08l4r05loMO7x1gLzvf3tCu9G4irGFIaCRUxJb9E0zLKRfbJDoJOs5dBEQsXox7m4uk5pyZq1N0SZ8ekga3I/NXMDXqNbQPekEPrRxPkB9OkSBym5I816HUmcb4VdOV7r1/BVSq1AyiMgy/CVgPom+AurS6cvpxa31uZsdLSRTDxlb3dEEtYAQBTdlMWkm9zcx5KsVKo7phqH/61VoGZ0ZT3/D+GwtpYKxjnOqZZdninSES6dC0ajQSfSVG5E/BrnbF78rjJXj3gPLXXa57tGjcubmn8v4VVQq/RA1QfFDb3A/F7FCGvcahLYa55IN4kzqr3wTq1N1QVmxnDQIMZoJhvMwHE+ULHL/Pfodf5qNKamsQlK6LMu8VSkly30ksYojJamC5wMxP7mmpXq+y/qkcViG5gRRa1r63IiTDP3yCPJrX7kFee6MwNOtWp0mvcXyJiwH/FzH3V0j1N6JZh8OMrYNSHn0DWsYPKGNbbnKvQp9DyeK1HTTDa3YUNW63Sz1vyzetYAAAIA0AVaItjmBERAEREAREQBERAEREAREQBERAEREAUR9rHTbXk0WvhtOzuRPz/AJNkepjcKQetfS/w2Hc8fWHhpj7x39Br7LnDrJ0hnfkaSTveDq43N9bE+jdwqVu0Hr8Jp7q5779uHk1leoS5rmtzEHRrhDZGVrfYAe6tNpNPicHFr/EyJuCb/wAOyoqbHMQRE+bsvlz8Ptuq3uIcS0xAcSyzTJvB5wD/AIVhLOwqKU7qUotZ8dFDmynLt8uYL/Q4bUxFKoeCKrJE5vmEDyWXhKc90/MDxVCRGW/d04F/SVa6IcRiGg8UOpgkZYBaf0kFMM45cPIMh1T7I+VmsFX2s8NWvpJTluG3EXW68KyynENZU9LbXZRSLgS/uaupu368qmoAMr2gzlaJu7KDMyLcl8dcsIDvqqkTlMT33nfVW69U5aBdIhvESRfjf58h/NHS47+xGnr0Uaktyli0vlTOZ580rRaPtClwd0DxxmEaEZpAnz0919oOeGtozDabC5zTZpqVJEnmQxw/gVVGmWgtdAY0ODtTYugRq7XMsR9akC9pm88WunCPeL+6ilv5u+/Q11qdKr4LdoSy4srpXn03OE72SR6rs4psZWNQnPseQItv+ILppjAAANAIC5f6mUe7dUDJqHKKhYBfI0OzOjUgcK6X6IxgrUKVVuj2Nd+YBWmneWeLxlLo201JJpYTmPr55zZyZiIi0PGEREAREQBERAEREAREQBERAEREAXwlfV43tF6wjD0u6afpKgM3jKzcztOnoHHZQ3CktTTuaSPAdpnWfvajwwktbwMGxnn+I6/dEbhRU+oHOfUzE34CTv6f4tVmdJ4w1S1wdoXOaJu6BEgRqYPtbZYobcjM4x5B3FlFs065tF5m5dzu6OltoSp7lNrnjnq0nZHx7TBaAQYlxbcO4bjyX2q7heeEPm7gfK9nezbKunJ45LWxxNLjOYO12Bn/ADKs06zXZmhrG5hAnNxcrCwUK5pVtUX/AMpibWhxFrOXmzvEt2e16AflxJLYcO8aXZmyA6X2gzmtP6q5ga5Aw3Cwx3oEsBkENkm3ERzOisdAOc3FB1MlpznNe4PFpB5Ej3X3A4+oG4XK4gDvcsOdwghsgcp/ovTuTOC9KuhLcoPtDEOAow1n1FRv1bbjNVkk5bu+9rrzM4vSDi6nRD+FmVoLgy8B1XKSLZiftTJWQzE1h3QL3ANpObGZ3C1zqvCNspgW0sFh4vO5lJriSAwQJJIGd8NE6ATptKKpEvQ1MOnu/wDD+xdq18rqgygyC5xPP5faXBYLhTabSXCIJjL5b3CzcYSGMdllrnEAC5IaQDf7OaI82nkrMNGdjQ92U3kBwBjhmL8x7rGpnT06XU0rWSSlYcS0uLRdy2mm4ujYdFdKOw+LzNIZwFj3uuAHty+zZIBjzU2dkHTAdSfg3ObmokljRswm7Y+67f7wUAVmB7Wlx7txtvBjQ+Q/qvTdWukX0K2Hr0qgdVokNqN0zsOknzbLfUNOpSipUx7jxOlVquppJzdXSd7pRZy0+bvjg6gRY2BxbKtNlVhlj2hzT5H/ADWSvQcZqHDCIiAIiIAiIgCIiAIiIAiIgCIiAxsbi20qb6jzDWAkn0/zXOHXnrC/FVXP4tRAZJyiZaPMRB//AEQpB7XetADThWXgjvB9o7N84sT+VjChDFuzEPLnRchrpBLpkkkWE35LHUql7Tp+B0Wk9V93X4s+XhJXtXTDQWkk5qYznhHzQdOfnCs4Uakd2TB7u8Ennc/+SvV3tElwsQA8tIlrxeMp8XJU1JaRlZwkxIblfe1uSyWO+/6fmdKtJVej4TbvZPnCSvdblmU0/neFud2QNceHikzcSMquGi3hlvdkkH7QB2zN1avtQ1GsAa5x4nS4XMfKrNfDEibjK3heG2c0D5t2kXUq/PffqVdNStsdUJWilZu7r1u1tX+sttGw6FY74xgdFMOLgXVGm0ZjFgSD/pyTAYSnlwWavlnvs/A45LEjTxTG2k3W/wCnCX45jsuY94PYBjWz/MLzuHpS3D8Hy1jqOTvO69G2LHAde6p1PLc+8lijTpf2QmsYdTqd5DHEsh1WOQfM7aK8abXNw0VP2Tu9JpgBgBeSZDiX+sAz5lYlPDnNT+jJGR1rXjvPO9x+q9H2e4EV8bQpuENYC52l3Ml7QeYmD6gckgrS4wafEvJc75HjhDHTwMb8hBFjrm8wTusZ2jRAjZrCfHtxDdbPrgf/AJDGwTPxdf0+vP8An+q1lFgh7QIAgi5tNr8thHNYNXO1TWlQm4Vvp1jDu7y27uLPhS1kwS+YgkXB5ZbXbEq/h3ZHisC2HeJpJGshw/oToQDsrdRxplvfCCQCJaZylsS08jYg+qoa2Hd28uLnCC4Tw6Ea/vfml0+/r7F5orSw7priG/8AHDm7dUT6t/KTN2O9YMr34Jzg6k6auFdPO72R+bo2IeNVLy5O6ExhY5pYW56bw/DZXQc7blvnm1A0JgfMuluqPWBmOwlLEstmEPb9h4s5vsf5EFbabcQcrxWntq3dbv18rYeUuF9DdoiK55QiIgCIiAIiIAiIgCIiALQ9cun24LDOqktDictPMYGYzc+QALj5NK3y1vTvQ1HF0H4euwOpvF+YOzmnZwNwUZKibnLPTXSffv7wuMGXNh3EYvL7EAmxN/eAFri2Ng2MscWli6Hx/Rb3rX1fr4HFPw1UWdxMqslrajAIBN7C0EbEbiCdLtsBI3yay6JE8PzaryOU4Z9DpOiqhOnC8vK/nfNueuQ58ifrLWnTxQDm1nbz9lccDIi1jIy2zOGo2M6X5KmoTmAnxAwHWDgSQ38XsFQ9uYNy33HHdp3gfZ+b+iItVK83a15cQ7RL5846f7H2o1ziKlPOQfFltGW1v1TEtnKQZyy3w+Jw/krlSlo5oDns4i0Fuu5PPZfKBcTLnQzQjZxLXafelN3TjuCHpfM6Kk5qabd44mrKi6lqamv/AC9hjelnHENrsuA4PySM2VpZIIBtNv58irNPGPaym0l5LQ8Pgnize/ERf0K1YpPY4kOyunKQ0kGHSInkRPqFebiMR4s9eQTJD3al0kjfW5816NyfJw3oalNtrn7mQDOUS88JDgDMk2GXmL782rI6DxrsPWpVqZgiQ4uIAJPFYnUETc3uFrxUeCB3lUER+00jJvzGSn6ZG8grT6b3AAvkN8ILpAgAWMwLAD2CbkgtHUeKX3+zYdJ4vv8AE1a8Foq1XVA0uEgPeXiecTCwqAc2Q0niIG0EeIAweYH5KtjHBgudeH5Y2Ovinht91V5eLJkbb9fsidWa6c1juhyjrLQVVFNNafHvxbOPxzYYl9R5Ds01A2IJOYBogADeB+i+yJAa4WDRIdBaMuaxO0zfzalGkzhBJBcLRbLJPuYiNdlU2iS8i/dk7RBEbGdUqlXY8O1UtmmuUnHo17tKar34xDK6BlYRDjDW85kGZ0spI7LOtDaFcUnQKVdwbWOmSuRwPjZj9PW2jVF9MtLXMggSTAN7bEHxWWy6KxopvaRDhoZAGZrSCZm2YWI2tHNTS9rK6lK1dP5ekfbilQrztcpeSSk62Ree6l9M/FYZjyWlwABLSTI2dJvcc777hehXoOLUocBERCAiIgCIiAIiIAiIgCIiA8x186qM6QwzqROSq2XUan2HRoebDoR76gLmvpDCVKT30qjctam6KrSM2QidJFxvYxFxquu1FfbP1R7yl8dRZNWk2K7QPHSGp/E3/wAZ5BZ10Tc9nhPEPTq2t2ft6dO/VQe52XMQPDbLZ9yBHpEbKplK4mAQCA1r4vGm+q+uBiJiIAuGg3dbXh9ljYilTtxnil7TltBP5zssFc69dToW5qYh3dK5/VlaFKT5TKqDGeE55ALjtliZH3p3VYIe7PmOWIE2DTl08zKuVmEmoCWyQMviJyt5/wC+atVqbcgiHtabtFru3LuWymZD0nprbChX6Nul2mJcRNTs3dREKKqOZmQE5RrUIO3yif8AJq+UZLc08ZLSOJozlu389FXhiZLiQ1pERtIFsvFxBSl2e9mbqzW18azu6PyUBwueOb92MOsC53gayk6n332jDU1adKhOXztXOEp8rXup3OqzujwvVjqti8actDDy0Hic7Mymwn72hIta58lJ/QfYrTAacZiX1HallIBjPSSCT6gNUqYXDspsbTpsaxjRDWtAa1oGwAsAr62VCRzNTxWpXi3f6iF/ZzR2h9TP+n1w1gL6FaXUnOuQW+JhgXcNZtZw1IK8gaY0mQfCDfi4cwmxby811J166uNx+DqUDAqeKi4/LUb4T6G7T5OK5jxdBzXPY8FtRhPeltnBwMOGWNQYBPqqVqGezwmpvo2PK908q1+r6YbaiKrWGdBJs5rnRLg8nLm1ANgZi/qrXcnK2Nny7LDo3m3kqalbMQbCA2b8QDfONf6LY92xrKpFUAtcAOAcYJIlp22MHYnkoSqa9DSqvQVaT/25Vul7+a6yk3PRYlSq8jOxtyXZobeJtm/Iqp5juyX5WkAGmWl3qI/34l8FVxYYfNRs5tvEf5wqW1nZMxqzc/abeIjSC1U75N3qJuW25Sd2otnFSczO5JtTd8Ep9huMrHEPotI+HaxzzvqW5RJ0kuJtrB8onJRf2F9F5MLWxBma1QBsmeGmP/Zzx+6FKC9FGDi+Ij4jS4CIisYhERAEREAREQBERAEREAVJbNjcKpEBzP2idVDgcW5jQBhqk1MOZDYO9PzyuI9i1eTLJygRYHLl1dE/MLNG66W7TerHx+BexoBr0/pKH42g8P7wlvqQdlzS6e7c7RxDT4cphsA/7C8+pTDnqdjwWsqtNppvar+aV1+Ekv0oKKssDJs7jggTG8eevsq8LShtxd7Ijwmcx+bbRfMI17QA0nK7Lxgw0cXpder6g9V3dI4zI5z/AIdnFXlpZDZswfecRE6wHHZQk29vf9GtVdOmlqtPCSXSyUy381llKLxeEj1nZF1DFQNxuJZFJp/s9J1w9wP1rgflB8I3InSJm5WqNINaGtAa1oAAAgACwAGwV1ehKDiV1upywiIpKhQj24dWO7e3pClOVxa2uANH2DH+QdAafMN5qblg9K9HU8RRqUKrc1Oo0tcPI8uRGoOxChqVBfTrdFW5HJTwHHinaRlDS2ds2/oqaIkkBpyxJm5YdQVtesnQ9XC162GqyTT0dBh7dWuG1xB9WkbLTUq3E4uDjw8N99ifJedUvB2K9WlJasN8+bzab/XjolaL1OlDHGpFMvjiO/7vmJ/NGtJAgw1sbcJl2330xGJYQzu2EOy8ZJkZgXZS0bcOW3OdoWd1e6JfWxFGhEGpUDZGxcRmMbAAEwpaaYo1KatPck4i+ZzN2oV82SnDbOkezvDGn0bg2kAHug6335f+d7+a9IsbA4YU6dOmLhjWtBsPCANlkr0HFblywiIhAREQBERAEREAREQBERAEREAXOHav0CcN0iS1v0eJmrTOzXXD2xvDjm9HDkuj14Ptj6GOI6OfUYPpcP8ASt55RaoP4Zd6sCrXTKN/D6vw9RVPHPoc8ZC4tIDw4iGFozEzAIgaEmY9dF012edWhgMGym4Dvn8dcjd5Gno0Q32J3UR9jnVz4jFiu9oNLDw/ydVd9WI8oL55hvNdCqumoRr4zV3Vwvr6+mPtxGQiItDxhERAEREBGnbP1W+IoDGUmzXw4lwGr6My4funiHln5qBC1sh5JIDTJb+LLB3jLv5rsUiVzL2m9WP+n4p7WS2jWmpScBoAfq/3CY9CxZ6lM3R7fC66ommpTyvVfVJ4WbRNzywaBUc4vDi3ZzXCDIaCfNSj2CdBj4jE13tnugGMJgw59yRyIaI9H+ai3EMa62Ys0LnZXOaS7L+S6P7IejO56Opk+Ks51Q+h4Wf4GtPuqaeT0eO200tJLOZmZbmbt8JS8uYse2REW5ygiIgCIiAIiIAiIgCIiAIiIAiIgCt1GBwLSJBBBB3BsQriIDSdVerlHA0O4ozlzOcSdSTYTzhoa30at2iIS225YREQgIiIAiIgC8v2hdWB0hg30hHfN46DjaHjQE7NcJafWdl6hEJThyciYfCvqV20Sz6R7+6yucZDs0QRsc0fzXWWBwraVOnSb4WMaxvo0AD9F4vGdQwemKOPZlFK76zf+61uVjgPOQT5sJ3XvVSinab+I1viw33/AD1+v3IiK55wiIgCIiAIiIAiIgCIiAIiIAiIgCIiAIiIAiIgCIiAIiIAiIgCIiAIiIAiIgCIiAIiID//2Q==\"/>"
      ],
      "text/plain": [
       "<IPython.core.display.Image object>"
      ]
     },
     "metadata": {},
     "output_type": "display_data"
    }
   ],
   "source": [
    "get_google_images('Guitar')"
   ]
  },
  {
   "cell_type": "code",
   "execution_count": 17,
   "id": "b8526339",
   "metadata": {},
   "outputs": [
    {
     "data": {
      "text/html": [
       "<img src=\"data:image/jpeg;base64,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\"/>"
      ],
      "text/plain": [
       "<IPython.core.display.Image object>"
      ]
     },
     "metadata": {},
     "output_type": "display_data"
    },
    {
     "data": {
      "text/html": [
       "<img src=\"data:image/jpeg;base64,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\"/>"
      ],
      "text/plain": [
       "<IPython.core.display.Image object>"
      ]
     },
     "metadata": {},
     "output_type": "display_data"
    },
    {
     "data": {
      "text/html": [
       "<img src=\"data:image/jpeg;base64,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\"/>"
      ],
      "text/plain": [
       "<IPython.core.display.Image object>"
      ]
     },
     "metadata": {},
     "output_type": "display_data"
    },
    {
     "data": {
      "text/html": [
       "<img src=\"data:image/jpeg;base64,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\"/>"
      ],
      "text/plain": [
       "<IPython.core.display.Image object>"
      ]
     },
     "metadata": {},
     "output_type": "display_data"
    },
    {
     "data": {
      "text/html": [
       "<img src=\"data:image/jpeg;base64,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\"/>"
      ],
      "text/plain": [
       "<IPython.core.display.Image object>"
      ]
     },
     "metadata": {},
     "output_type": "display_data"
    },
    {
     "data": {
      "text/html": [
       "<img src=\"data:image/jpeg;base64,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\"/>"
      ],
      "text/plain": [
       "<IPython.core.display.Image object>"
      ]
     },
     "metadata": {},
     "output_type": "display_data"
    },
    {
     "data": {
      "text/html": [
       "<img src=\"data:image/jpeg;base64,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\"/>"
      ],
      "text/plain": [
       "<IPython.core.display.Image object>"
      ]
     },
     "metadata": {},
     "output_type": "display_data"
    },
    {
     "data": {
      "text/html": [
       "<img src=\"data:image/jpeg;base64,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\"/>"
      ],
      "text/plain": [
       "<IPython.core.display.Image object>"
      ]
     },
     "metadata": {},
     "output_type": "display_data"
    },
    {
     "data": {
      "text/html": [
       "<img src=\"data:image/jpeg;base64,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\"/>"
      ],
      "text/plain": [
       "<IPython.core.display.Image object>"
      ]
     },
     "metadata": {},
     "output_type": "display_data"
    },
    {
     "data": {
      "text/html": [
       "<img src=\"data:image/jpeg;base64,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\"/>"
      ],
      "text/plain": [
       "<IPython.core.display.Image object>"
      ]
     },
     "metadata": {},
     "output_type": "display_data"
    }
   ],
   "source": [
    "get_google_images('Cakes')"
   ]
  },
  {
   "cell_type": "markdown",
   "id": "42756df6",
   "metadata": {},
   "source": [
    " "
   ]
  },
  {
   "cell_type": "markdown",
   "id": "26808123",
   "metadata": {},
   "source": [
    "4. Write a python program to search for a smartphone(e.g.: Oneplus Nord, pixel 4A, etc.) on www.flipkart.com and scrape following details for all the search results displayed on 1st page. Details to be scraped: “Brand Name”, “Smartphone name”, “Colour”, “RAM”, “Storage(ROM)”, “Primary Camera”, “Secondary Camera”, “Display Size”, “Battery Capacity”, “Price”, “Product URL”. Incase if any of the details is missing then replace it by “- “. Save your results in a dataframe and CSV."
   ]
  },
  {
   "cell_type": "code",
   "execution_count": 18,
   "id": "4d8ea690",
   "metadata": {},
   "outputs": [],
   "source": [
    "def get_smartphone_details(product_input):\n",
    "\n",
    "    # Setting up the WebDriver\n",
    "    service = Service(r\"chromedriver.exe\")\n",
    "    driver = webdriver.Chrome(service=service)\n",
    "\n",
    "    url = 'https://www.flipkart.com/'\n",
    "    driver.get(url)\n",
    "    # Clicking the X button to close the popup\n",
    "    x_button = driver.find_element(By.XPATH, '//button[@class=\"_2KpZ6l _2doB4z\"]')\n",
    "    x_button.click()\n",
    "\n",
    "    # Finding the search bar and entering the search query for the product\n",
    "    product = driver.find_element(By.CLASS_NAME, \"_3704LK\")\n",
    "    product.send_keys(product_input)\n",
    "\n",
    "    # Clicking the search button\n",
    "    search = driver.find_element(By.CLASS_NAME, \"L0Z3Pu\")\n",
    "    search.click()\n",
    "    time.sleep(3) # Giving time to load the page\n",
    "    \n",
    "    url_list = []\n",
    "    urls = driver.find_elements(By.XPATH, '//a[@class=\"_1fQZEK\"]')\n",
    "    for url in urls:\n",
    "        url_list.append(url.get_attribute('href'))\n",
    "        \n",
    "    product_details = []\n",
    "    \n",
    "    for url in url_list:\n",
    "        driver.get(url)\n",
    "        time.sleep(3)\n",
    "        name = driver.find_element(By.CLASS_NAME, \"B_NuCI\").text\n",
    "        price = driver.find_element(By.XPATH, '//div[@class=\"_30jeq3 _16Jk6d\"]').text\n",
    "\n",
    "        read_more = driver.find_element(By.XPATH, '//button[@class=\"_2KpZ6l _1FH0tX\"]').click()\n",
    "\n",
    "        time.sleep(2)\n",
    "\n",
    "        color_row = driver.find_element(By.XPATH, '//tr[@class=\"_1s_Smc row\" and contains(., \"Color\")]')\n",
    "        color = color_row.find_element(By.CLASS_NAME, \"_21lJbe\").text\n",
    "\n",
    "        display_row = driver.find_element(By.XPATH, '//tr[@class=\"_1s_Smc row\" and contains(., \"Display Size\")]')\n",
    "        display = display_row.find_element(By.CLASS_NAME, \"_21lJbe\").text\n",
    "\n",
    "        rom_row = driver.find_element(By.XPATH, '//tr[@class=\"_1s_Smc row\" and contains(., \"Internal Storage\")]')\n",
    "        rom = rom_row.find_element(By.CLASS_NAME, \"_21lJbe\").text\n",
    "\n",
    "        ram_row = driver.find_element(By.XPATH, '//tr[@class=\"_1s_Smc row\" and contains(., \"RAM\")]')\n",
    "        ram = ram_row.find_element(By.CLASS_NAME, \"_21lJbe\").text\n",
    "\n",
    "        pc_row = driver.find_element(By.XPATH, \n",
    "                                     '//tr[@class=\"_1s_Smc row\" and contains(., \"Primary Camera\") and contains(., \"MP\")]')\n",
    "        pc = pc_row.find_element(By.CLASS_NAME, \"_21lJbe\").text\n",
    "\n",
    "        try:\n",
    "            sc_row = driver.find_element(By.XPATH, \n",
    "                                         '//tr[@class=\"_1s_Smc row\" and contains(., \"Secondary Camera\") and contains(., \"MP\")]')\n",
    "            sc = sc_row.find_element(By.CLASS_NAME, \"_21lJbe\").text\n",
    "        except:\n",
    "            sc = '-'\n",
    "\n",
    "        battery_row = driver.find_element(By.XPATH, '//tr[@class=\"_1s_Smc row\" and contains(., \"Battery Capacity\")]')\n",
    "        battery = battery_row.find_element(By.CLASS_NAME, \"_21lJbe\").text\n",
    "\n",
    "\n",
    "        product_data = {\n",
    "            'Name': name,\n",
    "            'Brand': name.split()[0],\n",
    "            'Colour': color,\n",
    "            'ROM': rom,\n",
    "            'RAM': ram,\n",
    "            'Primary Camera': pc,\n",
    "            'Secondary Camera': sc,\n",
    "            'Display Size': display,\n",
    "            'Battery Capacity': battery,\n",
    "            'Price': price,\n",
    "            'Product URL': url\n",
    "        }\n",
    "\n",
    "        product_details.append(product_data)\n",
    "    \n",
    "    driver.quit()\n",
    "        \n",
    "    df = pd.DataFrame(product_details)\n",
    "    return df"
   ]
  },
  {
   "cell_type": "code",
   "execution_count": 19,
   "id": "bcc14f38",
   "metadata": {},
   "outputs": [
    {
     "data": {
      "text/html": [
       "<div>\n",
       "<style scoped>\n",
       "    .dataframe tbody tr th:only-of-type {\n",
       "        vertical-align: middle;\n",
       "    }\n",
       "\n",
       "    .dataframe tbody tr th {\n",
       "        vertical-align: top;\n",
       "    }\n",
       "\n",
       "    .dataframe thead th {\n",
       "        text-align: right;\n",
       "    }\n",
       "</style>\n",
       "<table border=\"1\" class=\"dataframe\">\n",
       "  <thead>\n",
       "    <tr style=\"text-align: right;\">\n",
       "      <th></th>\n",
       "      <th>Name</th>\n",
       "      <th>Brand</th>\n",
       "      <th>Colour</th>\n",
       "      <th>ROM</th>\n",
       "      <th>RAM</th>\n",
       "      <th>Primary Camera</th>\n",
       "      <th>Secondary Camera</th>\n",
       "      <th>Display Size</th>\n",
       "      <th>Battery Capacity</th>\n",
       "      <th>Price</th>\n",
       "      <th>Product URL</th>\n",
       "    </tr>\n",
       "  </thead>\n",
       "  <tbody>\n",
       "    <tr>\n",
       "      <th>0</th>\n",
       "      <td>SAMSUNG Galaxy S23 5G (Phantom Black, 256 GB) ...</td>\n",
       "      <td>SAMSUNG</td>\n",
       "      <td>Phantom Black</td>\n",
       "      <td>256 GB</td>\n",
       "      <td>8 GB</td>\n",
       "      <td>50MP + 10MP + 12MP</td>\n",
       "      <td>12MP Front Camera</td>\n",
       "      <td>15.49 cm (6.1 inch)</td>\n",
       "      <td>3900 mAh</td>\n",
       "      <td>₹79,999</td>\n",
       "      <td>https://www.flipkart.com/samsung-galaxy-s23-5g...</td>\n",
       "    </tr>\n",
       "    <tr>\n",
       "      <th>1</th>\n",
       "      <td>SAMSUNG Galaxy S23 5G (Cream, 256 GB)  (8 GB RAM)</td>\n",
       "      <td>SAMSUNG</td>\n",
       "      <td>Cream</td>\n",
       "      <td>256 GB</td>\n",
       "      <td>8 GB</td>\n",
       "      <td>50MP + 10MP + 12MP</td>\n",
       "      <td>12MP Front Camera</td>\n",
       "      <td>15.49 cm (6.1 inch)</td>\n",
       "      <td>3900 mAh</td>\n",
       "      <td>₹79,999</td>\n",
       "      <td>https://www.flipkart.com/samsung-galaxy-s23-5g...</td>\n",
       "    </tr>\n",
       "    <tr>\n",
       "      <th>2</th>\n",
       "      <td>SAMSUNG Galaxy S23 5G (Green, 256 GB)  (8 GB RAM)</td>\n",
       "      <td>SAMSUNG</td>\n",
       "      <td>Green</td>\n",
       "      <td>256 GB</td>\n",
       "      <td>8 GB</td>\n",
       "      <td>50MP + 10MP + 12MP</td>\n",
       "      <td>12MP Front Camera</td>\n",
       "      <td>15.49 cm (6.1 inch)</td>\n",
       "      <td>3900 mAh</td>\n",
       "      <td>₹79,999</td>\n",
       "      <td>https://www.flipkart.com/samsung-galaxy-s23-5g...</td>\n",
       "    </tr>\n",
       "    <tr>\n",
       "      <th>3</th>\n",
       "      <td>SAMSUNG Galaxy S23 5G (Lavender, 256 GB)  (8 G...</td>\n",
       "      <td>SAMSUNG</td>\n",
       "      <td>Lavender</td>\n",
       "      <td>256 GB</td>\n",
       "      <td>8 GB</td>\n",
       "      <td>50MP + 10MP + 12MP</td>\n",
       "      <td>12MP Front Camera</td>\n",
       "      <td>15.49 cm (6.1 inch)</td>\n",
       "      <td>3900 mAh</td>\n",
       "      <td>₹79,999</td>\n",
       "      <td>https://www.flipkart.com/samsung-galaxy-s23-5g...</td>\n",
       "    </tr>\n",
       "    <tr>\n",
       "      <th>4</th>\n",
       "      <td>SAMSUNG Galaxy S23 5G (Phantom Black, 128 GB) ...</td>\n",
       "      <td>SAMSUNG</td>\n",
       "      <td>Phantom Black</td>\n",
       "      <td>128 GB</td>\n",
       "      <td>8 GB</td>\n",
       "      <td>50MP + 10MP + 12MP</td>\n",
       "      <td>12MP Front Camera</td>\n",
       "      <td>15.49 cm (6.1 inch)</td>\n",
       "      <td>3900 mAh</td>\n",
       "      <td>₹74,999</td>\n",
       "      <td>https://www.flipkart.com/samsung-galaxy-s23-5g...</td>\n",
       "    </tr>\n",
       "    <tr>\n",
       "      <th>5</th>\n",
       "      <td>SAMSUNG Galaxy S23 5G (Green, 128 GB)  (8 GB RAM)</td>\n",
       "      <td>SAMSUNG</td>\n",
       "      <td>Green</td>\n",
       "      <td>128 GB</td>\n",
       "      <td>8 GB</td>\n",
       "      <td>50MP + 10MP + 12MP</td>\n",
       "      <td>12MP Front Camera</td>\n",
       "      <td>15.49 cm (6.1 inch)</td>\n",
       "      <td>3900 mAh</td>\n",
       "      <td>₹74,999</td>\n",
       "      <td>https://www.flipkart.com/samsung-galaxy-s23-5g...</td>\n",
       "    </tr>\n",
       "    <tr>\n",
       "      <th>6</th>\n",
       "      <td>SAMSUNG Galaxy S23 5G (Cream, 128 GB)  (8 GB RAM)</td>\n",
       "      <td>SAMSUNG</td>\n",
       "      <td>Cream</td>\n",
       "      <td>128 GB</td>\n",
       "      <td>8 GB</td>\n",
       "      <td>50MP + 10MP + 12MP</td>\n",
       "      <td>12MP Front Camera</td>\n",
       "      <td>15.49 cm (6.1 inch)</td>\n",
       "      <td>3900 mAh</td>\n",
       "      <td>₹74,999</td>\n",
       "      <td>https://www.flipkart.com/samsung-galaxy-s23-5g...</td>\n",
       "    </tr>\n",
       "    <tr>\n",
       "      <th>7</th>\n",
       "      <td>SAMSUNG Galaxy S23 5G (Lavender, 128 GB)  (8 G...</td>\n",
       "      <td>SAMSUNG</td>\n",
       "      <td>Lavender</td>\n",
       "      <td>128 GB</td>\n",
       "      <td>8 GB</td>\n",
       "      <td>50MP + 10MP + 12MP</td>\n",
       "      <td>12MP Front Camera</td>\n",
       "      <td>15.49 cm (6.1 inch)</td>\n",
       "      <td>3900 mAh</td>\n",
       "      <td>₹74,999</td>\n",
       "      <td>https://www.flipkart.com/samsung-galaxy-s23-5g...</td>\n",
       "    </tr>\n",
       "    <tr>\n",
       "      <th>8</th>\n",
       "      <td>SAMSUNG Galaxy S23 Plus 5G (Cream, 256 GB)  (8...</td>\n",
       "      <td>SAMSUNG</td>\n",
       "      <td>Cream</td>\n",
       "      <td>256 GB</td>\n",
       "      <td>8 GB</td>\n",
       "      <td>50MP + 10MP + 12MP</td>\n",
       "      <td>12MP Front Camera</td>\n",
       "      <td>16.76 cm (6.6 inch)</td>\n",
       "      <td>4700 mAh</td>\n",
       "      <td>₹94,999</td>\n",
       "      <td>https://www.flipkart.com/samsung-galaxy-s23-pl...</td>\n",
       "    </tr>\n",
       "    <tr>\n",
       "      <th>9</th>\n",
       "      <td>SAMSUNG Galaxy S23 Plus 5G (Phantom Black, 256...</td>\n",
       "      <td>SAMSUNG</td>\n",
       "      <td>Phantom Black</td>\n",
       "      <td>256 GB</td>\n",
       "      <td>8 GB</td>\n",
       "      <td>50MP + 10MP + 12MP</td>\n",
       "      <td>12MP Front Camera</td>\n",
       "      <td>16.76 cm (6.6 inch)</td>\n",
       "      <td>4700 mAh</td>\n",
       "      <td>₹94,999</td>\n",
       "      <td>https://www.flipkart.com/samsung-galaxy-s23-pl...</td>\n",
       "    </tr>\n",
       "    <tr>\n",
       "      <th>10</th>\n",
       "      <td>SAMSUNG Galaxy S23 Ultra 5G (Green, 256 GB)  (...</td>\n",
       "      <td>SAMSUNG</td>\n",
       "      <td>Green</td>\n",
       "      <td>256 GB</td>\n",
       "      <td>12 GB</td>\n",
       "      <td>200MP + 10MP + 12MP + 10MP</td>\n",
       "      <td>12MP Front Camera</td>\n",
       "      <td>17.27 cm (6.8 inch)</td>\n",
       "      <td>5000 mAh</td>\n",
       "      <td>₹1,24,999</td>\n",
       "      <td>https://www.flipkart.com/samsung-galaxy-s23-ul...</td>\n",
       "    </tr>\n",
       "    <tr>\n",
       "      <th>11</th>\n",
       "      <td>SAMSUNG Galaxy S23 Ultra 5G (Phantom Black, 25...</td>\n",
       "      <td>SAMSUNG</td>\n",
       "      <td>Phantom Black</td>\n",
       "      <td>256 GB</td>\n",
       "      <td>12 GB</td>\n",
       "      <td>200MP + 10MP + 12MP + 10MP</td>\n",
       "      <td>12MP Front Camera</td>\n",
       "      <td>17.27 cm (6.8 inch)</td>\n",
       "      <td>5000 mAh</td>\n",
       "      <td>₹1,24,999</td>\n",
       "      <td>https://www.flipkart.com/samsung-galaxy-s23-ul...</td>\n",
       "    </tr>\n",
       "    <tr>\n",
       "      <th>12</th>\n",
       "      <td>SAMSUNG Galaxy S23 Plus 5G (Phantom Black, 512...</td>\n",
       "      <td>SAMSUNG</td>\n",
       "      <td>Phantom Black</td>\n",
       "      <td>512 GB</td>\n",
       "      <td>8 GB</td>\n",
       "      <td>50MP + 10MP + 12MP</td>\n",
       "      <td>12MP Front Camera</td>\n",
       "      <td>16.76 cm (6.6 inch)</td>\n",
       "      <td>4700 mAh</td>\n",
       "      <td>₹1,04,999</td>\n",
       "      <td>https://www.flipkart.com/samsung-galaxy-s23-pl...</td>\n",
       "    </tr>\n",
       "    <tr>\n",
       "      <th>13</th>\n",
       "      <td>SAMSUNG Galaxy S23 Plus 5G (Cream, 512 GB)  (8...</td>\n",
       "      <td>SAMSUNG</td>\n",
       "      <td>Cream</td>\n",
       "      <td>512 GB</td>\n",
       "      <td>8 GB</td>\n",
       "      <td>50MP + 10MP + 12MP</td>\n",
       "      <td>12MP Front Camera</td>\n",
       "      <td>16.76 cm (6.6 inch)</td>\n",
       "      <td>4700 mAh</td>\n",
       "      <td>₹1,04,999</td>\n",
       "      <td>https://www.flipkart.com/samsung-galaxy-s23-pl...</td>\n",
       "    </tr>\n",
       "    <tr>\n",
       "      <th>14</th>\n",
       "      <td>SAMSUNG Galaxy S23 Ultra 5G (Green, 512 GB)  (...</td>\n",
       "      <td>SAMSUNG</td>\n",
       "      <td>Green</td>\n",
       "      <td>512 GB</td>\n",
       "      <td>12 GB</td>\n",
       "      <td>200MP + 10MP + 12MP + 10MP</td>\n",
       "      <td>12MP Front Camera</td>\n",
       "      <td>17.27 cm (6.8 inch)</td>\n",
       "      <td>5000 mAh</td>\n",
       "      <td>₹1,34,999</td>\n",
       "      <td>https://www.flipkart.com/samsung-galaxy-s23-ul...</td>\n",
       "    </tr>\n",
       "    <tr>\n",
       "      <th>15</th>\n",
       "      <td>SAMSUNG Galaxy S23 Ultra 5G (Phantom Black, 51...</td>\n",
       "      <td>SAMSUNG</td>\n",
       "      <td>Phantom Black</td>\n",
       "      <td>512 GB</td>\n",
       "      <td>12 GB</td>\n",
       "      <td>200MP + 10MP + 12MP + 10MP</td>\n",
       "      <td>12MP Front Camera</td>\n",
       "      <td>17.27 cm (6.8 inch)</td>\n",
       "      <td>5000 mAh</td>\n",
       "      <td>₹1,34,999</td>\n",
       "      <td>https://www.flipkart.com/samsung-galaxy-s23-ul...</td>\n",
       "    </tr>\n",
       "    <tr>\n",
       "      <th>16</th>\n",
       "      <td>SAMSUNG Galaxy S23 Ultra 5G (Green, 512 GB)  (...</td>\n",
       "      <td>SAMSUNG</td>\n",
       "      <td>Green</td>\n",
       "      <td>512 GB</td>\n",
       "      <td>12 GB</td>\n",
       "      <td>200MP + 10MP + 12MP + 10MP</td>\n",
       "      <td>12MP Front Camera</td>\n",
       "      <td>17.27 cm (6.8 inch)</td>\n",
       "      <td>5000 mAh</td>\n",
       "      <td>₹1,33,999</td>\n",
       "      <td>https://www.flipkart.com/samsung-galaxy-s23-ul...</td>\n",
       "    </tr>\n",
       "    <tr>\n",
       "      <th>17</th>\n",
       "      <td>SAMSUNG Galaxy S23 Ultra 5G (Cream, 256 GB)  (...</td>\n",
       "      <td>SAMSUNG</td>\n",
       "      <td>Cream</td>\n",
       "      <td>256 GB</td>\n",
       "      <td>12 GB</td>\n",
       "      <td>200MP + 10MP + 12MP + 10MP</td>\n",
       "      <td>12MP Front Camera</td>\n",
       "      <td>17.27 cm (6.8 inch)</td>\n",
       "      <td>5000 mAh</td>\n",
       "      <td>₹1,24,999</td>\n",
       "      <td>https://www.flipkart.com/samsung-galaxy-s23-ul...</td>\n",
       "    </tr>\n",
       "    <tr>\n",
       "      <th>18</th>\n",
       "      <td>SAMSUNG Galaxy S23 Ultra 5G Smarphone (Green, ...</td>\n",
       "      <td>SAMSUNG</td>\n",
       "      <td>Green</td>\n",
       "      <td>256 GB</td>\n",
       "      <td>12 GB</td>\n",
       "      <td>200MP + 10MP + 12MP + 10MP</td>\n",
       "      <td>12MP Front Camera</td>\n",
       "      <td>17.27 cm (6.8 inch)</td>\n",
       "      <td>5000 mAh</td>\n",
       "      <td>₹1,23,999</td>\n",
       "      <td>https://www.flipkart.com/samsung-galaxy-s23-ul...</td>\n",
       "    </tr>\n",
       "    <tr>\n",
       "      <th>19</th>\n",
       "      <td>SAMSUNG Galaxy S23 Ultra 5G Smartphone (Phanto...</td>\n",
       "      <td>SAMSUNG</td>\n",
       "      <td>Phantom Black</td>\n",
       "      <td>256 GB</td>\n",
       "      <td>12 GB</td>\n",
       "      <td>200MP + 10MP + 12MP + 10MP</td>\n",
       "      <td>12MP Front Camera</td>\n",
       "      <td>17.27 cm (6.8 inch)</td>\n",
       "      <td>5000 mAh</td>\n",
       "      <td>₹1,23,999</td>\n",
       "      <td>https://www.flipkart.com/samsung-galaxy-s23-ul...</td>\n",
       "    </tr>\n",
       "    <tr>\n",
       "      <th>20</th>\n",
       "      <td>SAMSUNG Galaxy S23 Ultra 5G (Cream, 512 GB)  (...</td>\n",
       "      <td>SAMSUNG</td>\n",
       "      <td>Cream</td>\n",
       "      <td>512 GB</td>\n",
       "      <td>12 GB</td>\n",
       "      <td>200MP + 10MP + 12MP + 10MP</td>\n",
       "      <td>12MP Front Camera</td>\n",
       "      <td>17.27 cm (6.8 inch)</td>\n",
       "      <td>5000 mAh</td>\n",
       "      <td>₹1,34,999</td>\n",
       "      <td>https://www.flipkart.com/samsung-galaxy-s23-ul...</td>\n",
       "    </tr>\n",
       "    <tr>\n",
       "      <th>21</th>\n",
       "      <td>SAMSUNG Galaxy S23 Ultra 5G Smartphone (Cream,...</td>\n",
       "      <td>SAMSUNG</td>\n",
       "      <td>Cream</td>\n",
       "      <td>256 GB</td>\n",
       "      <td>12 GB</td>\n",
       "      <td>200MP + 10MP + 12MP + 10MP</td>\n",
       "      <td>12MP Front Camera</td>\n",
       "      <td>17.27 cm (6.8 inch)</td>\n",
       "      <td>5000 mAh</td>\n",
       "      <td>₹1,23,999</td>\n",
       "      <td>https://www.flipkart.com/samsung-galaxy-s23-ul...</td>\n",
       "    </tr>\n",
       "    <tr>\n",
       "      <th>22</th>\n",
       "      <td>SAMSUNG Galaxy F04 (Jade Purple, 64 GB)  (4 GB...</td>\n",
       "      <td>SAMSUNG</td>\n",
       "      <td>Jade Purple</td>\n",
       "      <td>64 GB</td>\n",
       "      <td>4 GB</td>\n",
       "      <td>13MP + 2MP</td>\n",
       "      <td>5MP Front Camera</td>\n",
       "      <td>16.51 cm (6.5 inch)</td>\n",
       "      <td>5000 mAh</td>\n",
       "      <td>₹7,299</td>\n",
       "      <td>https://www.flipkart.com/samsung-galaxy-f04-ja...</td>\n",
       "    </tr>\n",
       "    <tr>\n",
       "      <th>23</th>\n",
       "      <td>SAMSUNG Galaxy A50s (Prism Crush Black, 128 GB...</td>\n",
       "      <td>SAMSUNG</td>\n",
       "      <td>Prism Crush Black</td>\n",
       "      <td>128 GB</td>\n",
       "      <td>4 GB</td>\n",
       "      <td>48MP + 8MP + 5MP</td>\n",
       "      <td>32MP Front Camera</td>\n",
       "      <td>16.26 cm (6.4 inch)</td>\n",
       "      <td>4000 mAh</td>\n",
       "      <td>₹21,070</td>\n",
       "      <td>https://www.flipkart.com/samsung-galaxy-a50s-p...</td>\n",
       "    </tr>\n",
       "  </tbody>\n",
       "</table>\n",
       "</div>"
      ],
      "text/plain": [
       "                                                 Name    Brand  \\\n",
       "0   SAMSUNG Galaxy S23 5G (Phantom Black, 256 GB) ...  SAMSUNG   \n",
       "1   SAMSUNG Galaxy S23 5G (Cream, 256 GB)  (8 GB RAM)  SAMSUNG   \n",
       "2   SAMSUNG Galaxy S23 5G (Green, 256 GB)  (8 GB RAM)  SAMSUNG   \n",
       "3   SAMSUNG Galaxy S23 5G (Lavender, 256 GB)  (8 G...  SAMSUNG   \n",
       "4   SAMSUNG Galaxy S23 5G (Phantom Black, 128 GB) ...  SAMSUNG   \n",
       "5   SAMSUNG Galaxy S23 5G (Green, 128 GB)  (8 GB RAM)  SAMSUNG   \n",
       "6   SAMSUNG Galaxy S23 5G (Cream, 128 GB)  (8 GB RAM)  SAMSUNG   \n",
       "7   SAMSUNG Galaxy S23 5G (Lavender, 128 GB)  (8 G...  SAMSUNG   \n",
       "8   SAMSUNG Galaxy S23 Plus 5G (Cream, 256 GB)  (8...  SAMSUNG   \n",
       "9   SAMSUNG Galaxy S23 Plus 5G (Phantom Black, 256...  SAMSUNG   \n",
       "10  SAMSUNG Galaxy S23 Ultra 5G (Green, 256 GB)  (...  SAMSUNG   \n",
       "11  SAMSUNG Galaxy S23 Ultra 5G (Phantom Black, 25...  SAMSUNG   \n",
       "12  SAMSUNG Galaxy S23 Plus 5G (Phantom Black, 512...  SAMSUNG   \n",
       "13  SAMSUNG Galaxy S23 Plus 5G (Cream, 512 GB)  (8...  SAMSUNG   \n",
       "14  SAMSUNG Galaxy S23 Ultra 5G (Green, 512 GB)  (...  SAMSUNG   \n",
       "15  SAMSUNG Galaxy S23 Ultra 5G (Phantom Black, 51...  SAMSUNG   \n",
       "16  SAMSUNG Galaxy S23 Ultra 5G (Green, 512 GB)  (...  SAMSUNG   \n",
       "17  SAMSUNG Galaxy S23 Ultra 5G (Cream, 256 GB)  (...  SAMSUNG   \n",
       "18  SAMSUNG Galaxy S23 Ultra 5G Smarphone (Green, ...  SAMSUNG   \n",
       "19  SAMSUNG Galaxy S23 Ultra 5G Smartphone (Phanto...  SAMSUNG   \n",
       "20  SAMSUNG Galaxy S23 Ultra 5G (Cream, 512 GB)  (...  SAMSUNG   \n",
       "21  SAMSUNG Galaxy S23 Ultra 5G Smartphone (Cream,...  SAMSUNG   \n",
       "22  SAMSUNG Galaxy F04 (Jade Purple, 64 GB)  (4 GB...  SAMSUNG   \n",
       "23  SAMSUNG Galaxy A50s (Prism Crush Black, 128 GB...  SAMSUNG   \n",
       "\n",
       "               Colour     ROM    RAM              Primary Camera  \\\n",
       "0       Phantom Black  256 GB   8 GB          50MP + 10MP + 12MP   \n",
       "1               Cream  256 GB   8 GB          50MP + 10MP + 12MP   \n",
       "2               Green  256 GB   8 GB          50MP + 10MP + 12MP   \n",
       "3            Lavender  256 GB   8 GB          50MP + 10MP + 12MP   \n",
       "4       Phantom Black  128 GB   8 GB          50MP + 10MP + 12MP   \n",
       "5               Green  128 GB   8 GB          50MP + 10MP + 12MP   \n",
       "6               Cream  128 GB   8 GB          50MP + 10MP + 12MP   \n",
       "7            Lavender  128 GB   8 GB          50MP + 10MP + 12MP   \n",
       "8               Cream  256 GB   8 GB          50MP + 10MP + 12MP   \n",
       "9       Phantom Black  256 GB   8 GB          50MP + 10MP + 12MP   \n",
       "10              Green  256 GB  12 GB  200MP + 10MP + 12MP + 10MP   \n",
       "11      Phantom Black  256 GB  12 GB  200MP + 10MP + 12MP + 10MP   \n",
       "12      Phantom Black  512 GB   8 GB          50MP + 10MP + 12MP   \n",
       "13              Cream  512 GB   8 GB          50MP + 10MP + 12MP   \n",
       "14              Green  512 GB  12 GB  200MP + 10MP + 12MP + 10MP   \n",
       "15      Phantom Black  512 GB  12 GB  200MP + 10MP + 12MP + 10MP   \n",
       "16              Green  512 GB  12 GB  200MP + 10MP + 12MP + 10MP   \n",
       "17              Cream  256 GB  12 GB  200MP + 10MP + 12MP + 10MP   \n",
       "18              Green  256 GB  12 GB  200MP + 10MP + 12MP + 10MP   \n",
       "19      Phantom Black  256 GB  12 GB  200MP + 10MP + 12MP + 10MP   \n",
       "20              Cream  512 GB  12 GB  200MP + 10MP + 12MP + 10MP   \n",
       "21              Cream  256 GB  12 GB  200MP + 10MP + 12MP + 10MP   \n",
       "22        Jade Purple   64 GB   4 GB                  13MP + 2MP   \n",
       "23  Prism Crush Black  128 GB   4 GB            48MP + 8MP + 5MP   \n",
       "\n",
       "     Secondary Camera         Display Size Battery Capacity      Price  \\\n",
       "0   12MP Front Camera  15.49 cm (6.1 inch)         3900 mAh    ₹79,999   \n",
       "1   12MP Front Camera  15.49 cm (6.1 inch)         3900 mAh    ₹79,999   \n",
       "2   12MP Front Camera  15.49 cm (6.1 inch)         3900 mAh    ₹79,999   \n",
       "3   12MP Front Camera  15.49 cm (6.1 inch)         3900 mAh    ₹79,999   \n",
       "4   12MP Front Camera  15.49 cm (6.1 inch)         3900 mAh    ₹74,999   \n",
       "5   12MP Front Camera  15.49 cm (6.1 inch)         3900 mAh    ₹74,999   \n",
       "6   12MP Front Camera  15.49 cm (6.1 inch)         3900 mAh    ₹74,999   \n",
       "7   12MP Front Camera  15.49 cm (6.1 inch)         3900 mAh    ₹74,999   \n",
       "8   12MP Front Camera  16.76 cm (6.6 inch)         4700 mAh    ₹94,999   \n",
       "9   12MP Front Camera  16.76 cm (6.6 inch)         4700 mAh    ₹94,999   \n",
       "10  12MP Front Camera  17.27 cm (6.8 inch)         5000 mAh  ₹1,24,999   \n",
       "11  12MP Front Camera  17.27 cm (6.8 inch)         5000 mAh  ₹1,24,999   \n",
       "12  12MP Front Camera  16.76 cm (6.6 inch)         4700 mAh  ₹1,04,999   \n",
       "13  12MP Front Camera  16.76 cm (6.6 inch)         4700 mAh  ₹1,04,999   \n",
       "14  12MP Front Camera  17.27 cm (6.8 inch)         5000 mAh  ₹1,34,999   \n",
       "15  12MP Front Camera  17.27 cm (6.8 inch)         5000 mAh  ₹1,34,999   \n",
       "16  12MP Front Camera  17.27 cm (6.8 inch)         5000 mAh  ₹1,33,999   \n",
       "17  12MP Front Camera  17.27 cm (6.8 inch)         5000 mAh  ₹1,24,999   \n",
       "18  12MP Front Camera  17.27 cm (6.8 inch)         5000 mAh  ₹1,23,999   \n",
       "19  12MP Front Camera  17.27 cm (6.8 inch)         5000 mAh  ₹1,23,999   \n",
       "20  12MP Front Camera  17.27 cm (6.8 inch)         5000 mAh  ₹1,34,999   \n",
       "21  12MP Front Camera  17.27 cm (6.8 inch)         5000 mAh  ₹1,23,999   \n",
       "22   5MP Front Camera  16.51 cm (6.5 inch)         5000 mAh     ₹7,299   \n",
       "23  32MP Front Camera  16.26 cm (6.4 inch)         4000 mAh    ₹21,070   \n",
       "\n",
       "                                          Product URL  \n",
       "0   https://www.flipkart.com/samsung-galaxy-s23-5g...  \n",
       "1   https://www.flipkart.com/samsung-galaxy-s23-5g...  \n",
       "2   https://www.flipkart.com/samsung-galaxy-s23-5g...  \n",
       "3   https://www.flipkart.com/samsung-galaxy-s23-5g...  \n",
       "4   https://www.flipkart.com/samsung-galaxy-s23-5g...  \n",
       "5   https://www.flipkart.com/samsung-galaxy-s23-5g...  \n",
       "6   https://www.flipkart.com/samsung-galaxy-s23-5g...  \n",
       "7   https://www.flipkart.com/samsung-galaxy-s23-5g...  \n",
       "8   https://www.flipkart.com/samsung-galaxy-s23-pl...  \n",
       "9   https://www.flipkart.com/samsung-galaxy-s23-pl...  \n",
       "10  https://www.flipkart.com/samsung-galaxy-s23-ul...  \n",
       "11  https://www.flipkart.com/samsung-galaxy-s23-ul...  \n",
       "12  https://www.flipkart.com/samsung-galaxy-s23-pl...  \n",
       "13  https://www.flipkart.com/samsung-galaxy-s23-pl...  \n",
       "14  https://www.flipkart.com/samsung-galaxy-s23-ul...  \n",
       "15  https://www.flipkart.com/samsung-galaxy-s23-ul...  \n",
       "16  https://www.flipkart.com/samsung-galaxy-s23-ul...  \n",
       "17  https://www.flipkart.com/samsung-galaxy-s23-ul...  \n",
       "18  https://www.flipkart.com/samsung-galaxy-s23-ul...  \n",
       "19  https://www.flipkart.com/samsung-galaxy-s23-ul...  \n",
       "20  https://www.flipkart.com/samsung-galaxy-s23-ul...  \n",
       "21  https://www.flipkart.com/samsung-galaxy-s23-ul...  \n",
       "22  https://www.flipkart.com/samsung-galaxy-f04-ja...  \n",
       "23  https://www.flipkart.com/samsung-galaxy-a50s-p...  "
      ]
     },
     "execution_count": 19,
     "metadata": {},
     "output_type": "execute_result"
    }
   ],
   "source": [
    "get_smartphone_details('Samsung S23')"
   ]
  },
  {
   "cell_type": "markdown",
   "id": "38d6054f",
   "metadata": {},
   "source": [
    " "
   ]
  },
  {
   "cell_type": "markdown",
   "id": "0c5544f7",
   "metadata": {},
   "source": [
    "5. Write a program to scrap geospatial coordinates (latitude, longitude) of a city searched on google maps. "
   ]
  },
  {
   "cell_type": "code",
   "execution_count": 20,
   "id": "218cd1ba",
   "metadata": {},
   "outputs": [],
   "source": [
    "def get_city_coordinates(city_input):\n",
    "    # Setting up the WebDriver\n",
    "    service = Service(r\"chromedriver.exe\")\n",
    "    driver = webdriver.Chrome(service=service)\n",
    "\n",
    "    url = 'https://www.google.com/maps'\n",
    "    driver.get(url)\n",
    "    \n",
    "    #Rejecting all cookies\n",
    "    driver.find_element(By.XPATH, '//span[@class=\"VfPpkd-vQzf8d\" and text()=\"Reject all\"]').click()\n",
    "    \n",
    "    city = driver.find_element(By.XPATH, '//input[@class=\"searchboxinput xiQnY\"]')\n",
    "    city.send_keys(city_input)\n",
    "    city.send_keys(Keys.ENTER)\n",
    "    time.sleep(3)\n",
    "    \n",
    "    current_url = driver.current_url\n",
    "    \n",
    "    # Defineing the regex pattern to match the latitude and longitude\n",
    "    pattern = r\"@([-+]?\\d+\\.\\d+),([-+]?\\d+\\.\\d+)\"\n",
    "\n",
    "    # Extracting the latitude and longitude using regex\n",
    "    match = re.search(pattern, current_url)\n",
    "    \n",
    "    driver.quit()\n",
    "    \n",
    "    if match:\n",
    "        latitude = match.group(1)\n",
    "        longitude = match.group(2)\n",
    "        \n",
    "        \n",
    "    return latitude, longitude"
   ]
  },
  {
   "cell_type": "code",
   "execution_count": 21,
   "id": "7402d79f",
   "metadata": {},
   "outputs": [
    {
     "data": {
      "text/plain": [
       "('51.5276562', '-0.7595389')"
      ]
     },
     "execution_count": 21,
     "metadata": {},
     "output_type": "execute_result"
    }
   ],
   "source": [
    "city_input = 'London'\n",
    "get_city_coordinates(city_input)"
   ]
  },
  {
   "cell_type": "code",
   "execution_count": 22,
   "id": "bca80128",
   "metadata": {},
   "outputs": [
    {
     "data": {
      "text/plain": [
       "('28.5275593', '76.8800323')"
      ]
     },
     "execution_count": 22,
     "metadata": {},
     "output_type": "execute_result"
    }
   ],
   "source": [
    "city_input = 'New Delhi'\n",
    "get_city_coordinates(city_input)"
   ]
  },
  {
   "cell_type": "markdown",
   "id": "3e82131a",
   "metadata": {},
   "source": [
    " "
   ]
  },
  {
   "cell_type": "markdown",
   "id": "7b31340f",
   "metadata": {},
   "source": [
    "6. Write a program to scrap all the available details of best gaming laptops from digit.in"
   ]
  },
  {
   "cell_type": "code",
   "execution_count": 23,
   "id": "2ad37c4a",
   "metadata": {},
   "outputs": [],
   "source": [
    "# Setting up the WebDriver\n",
    "service = Service(r\"chromedriver.exe\")\n",
    "driver = webdriver.Chrome(service=service)\n",
    "url = 'https://www.digit.in/'\n",
    "driver.get(url)\n",
    "driver.maximize_window()"
   ]
  },
  {
   "cell_type": "code",
   "execution_count": 24,
   "id": "bfde2462",
   "metadata": {},
   "outputs": [],
   "source": [
    "driver.find_element(By.XPATH, '//span[@class=\"arrow_down laptops\"]').click()"
   ]
  },
  {
   "cell_type": "code",
   "execution_count": 25,
   "id": "7e279266",
   "metadata": {},
   "outputs": [],
   "source": [
    "driver.find_elements(By.XPATH, '//span[@class=\"tablinks laptops-4\"]')[1].click()"
   ]
  },
  {
   "cell_type": "code",
   "execution_count": 26,
   "id": "740982dd",
   "metadata": {},
   "outputs": [],
   "source": [
    "driver.find_element(By.XPATH,\n",
    "                    '//div[@class=\"slide\" and contains(., \"Best Gaming Laptops in India with Price and Specs\")]').click()"
   ]
  },
  {
   "cell_type": "code",
   "execution_count": 27,
   "id": "23534a28",
   "metadata": {},
   "outputs": [],
   "source": [
    "laptop_containers = driver.find_elements(By.CLASS_NAME, \"specfpro_details_cont\")"
   ]
  },
  {
   "cell_type": "code",
   "execution_count": 28,
   "id": "1da596a1",
   "metadata": {},
   "outputs": [],
   "source": [
    "laptop_details = []\n",
    "\n",
    "for l in laptop_containers:\n",
    "    name = l.find_element(By.XPATH, './/h3').text\n",
    "    rows = l.find_elements(By.XPATH, './/tr')\n",
    "    \n",
    "    processor = rows[1].text.strip().split(': ')[1]\n",
    "    display = rows[2].text.strip().split(': ')[1]\n",
    "    os = rows[3].text.strip().split(': ')[1]\n",
    "    memory = rows[4].text.strip().split(': ')[1]\n",
    "    ram = memory.split(' & ')[0]\n",
    "    rom = memory.split(' & ')[1]\n",
    "    graphics = rows[5].text.strip().split(': ')[1]\n",
    "    body = rows[6].text.strip().split(': ')[1]\n",
    "    price = rows[7].text.strip().split(': ')[1].replace('₹', '').strip()\n",
    "    \n",
    "    \n",
    "    data = {\n",
    "        'Laptop': name,\n",
    "        'Processor': processor,\n",
    "        'OS': os,\n",
    "        'RAM': ram,\n",
    "        'Memory': rom,\n",
    "        'Graphics Processor': graphics,\n",
    "        'Body': body,\n",
    "        'Price (in ₹)': price\n",
    "    }\n",
    "    \n",
    "    laptop_details.append(data)"
   ]
  },
  {
   "cell_type": "code",
   "execution_count": 29,
   "id": "b76af8c1",
   "metadata": {},
   "outputs": [],
   "source": [
    "driver.quit()"
   ]
  },
  {
   "cell_type": "code",
   "execution_count": 30,
   "id": "a49f2b59",
   "metadata": {},
   "outputs": [
    {
     "data": {
      "text/html": [
       "<div>\n",
       "<style scoped>\n",
       "    .dataframe tbody tr th:only-of-type {\n",
       "        vertical-align: middle;\n",
       "    }\n",
       "\n",
       "    .dataframe tbody tr th {\n",
       "        vertical-align: top;\n",
       "    }\n",
       "\n",
       "    .dataframe thead th {\n",
       "        text-align: right;\n",
       "    }\n",
       "</style>\n",
       "<table border=\"1\" class=\"dataframe\">\n",
       "  <thead>\n",
       "    <tr style=\"text-align: right;\">\n",
       "      <th></th>\n",
       "      <th>Laptop</th>\n",
       "      <th>Processor</th>\n",
       "      <th>OS</th>\n",
       "      <th>RAM</th>\n",
       "      <th>Memory</th>\n",
       "      <th>Graphics Processor</th>\n",
       "      <th>Body</th>\n",
       "      <th>Price (in ₹)</th>\n",
       "    </tr>\n",
       "  </thead>\n",
       "  <tbody>\n",
       "    <tr>\n",
       "      <th>0</th>\n",
       "      <td>HP OMEN 17 (2023)</td>\n",
       "      <td>13th Gen Intel Core i7-13700HX 16 core process...</td>\n",
       "      <td>Windows 11 Home</td>\n",
       "      <td>16 GB DDR5GB RAM</td>\n",
       "      <td>1 TB SSD</td>\n",
       "      <td>12 GB DDR6 NVIDIA GeForce RTX 4080 Graphics card</td>\n",
       "      <td>397.1 x 262 x 27 mm dimension &amp; 2.78 kg weight</td>\n",
       "      <td>269,777</td>\n",
       "    </tr>\n",
       "    <tr>\n",
       "      <th>1</th>\n",
       "      <td>MSI Titan GT77 12UHS</td>\n",
       "      <td>12th Gen Intel Core i9-12900HX 16 core process...</td>\n",
       "      <td>Windows 11 Home</td>\n",
       "      <td>64 GB DDR5GB RAM</td>\n",
       "      <td>2 TB SSD</td>\n",
       "      <td>16 GB DDR6 NVIDIA GeForce RTX 3080Ti Graphics ...</td>\n",
       "      <td>397 x 330 x 23 mm dimension &amp; 3.3 kg weight</td>\n",
       "      <td>499,990</td>\n",
       "    </tr>\n",
       "    <tr>\n",
       "      <th>2</th>\n",
       "      <td>Lenovo Legion 5i Pro</td>\n",
       "      <td>12th Gen Intel Core i7-12700H 14 core processo...</td>\n",
       "      <td>Windows 11 Home</td>\n",
       "      <td>32 GB DDR5GB RAM</td>\n",
       "      <td>1 TB SSD</td>\n",
       "      <td>NVIDIA GeForce RTX 3070 Ti Graphics card</td>\n",
       "      <td>359.9 x 264.4 x 19.9 mm dimension &amp; 3.6 kg weight</td>\n",
       "      <td>211,990</td>\n",
       "    </tr>\n",
       "    <tr>\n",
       "      <th>3</th>\n",
       "      <td>ASUS ROG Strix Scar 18 2023</td>\n",
       "      <td>13th Gen Intel Core i9-13980HX 24 core process...</td>\n",
       "      <td>Windows 11 Home</td>\n",
       "      <td>32 GB DDR5GB RAM</td>\n",
       "      <td>1 TB SSD</td>\n",
       "      <td>12 GB DDR6 NVIDIA GeForce RTX 4080 Graphics card</td>\n",
       "      <td>294 x 399 x 23 mm dimension &amp; 3.1 kg weight</td>\n",
       "      <td>279,990</td>\n",
       "    </tr>\n",
       "    <tr>\n",
       "      <th>4</th>\n",
       "      <td>Acer Predator Helios Neo 16</td>\n",
       "      <td>13th Gen Intel Core i7-13700HX processor</td>\n",
       "      <td>Windows 11 Home</td>\n",
       "      <td>16 GB DDR5GB RAM</td>\n",
       "      <td>1 TB SSD</td>\n",
       "      <td>8 GB DDR6 NVIDIA GeForce RTX 4060 Graphics card</td>\n",
       "      <td>360 x 279 x 28 mm dimension &amp; 2.6 kg weight</td>\n",
       "      <td>149,990</td>\n",
       "    </tr>\n",
       "    <tr>\n",
       "      <th>5</th>\n",
       "      <td>ASUS ROG Zephyrus G14</td>\n",
       "      <td>AMD Ryzen 9-6900HS 8 core processor with 4.9 G...</td>\n",
       "      <td>Windows 11 Home</td>\n",
       "      <td>16 GB DDR5GB RAM</td>\n",
       "      <td>1 TB SSD</td>\n",
       "      <td>8 GB DDR6 AMD Radeon RX 6700S Graphics card</td>\n",
       "      <td>312 x 227 x 19 mm dimension &amp; 1.65 kg weight</td>\n",
       "      <td>156,990</td>\n",
       "    </tr>\n",
       "    <tr>\n",
       "      <th>6</th>\n",
       "      <td>MSI Cyborg 15</td>\n",
       "      <td>12th Gen Intel Core i7-12650H 10 core processo...</td>\n",
       "      <td>Windows 11 Home</td>\n",
       "      <td>16 GB DDR5GB RAM</td>\n",
       "      <td>1 TB SSD</td>\n",
       "      <td>8 GB DDR6 NVIDIA GeForce RTX 4060 Graphics card</td>\n",
       "      <td>&amp; 1.98 kg weight</td>\n",
       "      <td>130,990</td>\n",
       "    </tr>\n",
       "  </tbody>\n",
       "</table>\n",
       "</div>"
      ],
      "text/plain": [
       "                        Laptop  \\\n",
       "0            HP OMEN 17 (2023)   \n",
       "1         MSI Titan GT77 12UHS   \n",
       "2         Lenovo Legion 5i Pro   \n",
       "3  ASUS ROG Strix Scar 18 2023   \n",
       "4  Acer Predator Helios Neo 16   \n",
       "5        ASUS ROG Zephyrus G14   \n",
       "6                MSI Cyborg 15   \n",
       "\n",
       "                                           Processor               OS  \\\n",
       "0  13th Gen Intel Core i7-13700HX 16 core process...  Windows 11 Home   \n",
       "1  12th Gen Intel Core i9-12900HX 16 core process...  Windows 11 Home   \n",
       "2  12th Gen Intel Core i7-12700H 14 core processo...  Windows 11 Home   \n",
       "3  13th Gen Intel Core i9-13980HX 24 core process...  Windows 11 Home   \n",
       "4           13th Gen Intel Core i7-13700HX processor  Windows 11 Home   \n",
       "5  AMD Ryzen 9-6900HS 8 core processor with 4.9 G...  Windows 11 Home   \n",
       "6  12th Gen Intel Core i7-12650H 10 core processo...  Windows 11 Home   \n",
       "\n",
       "                RAM    Memory  \\\n",
       "0  16 GB DDR5GB RAM  1 TB SSD   \n",
       "1  64 GB DDR5GB RAM  2 TB SSD   \n",
       "2  32 GB DDR5GB RAM  1 TB SSD   \n",
       "3  32 GB DDR5GB RAM  1 TB SSD   \n",
       "4  16 GB DDR5GB RAM  1 TB SSD   \n",
       "5  16 GB DDR5GB RAM  1 TB SSD   \n",
       "6  16 GB DDR5GB RAM  1 TB SSD   \n",
       "\n",
       "                                  Graphics Processor  \\\n",
       "0   12 GB DDR6 NVIDIA GeForce RTX 4080 Graphics card   \n",
       "1  16 GB DDR6 NVIDIA GeForce RTX 3080Ti Graphics ...   \n",
       "2           NVIDIA GeForce RTX 3070 Ti Graphics card   \n",
       "3   12 GB DDR6 NVIDIA GeForce RTX 4080 Graphics card   \n",
       "4    8 GB DDR6 NVIDIA GeForce RTX 4060 Graphics card   \n",
       "5        8 GB DDR6 AMD Radeon RX 6700S Graphics card   \n",
       "6    8 GB DDR6 NVIDIA GeForce RTX 4060 Graphics card   \n",
       "\n",
       "                                                Body Price (in ₹)  \n",
       "0     397.1 x 262 x 27 mm dimension & 2.78 kg weight      269,777  \n",
       "1        397 x 330 x 23 mm dimension & 3.3 kg weight      499,990  \n",
       "2  359.9 x 264.4 x 19.9 mm dimension & 3.6 kg weight      211,990  \n",
       "3        294 x 399 x 23 mm dimension & 3.1 kg weight      279,990  \n",
       "4        360 x 279 x 28 mm dimension & 2.6 kg weight      149,990  \n",
       "5       312 x 227 x 19 mm dimension & 1.65 kg weight      156,990  \n",
       "6                                   & 1.98 kg weight      130,990  "
      ]
     },
     "execution_count": 30,
     "metadata": {},
     "output_type": "execute_result"
    }
   ],
   "source": [
    "df = pd.DataFrame(laptop_details)\n",
    "df"
   ]
  },
  {
   "cell_type": "markdown",
   "id": "9792d70d",
   "metadata": {},
   "source": [
    " "
   ]
  },
  {
   "cell_type": "markdown",
   "id": "b77e5060",
   "metadata": {},
   "source": [
    "7. Write a python program to scrape the details for all billionaires from www.forbes.com. Details to be scrapped: “Rank”, “Name”, “Net worth”, “Age”, “Citizenship”, “Source”, “Industry”. "
   ]
  },
  {
   "cell_type": "code",
   "execution_count": 31,
   "id": "12bdddc4",
   "metadata": {},
   "outputs": [],
   "source": [
    "def get_all_billionaires():\n",
    "    \n",
    "    # Setting up the WebDriver\n",
    "    service = Service(r\"chromedriver.exe\")\n",
    "    driver = webdriver.Chrome(service=service)\n",
    "    url = 'https://www.forbes.com/'\n",
    "    driver.get(url)\n",
    "    \n",
    "    time.sleep(3)\n",
    "\n",
    "    # Closing the cookies popup\n",
    "    driver.find_element(By.XPATH, '//button[@class=\"root__OblK1 root__lVmOp closeButton__SQejO\"]').click()\n",
    "    \n",
    "    time.sleep(2)\n",
    "    \n",
    "\n",
    "    driver.find_element(By.CLASS_NAME, \"_69hVhdY4\").click()\n",
    "\n",
    "    driver.find_element(By.XPATH, '//li[@class=\"TjJgrPSg cD45ib6e primary\" and contains(., \"Billionaires\")]').click()\n",
    "\n",
    "    driver.find_element(By.XPATH,\n",
    "                        '//li[@class=\"TjJgrPSg _2bNo56RE secondary\" and contains(., \"Billionaires\")]').click()\n",
    "\n",
    "\n",
    "    billionaire_data = []\n",
    "    \n",
    "    driver.maximize_window() # So that all the columns are visible\n",
    "\n",
    "    # Going through all pages \n",
    "    # page number is not known ahead of time - so I am going till 20. when the last page is reached, the loop will break\n",
    "    for page in range(20):\n",
    "\n",
    "        rows = driver.find_elements(By.XPATH, '//div[contains(@class, \"TableRow_row__L-0Km\")]')\n",
    "\n",
    "        for row in rows:\n",
    "            cols = row.find_elements(By.XPATH, './/div[@class=\"TableRow_cell__db-hv Table_cell__houv9\"]')\n",
    "\n",
    "            rank = cols[0].text\n",
    "            name = cols[1].text\n",
    "            net_worth = cols[2].text\n",
    "            age = cols[3].text\n",
    "            country = cols[4].text\n",
    "            source = cols[5].text\n",
    "            industry = cols[6].text\n",
    "\n",
    "            billionaire = {\n",
    "                'Rank': rank,\n",
    "                'Name': name,\n",
    "                'Net worth': net_worth,\n",
    "                'Age': age,\n",
    "                'Citizenship': country,\n",
    "                'Source': source,\n",
    "                'Industry': industry\n",
    "            }\n",
    "\n",
    "            billionaire_data.append(billionaire)\n",
    "\n",
    "        try:\n",
    "            next_page = driver.find_element(By.XPATH,\n",
    "                                            '//button[@class=\"Pagination_paginationBtn__UIBE-\" and contains(., \"Next\")]')\n",
    "            next_page.click()\n",
    "        except:\n",
    "            break\n",
    "\n",
    "        time.sleep(2)\n",
    "\n",
    "\n",
    "    driver.quit()\n",
    "\n",
    "    df = pd.DataFrame(billionaire_data)\n",
    "    return df"
   ]
  },
  {
   "cell_type": "code",
   "execution_count": 32,
   "id": "51942bd3",
   "metadata": {},
   "outputs": [
    {
     "data": {
      "text/html": [
       "<div>\n",
       "<style scoped>\n",
       "    .dataframe tbody tr th:only-of-type {\n",
       "        vertical-align: middle;\n",
       "    }\n",
       "\n",
       "    .dataframe tbody tr th {\n",
       "        vertical-align: top;\n",
       "    }\n",
       "\n",
       "    .dataframe thead th {\n",
       "        text-align: right;\n",
       "    }\n",
       "</style>\n",
       "<table border=\"1\" class=\"dataframe\">\n",
       "  <thead>\n",
       "    <tr style=\"text-align: right;\">\n",
       "      <th></th>\n",
       "      <th>Rank</th>\n",
       "      <th>Name</th>\n",
       "      <th>Net worth</th>\n",
       "      <th>Age</th>\n",
       "      <th>Citizenship</th>\n",
       "      <th>Source</th>\n",
       "      <th>Industry</th>\n",
       "    </tr>\n",
       "  </thead>\n",
       "  <tbody>\n",
       "    <tr>\n",
       "      <th>0</th>\n",
       "      <td>1</td>\n",
       "      <td>Bernard Arnault &amp; family</td>\n",
       "      <td>$211 B</td>\n",
       "      <td>74</td>\n",
       "      <td>France</td>\n",
       "      <td>LVMH</td>\n",
       "      <td>Fashion &amp; Retail</td>\n",
       "    </tr>\n",
       "    <tr>\n",
       "      <th>1</th>\n",
       "      <td>2</td>\n",
       "      <td>Elon Musk</td>\n",
       "      <td>$180 B</td>\n",
       "      <td>51</td>\n",
       "      <td>United States</td>\n",
       "      <td>Tesla, SpaceX</td>\n",
       "      <td>Automotive</td>\n",
       "    </tr>\n",
       "    <tr>\n",
       "      <th>2</th>\n",
       "      <td>3</td>\n",
       "      <td>Jeff Bezos</td>\n",
       "      <td>$114 B</td>\n",
       "      <td>59</td>\n",
       "      <td>United States</td>\n",
       "      <td>Amazon</td>\n",
       "      <td>Technology</td>\n",
       "    </tr>\n",
       "    <tr>\n",
       "      <th>3</th>\n",
       "      <td>4</td>\n",
       "      <td>Larry Ellison</td>\n",
       "      <td>$107 B</td>\n",
       "      <td>78</td>\n",
       "      <td>United States</td>\n",
       "      <td>Oracle</td>\n",
       "      <td>Technology</td>\n",
       "    </tr>\n",
       "    <tr>\n",
       "      <th>4</th>\n",
       "      <td>5</td>\n",
       "      <td>Warren Buffett</td>\n",
       "      <td>$106 B</td>\n",
       "      <td>92</td>\n",
       "      <td>United States</td>\n",
       "      <td>Berkshire Hathaway</td>\n",
       "      <td>Finance &amp; Investments</td>\n",
       "    </tr>\n",
       "    <tr>\n",
       "      <th>...</th>\n",
       "      <td>...</td>\n",
       "      <td>...</td>\n",
       "      <td>...</td>\n",
       "      <td>...</td>\n",
       "      <td>...</td>\n",
       "      <td>...</td>\n",
       "      <td>...</td>\n",
       "    </tr>\n",
       "    <tr>\n",
       "      <th>2635</th>\n",
       "      <td>2540</td>\n",
       "      <td>Yu Rong</td>\n",
       "      <td>$1 B</td>\n",
       "      <td>51</td>\n",
       "      <td>China</td>\n",
       "      <td>Health clinics</td>\n",
       "      <td>Healthcare</td>\n",
       "    </tr>\n",
       "    <tr>\n",
       "      <th>2636</th>\n",
       "      <td>2540</td>\n",
       "      <td>Richard Yuengling, Jr.</td>\n",
       "      <td>$1 B</td>\n",
       "      <td>80</td>\n",
       "      <td>United States</td>\n",
       "      <td>Beer</td>\n",
       "      <td>Food &amp; Beverage</td>\n",
       "    </tr>\n",
       "    <tr>\n",
       "      <th>2637</th>\n",
       "      <td>2540</td>\n",
       "      <td>Zhang Gongyun</td>\n",
       "      <td>$1 B</td>\n",
       "      <td>60</td>\n",
       "      <td>China</td>\n",
       "      <td>Tyre manufacturing machinery</td>\n",
       "      <td>Manufacturing</td>\n",
       "    </tr>\n",
       "    <tr>\n",
       "      <th>2638</th>\n",
       "      <td>2540</td>\n",
       "      <td>Zhang Guiping &amp; family</td>\n",
       "      <td>$1 B</td>\n",
       "      <td>71</td>\n",
       "      <td>China</td>\n",
       "      <td>Real estate</td>\n",
       "      <td>Real Estate</td>\n",
       "    </tr>\n",
       "    <tr>\n",
       "      <th>2639</th>\n",
       "      <td>2540</td>\n",
       "      <td>Inigo Zobel</td>\n",
       "      <td>$1 B</td>\n",
       "      <td>66</td>\n",
       "      <td>Philippines</td>\n",
       "      <td>Diversified</td>\n",
       "      <td>Diversified</td>\n",
       "    </tr>\n",
       "  </tbody>\n",
       "</table>\n",
       "<p>2640 rows × 7 columns</p>\n",
       "</div>"
      ],
      "text/plain": [
       "      Rank                      Name Net worth Age    Citizenship  \\\n",
       "0        1  Bernard Arnault & family    $211 B  74         France   \n",
       "1        2                 Elon Musk    $180 B  51  United States   \n",
       "2        3                Jeff Bezos    $114 B  59  United States   \n",
       "3        4             Larry Ellison    $107 B  78  United States   \n",
       "4        5            Warren Buffett    $106 B  92  United States   \n",
       "...    ...                       ...       ...  ..            ...   \n",
       "2635  2540                   Yu Rong      $1 B  51          China   \n",
       "2636  2540    Richard Yuengling, Jr.      $1 B  80  United States   \n",
       "2637  2540             Zhang Gongyun      $1 B  60          China   \n",
       "2638  2540    Zhang Guiping & family      $1 B  71          China   \n",
       "2639  2540               Inigo Zobel      $1 B  66    Philippines   \n",
       "\n",
       "                            Source               Industry  \n",
       "0                             LVMH       Fashion & Retail  \n",
       "1                    Tesla, SpaceX             Automotive  \n",
       "2                           Amazon             Technology  \n",
       "3                           Oracle             Technology  \n",
       "4               Berkshire Hathaway  Finance & Investments  \n",
       "...                            ...                    ...  \n",
       "2635                Health clinics             Healthcare  \n",
       "2636                          Beer        Food & Beverage  \n",
       "2637  Tyre manufacturing machinery          Manufacturing  \n",
       "2638                   Real estate            Real Estate  \n",
       "2639                   Diversified            Diversified  \n",
       "\n",
       "[2640 rows x 7 columns]"
      ]
     },
     "execution_count": 32,
     "metadata": {},
     "output_type": "execute_result"
    }
   ],
   "source": [
    "get_all_billionaires()"
   ]
  },
  {
   "cell_type": "markdown",
   "id": "495ce26e",
   "metadata": {},
   "source": [
    " "
   ]
  },
  {
   "cell_type": "markdown",
   "id": "36670770",
   "metadata": {},
   "source": [
    "8. Write a program to extract at least 500 Comments, Comment upvote and time when comment was posted from any YouTube Video. "
   ]
  },
  {
   "cell_type": "code",
   "execution_count": 33,
   "id": "57427e32",
   "metadata": {},
   "outputs": [],
   "source": [
    "def get_details_youtube(url):\n",
    "    \n",
    "    # Setting up the WebDriver\n",
    "    service = Service(r\"chromedriver.exe\")\n",
    "    driver = webdriver.Chrome(service=service)\n",
    "\n",
    "    driver.get(url)\n",
    "    driver.maximize_window()\n",
    "    time.sleep(3)\n",
    "\n",
    "    # Rejecting all cookies\n",
    "    driver.find_element(By.XPATH, '//button[contains(., \"Reject all\")]').click()\n",
    "    time.sleep(3)\n",
    "\n",
    "    # Pausing the video\n",
    "    driver.find_element(By.XPATH, '//button[@class=\"ytp-play-button ytp-button\"]').click()\n",
    "\n",
    "    # Scrolling to the end of the comments\n",
    "    prev_height = 0\n",
    "\n",
    "    while True:\n",
    "        height = driver.execute_script(\"\"\"\n",
    "            function getActualHeight()\n",
    "            {\n",
    "                return Math.max(\n",
    "                    Math.max(document.body.scrollHeight, document.documentElement.scrollHeight),\n",
    "                    Math.max(document.body.offsetHeight, document.documentElement.offsetHeight),\n",
    "                    Math.max(document.body.clientHeight, document.documentElement.clientHeight)\n",
    "                );\n",
    "            }\n",
    "            return getActualHeight();\n",
    "        \"\"\") # Getting the actual height of the page\n",
    "\n",
    "        driver.execute_script(f\"window.scrollTo({prev_height}, {prev_height + 300})\") # Scrolling\n",
    "        time.sleep(2) # Waiting to load comments\n",
    "        prev_height+= 300\n",
    "\n",
    "        if prev_height >= height:\n",
    "            break\n",
    "\n",
    "\n",
    "    # Finding all comments, time posted and upvotes with the XPATH\n",
    "    comments = driver.find_elements(By.XPATH, '//yt-formatted-string[@class=\"style-scope ytd-comment-renderer\"]')\n",
    "    times = driver.find_elements(By.XPATH,\n",
    "        '//a[@class=\"yt-simple-endpoint style-scope yt-formatted-string\" and contains(., \"ago\")]')\n",
    "\n",
    "    upvotes = driver.find_elements(By.XPATH, '//span[@id=\"vote-count-middle\"]')\n",
    "\n",
    "    comments_list = []\n",
    "    times_list = []\n",
    "    upvotes_list = []\n",
    "\n",
    "    # Extracting the text from the found elements\n",
    "    for c in comments:\n",
    "        comments_list.append(c.text)\n",
    "\n",
    "    for t in times:\n",
    "        times_list.append(t.text)\n",
    "\n",
    "    for u in upvotes:\n",
    "        upvotes_list.append(u.text)\n",
    "        \n",
    "\n",
    "    driver.quit()\n",
    "\n",
    "    df = pd.DataFrame({\n",
    "        'Comment': comments_list,\n",
    "        'Time posted': times_list,\n",
    "        'Upvotes': upvotes_list\n",
    "    })\n",
    "    return df"
   ]
  },
  {
   "cell_type": "code",
   "execution_count": 35,
   "id": "4e1c3967",
   "metadata": {},
   "outputs": [
    {
     "data": {
      "text/html": [
       "<div>\n",
       "<style scoped>\n",
       "    .dataframe tbody tr th:only-of-type {\n",
       "        vertical-align: middle;\n",
       "    }\n",
       "\n",
       "    .dataframe tbody tr th {\n",
       "        vertical-align: top;\n",
       "    }\n",
       "\n",
       "    .dataframe thead th {\n",
       "        text-align: right;\n",
       "    }\n",
       "</style>\n",
       "<table border=\"1\" class=\"dataframe\">\n",
       "  <thead>\n",
       "    <tr style=\"text-align: right;\">\n",
       "      <th></th>\n",
       "      <th>Comment</th>\n",
       "      <th>Time posted</th>\n",
       "      <th>Upvotes</th>\n",
       "    </tr>\n",
       "  </thead>\n",
       "  <tbody>\n",
       "    <tr>\n",
       "      <th>0</th>\n",
       "      <td>8:41 diagram venn\\n15:08 DS pathway\\n19:40 rol...</td>\n",
       "      <td>3 years ago (edited)</td>\n",
       "      <td>187</td>\n",
       "    </tr>\n",
       "    <tr>\n",
       "      <th>1</th>\n",
       "      <td>This is my first time in data science. I've li...</td>\n",
       "      <td>2 years ago</td>\n",
       "      <td>300</td>\n",
       "    </tr>\n",
       "    <tr>\n",
       "      <th>2</th>\n",
       "      <td>This is excellent even for people already work...</td>\n",
       "      <td>3 years ago (edited)</td>\n",
       "      <td>21</td>\n",
       "    </tr>\n",
       "    <tr>\n",
       "      <th>3</th>\n",
       "      <td>2:12:19 so far and cannot imagine how much eff...</td>\n",
       "      <td>3 years ago</td>\n",
       "      <td>198</td>\n",
       "    </tr>\n",
       "    <tr>\n",
       "      <th>4</th>\n",
       "      <td>Sir, you are one of the best lecturers whose c...</td>\n",
       "      <td>3 years ago</td>\n",
       "      <td>19</td>\n",
       "    </tr>\n",
       "    <tr>\n",
       "      <th>...</th>\n",
       "      <td>...</td>\n",
       "      <td>...</td>\n",
       "      <td>...</td>\n",
       "    </tr>\n",
       "    <tr>\n",
       "      <th>679</th>\n",
       "      <td>So Sophie is scammer.</td>\n",
       "      <td>2 years ago</td>\n",
       "      <td></td>\n",
       "    </tr>\n",
       "    <tr>\n",
       "      <th>680</th>\n",
       "      <td>Completely useless. You can close the video on...</td>\n",
       "      <td>2 years ago</td>\n",
       "      <td>1</td>\n",
       "    </tr>\n",
       "    <tr>\n",
       "      <th>681</th>\n",
       "      <td>i found this video quite awful...</td>\n",
       "      <td>3 years ago</td>\n",
       "      <td></td>\n",
       "    </tr>\n",
       "    <tr>\n",
       "      <th>682</th>\n",
       "      <td>I'm an hour in and:\\n\\n1) You haven't really s...</td>\n",
       "      <td>3 years ago</td>\n",
       "      <td></td>\n",
       "    </tr>\n",
       "    <tr>\n",
       "      <th>683</th>\n",
       "      <td>I hate both R and Python, their code is rubbis...</td>\n",
       "      <td>3 years ago</td>\n",
       "      <td></td>\n",
       "    </tr>\n",
       "  </tbody>\n",
       "</table>\n",
       "<p>684 rows × 3 columns</p>\n",
       "</div>"
      ],
      "text/plain": [
       "                                               Comment           Time posted  \\\n",
       "0    8:41 diagram venn\\n15:08 DS pathway\\n19:40 rol...  3 years ago (edited)   \n",
       "1    This is my first time in data science. I've li...           2 years ago   \n",
       "2    This is excellent even for people already work...  3 years ago (edited)   \n",
       "3    2:12:19 so far and cannot imagine how much eff...           3 years ago   \n",
       "4    Sir, you are one of the best lecturers whose c...           3 years ago   \n",
       "..                                                 ...                   ...   \n",
       "679                              So Sophie is scammer.           2 years ago   \n",
       "680  Completely useless. You can close the video on...           2 years ago   \n",
       "681                  i found this video quite awful...           3 years ago   \n",
       "682  I'm an hour in and:\\n\\n1) You haven't really s...           3 years ago   \n",
       "683  I hate both R and Python, their code is rubbis...           3 years ago   \n",
       "\n",
       "    Upvotes  \n",
       "0       187  \n",
       "1       300  \n",
       "2        21  \n",
       "3       198  \n",
       "4        19  \n",
       "..      ...  \n",
       "679          \n",
       "680       1  \n",
       "681          \n",
       "682          \n",
       "683          \n",
       "\n",
       "[684 rows x 3 columns]"
      ]
     },
     "execution_count": 35,
     "metadata": {},
     "output_type": "execute_result"
    }
   ],
   "source": [
    "get_details_youtube('https://www.youtube.com/watch?v=ua-CiDNNj30')"
   ]
  },
  {
   "cell_type": "markdown",
   "id": "e36fb94e",
   "metadata": {},
   "source": [
    " "
   ]
  },
  {
   "cell_type": "markdown",
   "id": "1b5ebd72",
   "metadata": {},
   "source": [
    "9. Write a python program to scrape a data for all available Hostels from https://www.hostelworld.com/ in “London” location. You have to scrape hostel name, distance from city centre, ratings, total reviews, overall reviews, privates from price, dorms from price, facilities and property description."
   ]
  },
  {
   "cell_type": "code",
   "execution_count": 75,
   "id": "6c6a6f5c",
   "metadata": {},
   "outputs": [],
   "source": [
    "def get_hostels_city(city):\n",
    "\n",
    "    # Setting up the WebDriver\n",
    "    service = Service(r\"chromedriver.exe\")\n",
    "    driver = webdriver.Chrome(service=service)\n",
    "    driver.maximize_window()\n",
    "\n",
    "    url = 'https://www.hostelworld.com/'\n",
    "    driver.get(url)\n",
    "\n",
    "    time.sleep(3)\n",
    "    \n",
    "\n",
    "    driver.find_element(By.ID, \"truste-consent-button\").click()\n",
    "\n",
    "    search_bar = driver.find_element(By.XPATH, '//input[@class=\"native-input body-1-reg\"]')\n",
    "    search_bar.send_keys(city)\n",
    "    time.sleep(2)\n",
    "\n",
    "    # Selecting 'London' from the dropdown list\n",
    "    driver.find_element(By.XPATH,\n",
    "            '/html/body/div[3]/div/div/div[2]/div[2]/div[2]/div/div/div/div[1]/div[2]/div/ul/li[2]/button').click()\n",
    "\n",
    "    # Clicking the Search Button\n",
    "    driver.find_element(By.XPATH, '//button[@class=\"btn-content large-button\"]').click()\n",
    "    time.sleep(2)\n",
    "\n",
    "    # Storing details from property cards in all properties page\n",
    "    property_details = []\n",
    "\n",
    "    # There are two pages\n",
    "    for page in range(2):\n",
    "\n",
    "        property_cards = driver.find_elements(By.XPATH, '//div[@class=\"property-card\"]')[1:]\n",
    "        flag = 0\n",
    "\n",
    "        for i in property_cards:\n",
    "            try:\n",
    "                a_div = i.find_element(By.XPATH, './/a')\n",
    "            except:\n",
    "                a_div = i.find_element(By.XPATH, './/a[@class=\"nuxt-link\"]')\n",
    "            url = a_div.get_attribute('href')\n",
    "            \n",
    "            # The page loads differently every time - so using try except block\n",
    "            \n",
    "            try:\n",
    "                name = i.find_element(By.XPATH, './/div[@class=\"property-name\"]').text\n",
    "                flag = 1\n",
    "            except:\n",
    "                name = i.find_element(By.XPATH, './/h2[contains(@class, \"title\")]').text\n",
    "                flag = -1\n",
    "\n",
    "            try:\n",
    "                if flag == 1:\n",
    "                    rating = i.find_element(By.XPATH, './/div[@class=\"score\"]').text\n",
    "                elif flag == -1:\n",
    "                    rating = i.find_element(By.XPATH, './/div[contains(@class, \"score\")]').text\n",
    "            except:\n",
    "                rating = '-'    \n",
    "\n",
    "            try:\n",
    "                rating_words = i.find_element(By.CLASS_NAME, \"keyword\").text\n",
    "            except:\n",
    "                rating_words = '-'\n",
    "\n",
    "            try:\n",
    "                if flag == 1:\n",
    "                    distance = i.find_element(By.CLASS_NAME, \n",
    "                                \"distance-description\").text.split('km')[0].replace('- ', '').replace('Hostel  ', '')\n",
    "                elif flag == -1:\n",
    "                    distance = i.find_element(By.CLASS_NAME, \n",
    "                                \"description\").text.split('km')[0].replace('- ', '').replace('Hostel  ', '')\n",
    "            except:\n",
    "                distance = '-'\n",
    "\n",
    "\n",
    "            data = {\n",
    "                'URL': url,\n",
    "                'Name': name,\n",
    "                'Rating': rating,\n",
    "                'Overall Review': rating_words,\n",
    "                'Distance from City Center (in km)': distance\n",
    "            }\n",
    "\n",
    "            property_details.append(data)\n",
    "\n",
    "        driver.execute_script(\"window.scrollTo(0, document.documentElement.scrollHeight);\")\n",
    "        time.sleep(1)\n",
    "\n",
    "        try:\n",
    "            if flag == 1:\n",
    "                next_page = driver.find_element(By.XPATH, '//button[@class=\"pill-content page-nav nav-right icon-only\"]')\n",
    "                \n",
    "            elif flag == -1:\n",
    "                next_page = driver.find_element(By.XPATH, '//div[@class=\"pagination-item pagination-next\"]')\n",
    "            next_page.click()\n",
    "            time.sleep(3)\n",
    "        except:\n",
    "            break\n",
    "\n",
    "    # Adding details from each property page        \n",
    "    hostel_details = []\n",
    "\n",
    "    for p in property_details:\n",
    "        driver.get(p['URL'])\n",
    "        time.sleep(3)\n",
    "\n",
    "        p['Total Reviews'] = driver.find_elements(By.CLASS_NAME, \"reviews\")[0].text.split()[0]\n",
    "\n",
    "\n",
    "        p['Property Description'] = driver.find_element(By.XPATH,\n",
    "                        '//div[@class=\"content collapse-content\"]').text\n",
    "\n",
    "        try:\n",
    "            private = driver.find_element(By.XPATH, '//div[@class=\"availability-table\" and contains(., \"Private Rooms\")]')\n",
    "            try:\n",
    "                pprice_container = private.find_element(By.XPATH,\n",
    "                                    './/div[@class=\"rate-price-container\" and contains(., \"Non-refundable\")]')\n",
    "            except:\n",
    "                pprice_container = private.find_element(By.XPATH,\n",
    "                                    './/div[@class=\"rate-price-container\" and contains(., \"Standard\")]')\n",
    "            p['Privates from price'] = pprice_container.find_element(By.CLASS_NAME, \"price\").text\n",
    "        except:\n",
    "            p['Privates from price'] = 'Not available'\n",
    "\n",
    "        try:\n",
    "            dorm = driver.find_element(By.XPATH, '//div[@class=\"availability-table\" and contains(., \"Dorm Beds\")]')\n",
    "            try:\n",
    "                dprice_container = dorm.find_element(By.XPATH,\n",
    "                                                 './/div[@class=\"rate-price-container\" and contains(., \"Non-refundable\")]')\n",
    "            except:\n",
    "                dprice_container = dorm.find_element(By.XPATH,\n",
    "                                                 './/div[@class=\"rate-price-container\" and contains(., \"Standard\")]')\n",
    "            p['Dorms from price'] = dprice_container.find_element(By.CLASS_NAME, \"price\").text\n",
    "        except:\n",
    "            p['Dorms from price'] = 'Not available'\n",
    "\n",
    "        facilities = ''\n",
    "        facilities_all = driver.find_elements(By.XPATH, '//ul[@class=\"facilities\"]')\n",
    "        for fa in facilities_all:\n",
    "            facility = fa.find_elements(By.XPATH, './/li')\n",
    "            facilities+=\", \".join([f.text for f in facility])+', '\n",
    "\n",
    "        p['Facilities'] = facilities[:-2]\n",
    "\n",
    "        hostel_details.append(p)\n",
    "\n",
    "        time.sleep(3)\n",
    "        \n",
    "    driver.quit()\n",
    "\n",
    "    df = pd.DataFrame(hostel_details)\n",
    "    df.drop(columns=['URL'], inplace=True)\n",
    "    return df"
   ]
  },
  {
   "cell_type": "code",
   "execution_count": 76,
   "id": "20c0e261",
   "metadata": {
    "scrolled": false
   },
   "outputs": [
    {
     "data": {
      "text/html": [
       "<div>\n",
       "<style scoped>\n",
       "    .dataframe tbody tr th:only-of-type {\n",
       "        vertical-align: middle;\n",
       "    }\n",
       "\n",
       "    .dataframe tbody tr th {\n",
       "        vertical-align: top;\n",
       "    }\n",
       "\n",
       "    .dataframe thead th {\n",
       "        text-align: right;\n",
       "    }\n",
       "</style>\n",
       "<table border=\"1\" class=\"dataframe\">\n",
       "  <thead>\n",
       "    <tr style=\"text-align: right;\">\n",
       "      <th></th>\n",
       "      <th>Name</th>\n",
       "      <th>Rating</th>\n",
       "      <th>Overall Review</th>\n",
       "      <th>Distance from City Center (in km)</th>\n",
       "      <th>Total Reviews</th>\n",
       "      <th>Property Description</th>\n",
       "      <th>Privates from price</th>\n",
       "      <th>Dorms from price</th>\n",
       "      <th>Facilities</th>\n",
       "    </tr>\n",
       "  </thead>\n",
       "  <tbody>\n",
       "    <tr>\n",
       "      <th>0</th>\n",
       "      <td>Wombat's City Hostel London</td>\n",
       "      <td>9.0</td>\n",
       "      <td>Superb</td>\n",
       "      <td>3.6</td>\n",
       "      <td>14896</td>\n",
       "      <td>A safe haven in the middle of the metropolis: ...</td>\n",
       "      <td>£184.80</td>\n",
       "      <td>£55.23</td>\n",
       "      <td>Linen Included, Free City Maps, Free WiFi, Fre...</td>\n",
       "    </tr>\n",
       "    <tr>\n",
       "      <th>1</th>\n",
       "      <td>Onefam Notting Hill by Hostel One</td>\n",
       "      <td>9.6</td>\n",
       "      <td>Superb</td>\n",
       "      <td>5.5</td>\n",
       "      <td>2059</td>\n",
       "      <td>The perfect place for solo travelers to connec...</td>\n",
       "      <td>Not available</td>\n",
       "      <td>£74.18</td>\n",
       "      <td>Linen Included, Free WiFi, Free Internet Acces...</td>\n",
       "    </tr>\n",
       "    <tr>\n",
       "      <th>2</th>\n",
       "      <td>St Christopher's Village</td>\n",
       "      <td>7.9</td>\n",
       "      <td>Very Good</td>\n",
       "      <td>1.8</td>\n",
       "      <td>12155</td>\n",
       "      <td>St Christopher's Inn at The Village in London ...</td>\n",
       "      <td>Not available</td>\n",
       "      <td>£34.20</td>\n",
       "      <td>Linen Included, Free WiFi, Free Internet Acces...</td>\n",
       "    </tr>\n",
       "    <tr>\n",
       "      <th>3</th>\n",
       "      <td>Urbany Hostel London</td>\n",
       "      <td>9.4</td>\n",
       "      <td>Superb</td>\n",
       "      <td>5.4</td>\n",
       "      <td>780</td>\n",
       "      <td>Welcome to Urbany Hostel London, our first int...</td>\n",
       "      <td>£202.70</td>\n",
       "      <td>£72.38</td>\n",
       "      <td>Linen Included, Free WiFi, Security Lockers, M...</td>\n",
       "    </tr>\n",
       "    <tr>\n",
       "      <th>4</th>\n",
       "      <td>NX London Hostel</td>\n",
       "      <td>8.3</td>\n",
       "      <td>Fabulous</td>\n",
       "      <td>6.1</td>\n",
       "      <td>1885</td>\n",
       "      <td>Welcome to NX London Hostel!\\n\\nPLEASE READ IN...</td>\n",
       "      <td>£139.62</td>\n",
       "      <td>£25.27</td>\n",
       "      <td>Free Breakfast, Linen Included, Towels Include...</td>\n",
       "    </tr>\n",
       "    <tr>\n",
       "      <th>5</th>\n",
       "      <td>Generator London</td>\n",
       "      <td>7.4</td>\n",
       "      <td>Very Good</td>\n",
       "      <td>3</td>\n",
       "      <td>7500</td>\n",
       "      <td>Generator London is a design hotel-hostel loca...</td>\n",
       "      <td>£113.10</td>\n",
       "      <td>Not available</td>\n",
       "      <td>Linen Included, Free City Maps, Free WiFi, Fre...</td>\n",
       "    </tr>\n",
       "    <tr>\n",
       "      <th>6</th>\n",
       "      <td>Safestay London Elephant &amp; Castle</td>\n",
       "      <td>7.5</td>\n",
       "      <td>Very Good</td>\n",
       "      <td>1.7</td>\n",
       "      <td>4957</td>\n",
       "      <td>Safestay at Elephant &amp; Castle is ideal if you ...</td>\n",
       "      <td>Not available</td>\n",
       "      <td>£27.51</td>\n",
       "      <td>Linen Included, Free WiFi, Security Lockers, K...</td>\n",
       "    </tr>\n",
       "    <tr>\n",
       "      <th>7</th>\n",
       "      <td>Phoenix Hostel</td>\n",
       "      <td>7.5</td>\n",
       "      <td>Very Good</td>\n",
       "      <td>4.2</td>\n",
       "      <td>4126</td>\n",
       "      <td>The Phoenix Bar &amp; Hostel, housed in a homely E...</td>\n",
       "      <td>Not available</td>\n",
       "      <td>Not available</td>\n",
       "      <td>Linen Included, Free City Maps, Free WiFi, Fre...</td>\n",
       "    </tr>\n",
       "    <tr>\n",
       "      <th>8</th>\n",
       "      <td>Safestay London Kensington Holland Park</td>\n",
       "      <td>7.1</td>\n",
       "      <td>Very Good</td>\n",
       "      <td>5.8</td>\n",
       "      <td>1528</td>\n",
       "      <td>Safestay Holland Park\\n\\nSafestay Holland Park...</td>\n",
       "      <td>Not available</td>\n",
       "      <td>£26.58</td>\n",
       "      <td>Linen Included, Free WiFi, Security Lockers, K...</td>\n",
       "    </tr>\n",
       "    <tr>\n",
       "      <th>9</th>\n",
       "      <td>No.8 Seven Sisters</td>\n",
       "      <td>5.7</td>\n",
       "      <td>-</td>\n",
       "      <td>9</td>\n",
       "      <td>4010</td>\n",
       "      <td>For Great Facilities, Comfort &amp; Affordability ...</td>\n",
       "      <td>Not available</td>\n",
       "      <td>£14.95</td>\n",
       "      <td>Linen Included, Free WiFi, Security Lockers, K...</td>\n",
       "    </tr>\n",
       "    <tr>\n",
       "      <th>10</th>\n",
       "      <td>Queen Elizabeth Chelsea</td>\n",
       "      <td>7.4</td>\n",
       "      <td>Very Good</td>\n",
       "      <td>5.7</td>\n",
       "      <td>3480</td>\n",
       "      <td>PLEASE NOTE WE ONLY ACCEPT GUESTS FROM THE AGE...</td>\n",
       "      <td>Not available</td>\n",
       "      <td>£27.00</td>\n",
       "      <td>Linen Included, Free City Maps, Free WiFi, Fre...</td>\n",
       "    </tr>\n",
       "    <tr>\n",
       "      <th>11</th>\n",
       "      <td>St Christopher's Inn - London Bridge</td>\n",
       "      <td>8.0</td>\n",
       "      <td>Fabulous</td>\n",
       "      <td>1.8</td>\n",
       "      <td>3506</td>\n",
       "      <td>Base yourself in the electric area of London B...</td>\n",
       "      <td>Not available</td>\n",
       "      <td>£33.87</td>\n",
       "      <td>Linen Included, Free City Maps, Free WiFi, Fre...</td>\n",
       "    </tr>\n",
       "    <tr>\n",
       "      <th>12</th>\n",
       "      <td>St Christopher's Hammersmith</td>\n",
       "      <td>7.7</td>\n",
       "      <td>Very Good</td>\n",
       "      <td>7.5</td>\n",
       "      <td>4243</td>\n",
       "      <td>Good hostel, in a very convenient location new...</td>\n",
       "      <td>Not available</td>\n",
       "      <td>£22.71</td>\n",
       "      <td>Linen Included, Free City Maps, Free WiFi, Fre...</td>\n",
       "    </tr>\n",
       "    <tr>\n",
       "      <th>13</th>\n",
       "      <td>International Students House</td>\n",
       "      <td>9.3</td>\n",
       "      <td>Superb</td>\n",
       "      <td>3.3</td>\n",
       "      <td>1035</td>\n",
       "      <td>International Students House provides affordab...</td>\n",
       "      <td>£128.33</td>\n",
       "      <td>Not available</td>\n",
       "      <td>Linen Included, Free City Maps, Towels Include...</td>\n",
       "    </tr>\n",
       "    <tr>\n",
       "      <th>14</th>\n",
       "      <td>St Christopher's Camden</td>\n",
       "      <td>7.0</td>\n",
       "      <td>Very Good</td>\n",
       "      <td>4.3</td>\n",
       "      <td>4035</td>\n",
       "      <td>Find our Camden hostel in London's north, smac...</td>\n",
       "      <td>Not available</td>\n",
       "      <td>£32.61</td>\n",
       "      <td>Linen Included, Free City Maps, Free WiFi, Fre...</td>\n",
       "    </tr>\n",
       "    <tr>\n",
       "      <th>15</th>\n",
       "      <td>St Christopher's Greenwich</td>\n",
       "      <td>7.5</td>\n",
       "      <td>Very Good</td>\n",
       "      <td>7.6</td>\n",
       "      <td>3350</td>\n",
       "      <td>Discover South London's rich history in the ci...</td>\n",
       "      <td>Not available</td>\n",
       "      <td>£22.88</td>\n",
       "      <td>Linen Included, Free City Maps, Free WiFi, Fre...</td>\n",
       "    </tr>\n",
       "    <tr>\n",
       "      <th>16</th>\n",
       "      <td>Bell House Hostel</td>\n",
       "      <td>7.8</td>\n",
       "      <td>Very Good</td>\n",
       "      <td>4.2</td>\n",
       "      <td>60</td>\n",
       "      <td>Boasting a bar and a shared lounge, Bell House...</td>\n",
       "      <td>Not available</td>\n",
       "      <td>£26.10</td>\n",
       "      <td>Linen Included, Free WiFi, Security Lockers, B...</td>\n",
       "    </tr>\n",
       "    <tr>\n",
       "      <th>17</th>\n",
       "      <td>Saint James Backpackers</td>\n",
       "      <td>7.5</td>\n",
       "      <td>Very Good</td>\n",
       "      <td>5.5</td>\n",
       "      <td>1884</td>\n",
       "      <td>We are located in central London - just 5 minu...</td>\n",
       "      <td>£116.62</td>\n",
       "      <td>£54.00</td>\n",
       "      <td>Free Breakfast, Linen Included, Free City Maps...</td>\n",
       "    </tr>\n",
       "    <tr>\n",
       "      <th>18</th>\n",
       "      <td>PubLove @ The Steam Engine, Waterloo</td>\n",
       "      <td>8.0</td>\n",
       "      <td>Fabulous</td>\n",
       "      <td>0.5</td>\n",
       "      <td>394</td>\n",
       "      <td>The heart &amp; soul of London backpacking\\nPull u...</td>\n",
       "      <td>Not available</td>\n",
       "      <td>£75.00</td>\n",
       "      <td>Linen Included, Free City Maps, Free WiFi, Sec...</td>\n",
       "    </tr>\n",
       "    <tr>\n",
       "      <th>19</th>\n",
       "      <td>St Christopher's Shepherds Bush</td>\n",
       "      <td>7.5</td>\n",
       "      <td>Very Good</td>\n",
       "      <td>7</td>\n",
       "      <td>772</td>\n",
       "      <td>St Christopher's Inn Shepherds Bush gives trav...</td>\n",
       "      <td>Not available</td>\n",
       "      <td>£24.21</td>\n",
       "      <td>Linen Included, Free City Maps, Free WiFi, Sec...</td>\n",
       "    </tr>\n",
       "    <tr>\n",
       "      <th>20</th>\n",
       "      <td>Book a Bed Hostels</td>\n",
       "      <td>7.4</td>\n",
       "      <td>Very Good</td>\n",
       "      <td>6.9</td>\n",
       "      <td>1255</td>\n",
       "      <td>Welcome to Venture Hostel.Venture Hostel is a ...</td>\n",
       "      <td>£57.00</td>\n",
       "      <td>Not available</td>\n",
       "      <td>Linen Included, Free City Maps, Free WiFi, Fre...</td>\n",
       "    </tr>\n",
       "    <tr>\n",
       "      <th>21</th>\n",
       "      <td>Selina Camden</td>\n",
       "      <td>8.9</td>\n",
       "      <td>Fabulous</td>\n",
       "      <td>5.5</td>\n",
       "      <td>50</td>\n",
       "      <td>Among underground music venues, innovative mus...</td>\n",
       "      <td>£282.80</td>\n",
       "      <td>£114.80</td>\n",
       "      <td>Linen Included, Towels Included, Free WiFi, Se...</td>\n",
       "    </tr>\n",
       "    <tr>\n",
       "      <th>22</th>\n",
       "      <td>PubLove @ The Crown, Battersea</td>\n",
       "      <td>7.5</td>\n",
       "      <td>Very Good</td>\n",
       "      <td>4.7</td>\n",
       "      <td>301</td>\n",
       "      <td>Do London like a local.\\nStay just outside the...</td>\n",
       "      <td>Not available</td>\n",
       "      <td>£38.00</td>\n",
       "      <td>Linen Included, Free City Maps, Free WiFi, Sec...</td>\n",
       "    </tr>\n",
       "    <tr>\n",
       "      <th>23</th>\n",
       "      <td>Kensal Green Backpackers</td>\n",
       "      <td>5.0</td>\n",
       "      <td>-</td>\n",
       "      <td>8.2</td>\n",
       "      <td>3710</td>\n",
       "      <td>Kensal Green Backpackers is a legendary hostel...</td>\n",
       "      <td>£91.67</td>\n",
       "      <td>£25.00</td>\n",
       "      <td>Linen Included, Free City Maps, Common Room, B...</td>\n",
       "    </tr>\n",
       "    <tr>\n",
       "      <th>24</th>\n",
       "      <td>Hootananny Hostel</td>\n",
       "      <td>7.6</td>\n",
       "      <td>Very Good</td>\n",
       "      <td>5</td>\n",
       "      <td>1511</td>\n",
       "      <td>Hootananny is a lively hostel with spacious ro...</td>\n",
       "      <td>Not available</td>\n",
       "      <td>£30.40</td>\n",
       "      <td>Free Breakfast, Linen Included, Free City Maps...</td>\n",
       "    </tr>\n",
       "    <tr>\n",
       "      <th>25</th>\n",
       "      <td>Hostelle London</td>\n",
       "      <td>8.7</td>\n",
       "      <td>Fabulous</td>\n",
       "      <td>5.1</td>\n",
       "      <td>11</td>\n",
       "      <td>Hostelle is the first and only all-female host...</td>\n",
       "      <td>Not available</td>\n",
       "      <td>£59.50</td>\n",
       "      <td>Linen Included, Free City Maps, Free WiFi, Fre...</td>\n",
       "    </tr>\n",
       "    <tr>\n",
       "      <th>26</th>\n",
       "      <td>PubLove @ The White Ferry, Victoria</td>\n",
       "      <td>7.3</td>\n",
       "      <td>Very Good</td>\n",
       "      <td>2.4</td>\n",
       "      <td>338</td>\n",
       "      <td>Walk to the river, turn left, and just keep wa...</td>\n",
       "      <td>Not available</td>\n",
       "      <td>£51.67</td>\n",
       "      <td>Linen Included, Free City Maps, Free WiFi, Sec...</td>\n",
       "    </tr>\n",
       "    <tr>\n",
       "      <th>27</th>\n",
       "      <td>Elmwood Hotel</td>\n",
       "      <td>7.7</td>\n",
       "      <td>Very Good</td>\n",
       "      <td>3.2</td>\n",
       "      <td>128</td>\n",
       "      <td>Great location and extremely clean. Rooms tiny...</td>\n",
       "      <td>£216.67</td>\n",
       "      <td>Not available</td>\n",
       "      <td>Free Internet Access, Hair Dryers, Safe Deposi...</td>\n",
       "    </tr>\n",
       "    <tr>\n",
       "      <th>28</th>\n",
       "      <td>London Waterloo Hostel</td>\n",
       "      <td>5.5</td>\n",
       "      <td>-</td>\n",
       "      <td>0.7</td>\n",
       "      <td>2534</td>\n",
       "      <td>We have the honor of being the closest dedicat...</td>\n",
       "      <td>£129.37</td>\n",
       "      <td>£31.74</td>\n",
       "      <td>Linen Included, Free City Maps, Free WiFi, Fre...</td>\n",
       "    </tr>\n",
       "    <tr>\n",
       "      <th>29</th>\n",
       "      <td>PubLove @ The Rose &amp; Crown</td>\n",
       "      <td>7.5</td>\n",
       "      <td>Very Good</td>\n",
       "      <td>1.6</td>\n",
       "      <td>189</td>\n",
       "      <td>Food &amp; culture lovers, assemble!\\nThe Rose &amp; C...</td>\n",
       "      <td>Not available</td>\n",
       "      <td>£63.33</td>\n",
       "      <td>Linen Included, Free City Maps, Free WiFi, Sec...</td>\n",
       "    </tr>\n",
       "    <tr>\n",
       "      <th>30</th>\n",
       "      <td>PubLove @ The Exmouth Arms, Euston</td>\n",
       "      <td>6.7</td>\n",
       "      <td>Good</td>\n",
       "      <td>3.4</td>\n",
       "      <td>1078</td>\n",
       "      <td>Do Camden by day and curb side beers by night....</td>\n",
       "      <td>Not available</td>\n",
       "      <td>£40.00</td>\n",
       "      <td>Linen Included, Free City Maps, Free WiFi, Sec...</td>\n",
       "    </tr>\n",
       "    <tr>\n",
       "      <th>31</th>\n",
       "      <td>PubLove @ The Green Man, Paddington</td>\n",
       "      <td>5.9</td>\n",
       "      <td>-</td>\n",
       "      <td>4.3</td>\n",
       "      <td>447</td>\n",
       "      <td>Where it all began - PubLove was born here in ...</td>\n",
       "      <td>Not available</td>\n",
       "      <td>£44.33</td>\n",
       "      <td>Linen Included, Free City Maps, Free WiFi, Sec...</td>\n",
       "    </tr>\n",
       "    <tr>\n",
       "      <th>32</th>\n",
       "      <td>Belgrave Hotel London</td>\n",
       "      <td>8.3</td>\n",
       "      <td>Fabulous</td>\n",
       "      <td>2.2</td>\n",
       "      <td>11</td>\n",
       "      <td>This bright, clean and friendly Belgrave Hotel...</td>\n",
       "      <td>Not available</td>\n",
       "      <td>Not available</td>\n",
       "      <td>Free Breakfast, Free City Maps, Towels Include...</td>\n",
       "    </tr>\n",
       "    <tr>\n",
       "      <th>33</th>\n",
       "      <td>Colliers Hotel</td>\n",
       "      <td>6.1</td>\n",
       "      <td>Good</td>\n",
       "      <td>2.1</td>\n",
       "      <td>9</td>\n",
       "      <td>Colliers Hotel offers basic budget accommodati...</td>\n",
       "      <td>£149.67</td>\n",
       "      <td>Not available</td>\n",
       "      <td>Key Card Access, Adaptors, Hair Dryers, Iron /...</td>\n",
       "    </tr>\n",
       "    <tr>\n",
       "      <th>34</th>\n",
       "      <td>Beaconsfield</td>\n",
       "      <td>8.6</td>\n",
       "      <td>Fabulous</td>\n",
       "      <td>8.6</td>\n",
       "      <td>29</td>\n",
       "      <td>Beaconsfield is a basic, budget hotel, situate...</td>\n",
       "      <td>£69.00</td>\n",
       "      <td>Not available</td>\n",
       "      <td>Free WiFi, Bar, Tea &amp; Coffee Making Facilities</td>\n",
       "    </tr>\n",
       "    <tr>\n",
       "      <th>35</th>\n",
       "      <td>London House Hotel</td>\n",
       "      <td>10</td>\n",
       "      <td>Superb</td>\n",
       "      <td>5.3</td>\n",
       "      <td>1383</td>\n",
       "      <td>Our lovely boutique hotel is conveniently loca...</td>\n",
       "      <td>£274.48</td>\n",
       "      <td>Not available</td>\n",
       "      <td>Free City Maps, Free WiFi, Key Card Access, El...</td>\n",
       "    </tr>\n",
       "    <tr>\n",
       "      <th>36</th>\n",
       "      <td>Aron Guest House</td>\n",
       "      <td>2.0</td>\n",
       "      <td>-</td>\n",
       "      <td>13.1</td>\n",
       "      <td>27</td>\n",
       "      <td>Aron Guest House provides an excellent base, w...</td>\n",
       "      <td>£87.49</td>\n",
       "      <td>Not available</td>\n",
       "      <td>Free Parking, Towels Included, Free WiFi, Park...</td>\n",
       "    </tr>\n",
       "    <tr>\n",
       "      <th>37</th>\n",
       "      <td>Zedwell Piccadilly Circus</td>\n",
       "      <td>-</td>\n",
       "      <td>-</td>\n",
       "      <td>1.6</td>\n",
       "      <td>0</td>\n",
       "      <td>Experience a whole new level of relaxation at ...</td>\n",
       "      <td>£252.00</td>\n",
       "      <td>Not available</td>\n",
       "      <td>Linen Included, Towels Included, Free WiFi, Fr...</td>\n",
       "    </tr>\n",
       "    <tr>\n",
       "      <th>38</th>\n",
       "      <td>Kip Hotel</td>\n",
       "      <td>7.7</td>\n",
       "      <td>Very Good</td>\n",
       "      <td>6.8</td>\n",
       "      <td>55</td>\n",
       "      <td>Kip is on a mission to bring the world style a...</td>\n",
       "      <td>£143.00</td>\n",
       "      <td>Not available</td>\n",
       "      <td>Towels Included, Free WiFi, Key Card Access, B...</td>\n",
       "    </tr>\n",
       "    <tr>\n",
       "      <th>39</th>\n",
       "      <td>Hotel Shepherds Bush London</td>\n",
       "      <td>5.1</td>\n",
       "      <td>-</td>\n",
       "      <td>7.6</td>\n",
       "      <td>1</td>\n",
       "      <td>Hotel Shepherds Bush London provide 4 star hot...</td>\n",
       "      <td>£220.89</td>\n",
       "      <td>Not available</td>\n",
       "      <td>Linen Included, Free City Maps, Towels Include...</td>\n",
       "    </tr>\n",
       "    <tr>\n",
       "      <th>40</th>\n",
       "      <td>The London Home Hostel</td>\n",
       "      <td>4.1</td>\n",
       "      <td>-</td>\n",
       "      <td>8.2</td>\n",
       "      <td>265</td>\n",
       "      <td>If you are looking to meet and socialise with ...</td>\n",
       "      <td>Not available</td>\n",
       "      <td>Not available</td>\n",
       "      <td>Linen Included, Free WiFi, Free Internet Acces...</td>\n",
       "    </tr>\n",
       "  </tbody>\n",
       "</table>\n",
       "</div>"
      ],
      "text/plain": [
       "                                       Name Rating Overall Review  \\\n",
       "0               Wombat's City Hostel London    9.0         Superb   \n",
       "1         Onefam Notting Hill by Hostel One    9.6         Superb   \n",
       "2                  St Christopher's Village    7.9      Very Good   \n",
       "3                      Urbany Hostel London    9.4         Superb   \n",
       "4                          NX London Hostel    8.3       Fabulous   \n",
       "5                          Generator London    7.4      Very Good   \n",
       "6         Safestay London Elephant & Castle    7.5      Very Good   \n",
       "7                            Phoenix Hostel    7.5      Very Good   \n",
       "8   Safestay London Kensington Holland Park    7.1      Very Good   \n",
       "9                        No.8 Seven Sisters    5.7              -   \n",
       "10                  Queen Elizabeth Chelsea    7.4      Very Good   \n",
       "11     St Christopher's Inn - London Bridge    8.0       Fabulous   \n",
       "12             St Christopher's Hammersmith    7.7      Very Good   \n",
       "13             International Students House    9.3         Superb   \n",
       "14                  St Christopher's Camden    7.0      Very Good   \n",
       "15               St Christopher's Greenwich    7.5      Very Good   \n",
       "16                        Bell House Hostel    7.8      Very Good   \n",
       "17                  Saint James Backpackers    7.5      Very Good   \n",
       "18     PubLove @ The Steam Engine, Waterloo    8.0       Fabulous   \n",
       "19          St Christopher's Shepherds Bush    7.5      Very Good   \n",
       "20                       Book a Bed Hostels    7.4      Very Good   \n",
       "21                            Selina Camden    8.9       Fabulous   \n",
       "22           PubLove @ The Crown, Battersea    7.5      Very Good   \n",
       "23                 Kensal Green Backpackers    5.0              -   \n",
       "24                        Hootananny Hostel    7.6      Very Good   \n",
       "25                          Hostelle London    8.7       Fabulous   \n",
       "26      PubLove @ The White Ferry, Victoria    7.3      Very Good   \n",
       "27                            Elmwood Hotel    7.7      Very Good   \n",
       "28                   London Waterloo Hostel    5.5              -   \n",
       "29               PubLove @ The Rose & Crown    7.5      Very Good   \n",
       "30       PubLove @ The Exmouth Arms, Euston    6.7           Good   \n",
       "31      PubLove @ The Green Man, Paddington    5.9              -   \n",
       "32                    Belgrave Hotel London    8.3       Fabulous   \n",
       "33                           Colliers Hotel    6.1           Good   \n",
       "34                             Beaconsfield    8.6       Fabulous   \n",
       "35                       London House Hotel     10         Superb   \n",
       "36                         Aron Guest House    2.0              -   \n",
       "37                Zedwell Piccadilly Circus      -              -   \n",
       "38                                Kip Hotel    7.7      Very Good   \n",
       "39              Hotel Shepherds Bush London    5.1              -   \n",
       "40                   The London Home Hostel    4.1              -   \n",
       "\n",
       "   Distance from City Center (in km) Total Reviews  \\\n",
       "0                                3.6         14896   \n",
       "1                                5.5          2059   \n",
       "2                                1.8         12155   \n",
       "3                                5.4           780   \n",
       "4                                6.1          1885   \n",
       "5                                  3          7500   \n",
       "6                                1.7          4957   \n",
       "7                                4.2          4126   \n",
       "8                                5.8          1528   \n",
       "9                                  9          4010   \n",
       "10                               5.7          3480   \n",
       "11                               1.8          3506   \n",
       "12                               7.5          4243   \n",
       "13                               3.3          1035   \n",
       "14                               4.3          4035   \n",
       "15                               7.6          3350   \n",
       "16                               4.2            60   \n",
       "17                               5.5          1884   \n",
       "18                               0.5           394   \n",
       "19                                 7           772   \n",
       "20                               6.9          1255   \n",
       "21                               5.5            50   \n",
       "22                               4.7           301   \n",
       "23                               8.2          3710   \n",
       "24                                 5          1511   \n",
       "25                               5.1            11   \n",
       "26                               2.4           338   \n",
       "27                               3.2           128   \n",
       "28                               0.7          2534   \n",
       "29                               1.6           189   \n",
       "30                               3.4          1078   \n",
       "31                               4.3           447   \n",
       "32                               2.2            11   \n",
       "33                               2.1             9   \n",
       "34                               8.6            29   \n",
       "35                               5.3          1383   \n",
       "36                              13.1            27   \n",
       "37                               1.6             0   \n",
       "38                               6.8            55   \n",
       "39                               7.6             1   \n",
       "40                               8.2           265   \n",
       "\n",
       "                                 Property Description Privates from price  \\\n",
       "0   A safe haven in the middle of the metropolis: ...             £184.80   \n",
       "1   The perfect place for solo travelers to connec...       Not available   \n",
       "2   St Christopher's Inn at The Village in London ...       Not available   \n",
       "3   Welcome to Urbany Hostel London, our first int...             £202.70   \n",
       "4   Welcome to NX London Hostel!\\n\\nPLEASE READ IN...             £139.62   \n",
       "5   Generator London is a design hotel-hostel loca...             £113.10   \n",
       "6   Safestay at Elephant & Castle is ideal if you ...       Not available   \n",
       "7   The Phoenix Bar & Hostel, housed in a homely E...       Not available   \n",
       "8   Safestay Holland Park\\n\\nSafestay Holland Park...       Not available   \n",
       "9   For Great Facilities, Comfort & Affordability ...       Not available   \n",
       "10  PLEASE NOTE WE ONLY ACCEPT GUESTS FROM THE AGE...       Not available   \n",
       "11  Base yourself in the electric area of London B...       Not available   \n",
       "12  Good hostel, in a very convenient location new...       Not available   \n",
       "13  International Students House provides affordab...             £128.33   \n",
       "14  Find our Camden hostel in London's north, smac...       Not available   \n",
       "15  Discover South London's rich history in the ci...       Not available   \n",
       "16  Boasting a bar and a shared lounge, Bell House...       Not available   \n",
       "17  We are located in central London - just 5 minu...             £116.62   \n",
       "18  The heart & soul of London backpacking\\nPull u...       Not available   \n",
       "19  St Christopher's Inn Shepherds Bush gives trav...       Not available   \n",
       "20  Welcome to Venture Hostel.Venture Hostel is a ...              £57.00   \n",
       "21  Among underground music venues, innovative mus...             £282.80   \n",
       "22  Do London like a local.\\nStay just outside the...       Not available   \n",
       "23  Kensal Green Backpackers is a legendary hostel...              £91.67   \n",
       "24  Hootananny is a lively hostel with spacious ro...       Not available   \n",
       "25  Hostelle is the first and only all-female host...       Not available   \n",
       "26  Walk to the river, turn left, and just keep wa...       Not available   \n",
       "27  Great location and extremely clean. Rooms tiny...             £216.67   \n",
       "28  We have the honor of being the closest dedicat...             £129.37   \n",
       "29  Food & culture lovers, assemble!\\nThe Rose & C...       Not available   \n",
       "30  Do Camden by day and curb side beers by night....       Not available   \n",
       "31  Where it all began - PubLove was born here in ...       Not available   \n",
       "32  This bright, clean and friendly Belgrave Hotel...       Not available   \n",
       "33  Colliers Hotel offers basic budget accommodati...             £149.67   \n",
       "34  Beaconsfield is a basic, budget hotel, situate...              £69.00   \n",
       "35  Our lovely boutique hotel is conveniently loca...             £274.48   \n",
       "36  Aron Guest House provides an excellent base, w...              £87.49   \n",
       "37  Experience a whole new level of relaxation at ...             £252.00   \n",
       "38  Kip is on a mission to bring the world style a...             £143.00   \n",
       "39  Hotel Shepherds Bush London provide 4 star hot...             £220.89   \n",
       "40  If you are looking to meet and socialise with ...       Not available   \n",
       "\n",
       "   Dorms from price                                         Facilities  \n",
       "0            £55.23  Linen Included, Free City Maps, Free WiFi, Fre...  \n",
       "1            £74.18  Linen Included, Free WiFi, Free Internet Acces...  \n",
       "2            £34.20  Linen Included, Free WiFi, Free Internet Acces...  \n",
       "3            £72.38  Linen Included, Free WiFi, Security Lockers, M...  \n",
       "4            £25.27  Free Breakfast, Linen Included, Towels Include...  \n",
       "5     Not available  Linen Included, Free City Maps, Free WiFi, Fre...  \n",
       "6            £27.51  Linen Included, Free WiFi, Security Lockers, K...  \n",
       "7     Not available  Linen Included, Free City Maps, Free WiFi, Fre...  \n",
       "8            £26.58  Linen Included, Free WiFi, Security Lockers, K...  \n",
       "9            £14.95  Linen Included, Free WiFi, Security Lockers, K...  \n",
       "10           £27.00  Linen Included, Free City Maps, Free WiFi, Fre...  \n",
       "11           £33.87  Linen Included, Free City Maps, Free WiFi, Fre...  \n",
       "12           £22.71  Linen Included, Free City Maps, Free WiFi, Fre...  \n",
       "13    Not available  Linen Included, Free City Maps, Towels Include...  \n",
       "14           £32.61  Linen Included, Free City Maps, Free WiFi, Fre...  \n",
       "15           £22.88  Linen Included, Free City Maps, Free WiFi, Fre...  \n",
       "16           £26.10  Linen Included, Free WiFi, Security Lockers, B...  \n",
       "17           £54.00  Free Breakfast, Linen Included, Free City Maps...  \n",
       "18           £75.00  Linen Included, Free City Maps, Free WiFi, Sec...  \n",
       "19           £24.21  Linen Included, Free City Maps, Free WiFi, Sec...  \n",
       "20    Not available  Linen Included, Free City Maps, Free WiFi, Fre...  \n",
       "21          £114.80  Linen Included, Towels Included, Free WiFi, Se...  \n",
       "22           £38.00  Linen Included, Free City Maps, Free WiFi, Sec...  \n",
       "23           £25.00  Linen Included, Free City Maps, Common Room, B...  \n",
       "24           £30.40  Free Breakfast, Linen Included, Free City Maps...  \n",
       "25           £59.50  Linen Included, Free City Maps, Free WiFi, Fre...  \n",
       "26           £51.67  Linen Included, Free City Maps, Free WiFi, Sec...  \n",
       "27    Not available  Free Internet Access, Hair Dryers, Safe Deposi...  \n",
       "28           £31.74  Linen Included, Free City Maps, Free WiFi, Fre...  \n",
       "29           £63.33  Linen Included, Free City Maps, Free WiFi, Sec...  \n",
       "30           £40.00  Linen Included, Free City Maps, Free WiFi, Sec...  \n",
       "31           £44.33  Linen Included, Free City Maps, Free WiFi, Sec...  \n",
       "32    Not available  Free Breakfast, Free City Maps, Towels Include...  \n",
       "33    Not available  Key Card Access, Adaptors, Hair Dryers, Iron /...  \n",
       "34    Not available     Free WiFi, Bar, Tea & Coffee Making Facilities  \n",
       "35    Not available  Free City Maps, Free WiFi, Key Card Access, El...  \n",
       "36    Not available  Free Parking, Towels Included, Free WiFi, Park...  \n",
       "37    Not available  Linen Included, Towels Included, Free WiFi, Fr...  \n",
       "38    Not available  Towels Included, Free WiFi, Key Card Access, B...  \n",
       "39    Not available  Linen Included, Free City Maps, Towels Include...  \n",
       "40    Not available  Linen Included, Free WiFi, Free Internet Acces...  "
      ]
     },
     "execution_count": 76,
     "metadata": {},
     "output_type": "execute_result"
    }
   ],
   "source": [
    "get_hostels_city('London')"
   ]
  },
  {
   "cell_type": "code",
   "execution_count": null,
   "id": "0c6b4163",
   "metadata": {},
   "outputs": [],
   "source": []
  },
  {
   "cell_type": "code",
   "execution_count": null,
   "id": "41d6a09b",
   "metadata": {},
   "outputs": [],
   "source": []
  },
  {
   "cell_type": "code",
   "execution_count": null,
   "id": "4ae51ea1",
   "metadata": {},
   "outputs": [],
   "source": []
  },
  {
   "cell_type": "code",
   "execution_count": null,
   "id": "1d8db7f0",
   "metadata": {},
   "outputs": [],
   "source": []
  },
  {
   "cell_type": "code",
   "execution_count": null,
   "id": "a422b7e9",
   "metadata": {},
   "outputs": [],
   "source": []
  },
  {
   "cell_type": "code",
   "execution_count": null,
   "id": "d3cd18d2",
   "metadata": {},
   "outputs": [],
   "source": []
  },
  {
   "cell_type": "code",
   "execution_count": null,
   "id": "55d8764b",
   "metadata": {},
   "outputs": [],
   "source": []
  }
 ],
 "metadata": {
  "kernelspec": {
   "display_name": "Python 3 (ipykernel)",
   "language": "python",
   "name": "python3"
  },
  "language_info": {
   "codemirror_mode": {
    "name": "ipython",
    "version": 3
   },
   "file_extension": ".py",
   "mimetype": "text/x-python",
   "name": "python",
   "nbconvert_exporter": "python",
   "pygments_lexer": "ipython3",
   "version": "3.9.12"
  }
 },
 "nbformat": 4,
 "nbformat_minor": 5
}
