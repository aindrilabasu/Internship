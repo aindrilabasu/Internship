{
 "cells": [
  {
   "cell_type": "markdown",
   "id": "c815f66b",
   "metadata": {},
   "source": [
    "#### 11. Write a python program to find the factorial of a number."
   ]
  },
  {
   "cell_type": "code",
   "execution_count": 1,
   "id": "6e0fb0bf",
   "metadata": {},
   "outputs": [
    {
     "name": "stdout",
     "output_type": "stream",
     "text": [
      "Factorial of 5 is 120\n"
     ]
    }
   ],
   "source": [
    "def factorial(num):\n",
    "    if num < 0:\n",
    "        print(\"Factorial is not defined for negative values\")\n",
    "    factorial=1\n",
    "    for i in range(1, num + 1):\n",
    "        factorial = factorial*i\n",
    "    return factorial\n",
    "        \n",
    "num = 5\n",
    "print(f\"Factorial of {num} is {factorial(num)}\")"
   ]
  },
  {
   "cell_type": "markdown",
   "id": "cc92088b",
   "metadata": {},
   "source": [
    "#### 12. Write a python program to find whether a number is prime or composite."
   ]
  },
  {
   "cell_type": "code",
   "execution_count": 2,
   "id": "fc07f974",
   "metadata": {},
   "outputs": [
    {
     "name": "stdout",
     "output_type": "stream",
     "text": [
      "23 is a prime number\n"
     ]
    }
   ],
   "source": [
    "import math\n",
    "\n",
    "def prime(num):\n",
    "    flag = True\n",
    "    if num > 1:\n",
    "        for i in range(2, int(math.sqrt(num))+1):\n",
    "            if num%i == 0:\n",
    "                flag = False\n",
    "                break\n",
    "        if flag:\n",
    "            print(f\"{num} is a prime number\")\n",
    "        else:\n",
    "            print(f\"{num} is a composite number\")\n",
    "    else:\n",
    "        print(f\"{num} is a composite number\")\n",
    "        \n",
    "num = 23\n",
    "prime(num)"
   ]
  },
  {
   "cell_type": "markdown",
   "id": "176c2a43",
   "metadata": {},
   "source": [
    "#### 13. Write a python program to check whether a given string is palindrome or not."
   ]
  },
  {
   "cell_type": "code",
   "execution_count": 3,
   "id": "3c993346",
   "metadata": {},
   "outputs": [
    {
     "name": "stdout",
     "output_type": "stream",
     "text": [
      "Madam is a palindrome\n"
     ]
    }
   ],
   "source": [
    "def palindrome(s):\n",
    "    if s.lower() == s.lower()[::-1]:\n",
    "        print(f\"{s} is a palindrome\")\n",
    "    else:\n",
    "        print(f\"{s} is not a palindrome\")\n",
    "        \n",
    "s = 'Madam'\n",
    "palindrome(s)"
   ]
  },
  {
   "cell_type": "markdown",
   "id": "86c951b3",
   "metadata": {},
   "source": [
    "#### 14. Write a Python program to get the third side of right-angled triangle from two given sides."
   ]
  },
  {
   "cell_type": "code",
   "execution_count": 4,
   "id": "75b407d1",
   "metadata": {},
   "outputs": [
    {
     "name": "stdout",
     "output_type": "stream",
     "text": [
      "The length of the third side is: 1.4142135623730951\n"
     ]
    }
   ],
   "source": [
    "import math\n",
    "\n",
    "def pythagoras(side1, side2):\n",
    "    return math.sqrt(side1**2 + side2**2)\n",
    "\n",
    "side1 = 1\n",
    "side2 = 1\n",
    "print(f\"The length of the third side is: {pythagoras(side1, side2)}\")"
   ]
  },
  {
   "cell_type": "markdown",
   "id": "c736af34",
   "metadata": {},
   "source": [
    "#### 15. Write a python program to print the frequency of each of the characters present in a given string."
   ]
  },
  {
   "cell_type": "code",
   "execution_count": 5,
   "id": "5a3cc039",
   "metadata": {},
   "outputs": [
    {
     "name": "stdout",
     "output_type": "stream",
     "text": [
      "The frequency of each character is: {'P': 1, 'y': 1, 't': 2, 'h': 2, 'o': 2, 'n': 1, ' ': 1, 'W': 1, 'r': 1, 'k': 1, 's': 1, 'e': 2}\n"
     ]
    }
   ],
   "source": [
    "def char_frequency(s):\n",
    "    output = {}\n",
    "    for ch in s:\n",
    "        if ch in output:\n",
    "            output[ch] += 1\n",
    "        else:\n",
    "            output[ch] = 1\n",
    "    return output\n",
    "\n",
    "s = 'Python Worksheet'\n",
    "print(f\"The frequency of each character is: {char_frequency(s)}\")"
   ]
  }
 ],
 "metadata": {
  "kernelspec": {
   "display_name": "Python 3 (ipykernel)",
   "language": "python",
   "name": "python3"
  },
  "language_info": {
   "codemirror_mode": {
    "name": "ipython",
    "version": 3
   },
   "file_extension": ".py",
   "mimetype": "text/x-python",
   "name": "python",
   "nbconvert_exporter": "python",
   "pygments_lexer": "ipython3",
   "version": "3.9.12"
  }
 },
 "nbformat": 4,
 "nbformat_minor": 5
}
