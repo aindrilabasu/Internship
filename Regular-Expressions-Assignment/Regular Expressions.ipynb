{
 "cells": [
  {
   "cell_type": "code",
   "execution_count": 1,
   "id": "ae9834c0",
   "metadata": {},
   "outputs": [],
   "source": [
    "import re"
   ]
  },
  {
   "cell_type": "markdown",
   "id": "c31f37ad",
   "metadata": {},
   "source": [
    "1. Write a Python program to check that a string contains only a certain set of characters (in this case a-z, A-Z and 0-9)."
   ]
  },
  {
   "cell_type": "code",
   "execution_count": 2,
   "id": "d56e6ed8",
   "metadata": {},
   "outputs": [],
   "source": [
    "def check_string_alpha_num(string):\n",
    "    pattern = \"^[a-zA-Z0-9]+$\"\n",
    "    if re.search(pattern, string):\n",
    "        return True\n",
    "    return False"
   ]
  },
  {
   "cell_type": "code",
   "execution_count": 3,
   "id": "a08db2ee",
   "metadata": {},
   "outputs": [
    {
     "data": {
      "text/plain": [
       "True"
      ]
     },
     "execution_count": 3,
     "metadata": {},
     "output_type": "execute_result"
    }
   ],
   "source": [
    "check_string_alpha_num(\"AindrilaBasu28\")"
   ]
  },
  {
   "cell_type": "code",
   "execution_count": 4,
   "id": "171439fc",
   "metadata": {},
   "outputs": [
    {
     "data": {
      "text/plain": [
       "False"
      ]
     },
     "execution_count": 4,
     "metadata": {},
     "output_type": "execute_result"
    }
   ],
   "source": [
    "check_string_alpha_num(\"AindrilaBasu@28\")"
   ]
  },
  {
   "cell_type": "markdown",
   "id": "311eac94",
   "metadata": {},
   "source": [
    " "
   ]
  },
  {
   "cell_type": "markdown",
   "id": "8486648c",
   "metadata": {},
   "source": [
    "2. Create a function in python that matches a string that has an a followed by zero or more b's"
   ]
  },
  {
   "cell_type": "code",
   "execution_count": 5,
   "id": "6a431521",
   "metadata": {},
   "outputs": [],
   "source": [
    "def check_string_a_zero_b(string):\n",
    "    pattern = r\"ab*\"\n",
    "    if re.search(pattern, string):\n",
    "        return True\n",
    "    return False"
   ]
  },
  {
   "cell_type": "code",
   "execution_count": 6,
   "id": "3e4c1262",
   "metadata": {},
   "outputs": [
    {
     "data": {
      "text/plain": [
       "True"
      ]
     },
     "execution_count": 6,
     "metadata": {},
     "output_type": "execute_result"
    }
   ],
   "source": [
    "check_string_a_zero_b(\"a\")"
   ]
  },
  {
   "cell_type": "code",
   "execution_count": 7,
   "id": "b5a220fd",
   "metadata": {},
   "outputs": [
    {
     "data": {
      "text/plain": [
       "True"
      ]
     },
     "execution_count": 7,
     "metadata": {},
     "output_type": "execute_result"
    }
   ],
   "source": [
    "check_string_a_zero_b(\"abbb\")"
   ]
  },
  {
   "cell_type": "code",
   "execution_count": 8,
   "id": "161c1e05",
   "metadata": {},
   "outputs": [
    {
     "data": {
      "text/plain": [
       "True"
      ]
     },
     "execution_count": 8,
     "metadata": {},
     "output_type": "execute_result"
    }
   ],
   "source": [
    "check_string_a_zero_b(\"cab\")"
   ]
  },
  {
   "cell_type": "code",
   "execution_count": 9,
   "id": "89415d41",
   "metadata": {},
   "outputs": [
    {
     "data": {
      "text/plain": [
       "True"
      ]
     },
     "execution_count": 9,
     "metadata": {},
     "output_type": "execute_result"
    }
   ],
   "source": [
    "check_string_a_zero_b(\"bbbba\")"
   ]
  },
  {
   "cell_type": "code",
   "execution_count": 10,
   "id": "f3096a1d",
   "metadata": {},
   "outputs": [
    {
     "data": {
      "text/plain": [
       "True"
      ]
     },
     "execution_count": 10,
     "metadata": {},
     "output_type": "execute_result"
    }
   ],
   "source": [
    "check_string_a_zero_b(\"acbbr\")"
   ]
  },
  {
   "cell_type": "markdown",
   "id": "67430196",
   "metadata": {},
   "source": [
    " "
   ]
  },
  {
   "cell_type": "markdown",
   "id": "d031d3db",
   "metadata": {},
   "source": [
    "3. Create a function in python that matches a string that has an a followed by one or more b's"
   ]
  },
  {
   "cell_type": "code",
   "execution_count": 11,
   "id": "7033ed86",
   "metadata": {},
   "outputs": [],
   "source": [
    "def check_string_a_one_b(string):\n",
    "    pattern = \"ab+\"\n",
    "    if re.search(pattern, string):\n",
    "        return True\n",
    "    return False"
   ]
  },
  {
   "cell_type": "code",
   "execution_count": 12,
   "id": "8360afde",
   "metadata": {},
   "outputs": [
    {
     "data": {
      "text/plain": [
       "False"
      ]
     },
     "execution_count": 12,
     "metadata": {},
     "output_type": "execute_result"
    }
   ],
   "source": [
    "check_string_a_one_b(\"a\")"
   ]
  },
  {
   "cell_type": "code",
   "execution_count": 13,
   "id": "9768e83b",
   "metadata": {},
   "outputs": [
    {
     "data": {
      "text/plain": [
       "True"
      ]
     },
     "execution_count": 13,
     "metadata": {},
     "output_type": "execute_result"
    }
   ],
   "source": [
    "check_string_a_one_b(\"abbb\")"
   ]
  },
  {
   "cell_type": "code",
   "execution_count": 14,
   "id": "d3340052",
   "metadata": {},
   "outputs": [
    {
     "data": {
      "text/plain": [
       "True"
      ]
     },
     "execution_count": 14,
     "metadata": {},
     "output_type": "execute_result"
    }
   ],
   "source": [
    "check_string_a_one_b(\"cab\")"
   ]
  },
  {
   "cell_type": "code",
   "execution_count": 15,
   "id": "5b82516a",
   "metadata": {},
   "outputs": [
    {
     "data": {
      "text/plain": [
       "False"
      ]
     },
     "execution_count": 15,
     "metadata": {},
     "output_type": "execute_result"
    }
   ],
   "source": [
    "check_string_a_one_b(\"bbbba\")"
   ]
  },
  {
   "cell_type": "code",
   "execution_count": 16,
   "id": "23898f66",
   "metadata": {},
   "outputs": [
    {
     "data": {
      "text/plain": [
       "False"
      ]
     },
     "execution_count": 16,
     "metadata": {},
     "output_type": "execute_result"
    }
   ],
   "source": [
    "check_string_a_one_b(\"acbbr\")"
   ]
  },
  {
   "cell_type": "markdown",
   "id": "cdc31509",
   "metadata": {},
   "source": [
    " "
   ]
  },
  {
   "cell_type": "markdown",
   "id": "c86cfc58",
   "metadata": {},
   "source": [
    "4. Create a function in Python and use RegEx that matches a string that has an a followed by zero or one 'b'."
   ]
  },
  {
   "cell_type": "code",
   "execution_count": 17,
   "id": "b8e8c4bd",
   "metadata": {},
   "outputs": [],
   "source": [
    "def check_string_a_zero_one_b(string):\n",
    "    pattern = \"ab?\"\n",
    "    if re.search(pattern, string):\n",
    "        return True\n",
    "    return False"
   ]
  },
  {
   "cell_type": "code",
   "execution_count": 18,
   "id": "7da7787f",
   "metadata": {},
   "outputs": [
    {
     "data": {
      "text/plain": [
       "True"
      ]
     },
     "execution_count": 18,
     "metadata": {},
     "output_type": "execute_result"
    }
   ],
   "source": [
    "check_string_a_zero_one_b(\"a\")"
   ]
  },
  {
   "cell_type": "code",
   "execution_count": 19,
   "id": "2549a038",
   "metadata": {},
   "outputs": [
    {
     "data": {
      "text/plain": [
       "True"
      ]
     },
     "execution_count": 19,
     "metadata": {},
     "output_type": "execute_result"
    }
   ],
   "source": [
    "check_string_a_zero_one_b(\"abbb\")"
   ]
  },
  {
   "cell_type": "code",
   "execution_count": 20,
   "id": "181319be",
   "metadata": {},
   "outputs": [
    {
     "data": {
      "text/plain": [
       "True"
      ]
     },
     "execution_count": 20,
     "metadata": {},
     "output_type": "execute_result"
    }
   ],
   "source": [
    "check_string_a_zero_one_b(\"cab\")"
   ]
  },
  {
   "cell_type": "code",
   "execution_count": 21,
   "id": "dcdb78dd",
   "metadata": {},
   "outputs": [
    {
     "data": {
      "text/plain": [
       "True"
      ]
     },
     "execution_count": 21,
     "metadata": {},
     "output_type": "execute_result"
    }
   ],
   "source": [
    "check_string_a_zero_one_b(\"bbbba\")"
   ]
  },
  {
   "cell_type": "code",
   "execution_count": 22,
   "id": "275c7873",
   "metadata": {},
   "outputs": [
    {
     "data": {
      "text/plain": [
       "True"
      ]
     },
     "execution_count": 22,
     "metadata": {},
     "output_type": "execute_result"
    }
   ],
   "source": [
    "check_string_a_zero_one_b(\"acbbr\")"
   ]
  },
  {
   "cell_type": "markdown",
   "id": "f7722f34",
   "metadata": {},
   "source": [
    " "
   ]
  },
  {
   "cell_type": "markdown",
   "id": "9f4be519",
   "metadata": {},
   "source": [
    "5. Write a Python program that matches a string that has an a followed by three 'b'."
   ]
  },
  {
   "cell_type": "code",
   "execution_count": 23,
   "id": "55605402",
   "metadata": {},
   "outputs": [],
   "source": [
    "def check_string_a_three_b(string):\n",
    "    pattern = \"ab{3}\"\n",
    "    if re.search(pattern, string):\n",
    "        return True\n",
    "    return False"
   ]
  },
  {
   "cell_type": "code",
   "execution_count": 24,
   "id": "674592d9",
   "metadata": {},
   "outputs": [
    {
     "data": {
      "text/plain": [
       "False"
      ]
     },
     "execution_count": 24,
     "metadata": {},
     "output_type": "execute_result"
    }
   ],
   "source": [
    "check_string_a_three_b(\"a\")"
   ]
  },
  {
   "cell_type": "code",
   "execution_count": 25,
   "id": "c9591ed0",
   "metadata": {},
   "outputs": [
    {
     "data": {
      "text/plain": [
       "True"
      ]
     },
     "execution_count": 25,
     "metadata": {},
     "output_type": "execute_result"
    }
   ],
   "source": [
    "check_string_a_three_b(\"abbb\")"
   ]
  },
  {
   "cell_type": "code",
   "execution_count": 26,
   "id": "3eb0e693",
   "metadata": {},
   "outputs": [
    {
     "data": {
      "text/plain": [
       "True"
      ]
     },
     "execution_count": 26,
     "metadata": {},
     "output_type": "execute_result"
    }
   ],
   "source": [
    "check_string_a_three_b(\"cabbbbb\")"
   ]
  },
  {
   "cell_type": "code",
   "execution_count": 27,
   "id": "52e24971",
   "metadata": {},
   "outputs": [
    {
     "data": {
      "text/plain": [
       "False"
      ]
     },
     "execution_count": 27,
     "metadata": {},
     "output_type": "execute_result"
    }
   ],
   "source": [
    "check_string_a_three_b(\"bbba\")"
   ]
  },
  {
   "cell_type": "code",
   "execution_count": 28,
   "id": "94b2bb5a",
   "metadata": {},
   "outputs": [
    {
     "data": {
      "text/plain": [
       "False"
      ]
     },
     "execution_count": 28,
     "metadata": {},
     "output_type": "execute_result"
    }
   ],
   "source": [
    "check_string_a_three_b(\"acbbbr\")"
   ]
  },
  {
   "cell_type": "markdown",
   "id": "803628bf",
   "metadata": {},
   "source": [
    " "
   ]
  },
  {
   "cell_type": "markdown",
   "id": "f705117c",
   "metadata": {},
   "source": [
    "6. Write a regular expression in Python to split a string into uppercase letters.<br>\n",
    "Sample text: \"ImportanceOfRegularExpressionsInPython\"<br>\n",
    "Output: ['Importance', 'Of', 'Regular', 'Expressions', 'In', 'Python]"
   ]
  },
  {
   "cell_type": "code",
   "execution_count": 29,
   "id": "fd35d993",
   "metadata": {},
   "outputs": [],
   "source": [
    "def split_string_uppercase(string):\n",
    "    pattern = \"[A-Z][a-z]+\"\n",
    "    return re.findall(pattern, string)"
   ]
  },
  {
   "cell_type": "code",
   "execution_count": 30,
   "id": "b0814a66",
   "metadata": {},
   "outputs": [
    {
     "data": {
      "text/plain": [
       "['Importance', 'Of', 'Regular', 'Expressions', 'In', 'Python']"
      ]
     },
     "execution_count": 30,
     "metadata": {},
     "output_type": "execute_result"
    }
   ],
   "source": [
    "split_string_uppercase(\"ImportanceOfRegularExpressionsInPython\")"
   ]
  },
  {
   "cell_type": "markdown",
   "id": "272d3dcf",
   "metadata": {},
   "source": [
    " "
   ]
  },
  {
   "cell_type": "markdown",
   "id": "0acd05c4",
   "metadata": {},
   "source": [
    "7. Write a Python program that matches a string that has an a followed by two to three 'b'."
   ]
  },
  {
   "cell_type": "code",
   "execution_count": 31,
   "id": "d7beca6b",
   "metadata": {},
   "outputs": [],
   "source": [
    "def check_string_a_two_three_b(string):\n",
    "    pattern = \"ab{2,3}\"\n",
    "    if re.search(pattern, string):\n",
    "        return True\n",
    "    return False"
   ]
  },
  {
   "cell_type": "code",
   "execution_count": 32,
   "id": "1be98efa",
   "metadata": {},
   "outputs": [
    {
     "data": {
      "text/plain": [
       "False"
      ]
     },
     "execution_count": 32,
     "metadata": {},
     "output_type": "execute_result"
    }
   ],
   "source": [
    "check_string_a_two_three_b(\"a\")"
   ]
  },
  {
   "cell_type": "code",
   "execution_count": 33,
   "id": "455ebcbc",
   "metadata": {},
   "outputs": [
    {
     "data": {
      "text/plain": [
       "False"
      ]
     },
     "execution_count": 33,
     "metadata": {},
     "output_type": "execute_result"
    }
   ],
   "source": [
    "check_string_a_two_three_b(\"ab\")"
   ]
  },
  {
   "cell_type": "code",
   "execution_count": 34,
   "id": "c490c503",
   "metadata": {},
   "outputs": [
    {
     "data": {
      "text/plain": [
       "True"
      ]
     },
     "execution_count": 34,
     "metadata": {},
     "output_type": "execute_result"
    }
   ],
   "source": [
    "check_string_a_two_three_b(\"abb\")"
   ]
  },
  {
   "cell_type": "code",
   "execution_count": 35,
   "id": "90f79d63",
   "metadata": {},
   "outputs": [
    {
     "data": {
      "text/plain": [
       "True"
      ]
     },
     "execution_count": 35,
     "metadata": {},
     "output_type": "execute_result"
    }
   ],
   "source": [
    "check_string_a_two_three_b(\"abbb\")"
   ]
  },
  {
   "cell_type": "code",
   "execution_count": 36,
   "id": "33c9511e",
   "metadata": {},
   "outputs": [
    {
     "data": {
      "text/plain": [
       "True"
      ]
     },
     "execution_count": 36,
     "metadata": {},
     "output_type": "execute_result"
    }
   ],
   "source": [
    "check_string_a_two_three_b(\"cabbbbb\")"
   ]
  },
  {
   "cell_type": "code",
   "execution_count": 37,
   "id": "4e21064d",
   "metadata": {},
   "outputs": [
    {
     "data": {
      "text/plain": [
       "False"
      ]
     },
     "execution_count": 37,
     "metadata": {},
     "output_type": "execute_result"
    }
   ],
   "source": [
    "check_string_a_two_three_b(\"acbbbr\")"
   ]
  },
  {
   "cell_type": "markdown",
   "id": "43d3cc70",
   "metadata": {},
   "source": [
    " "
   ]
  },
  {
   "cell_type": "markdown",
   "id": "5fc9ad45",
   "metadata": {},
   "source": [
    "8. Write a Python program to find sequences of lowercase letters joined with a underscore."
   ]
  },
  {
   "cell_type": "code",
   "execution_count": 38,
   "id": "cc2874d5",
   "metadata": {},
   "outputs": [],
   "source": [
    "def find_lowercase_sequence(string):\n",
    "    pattern = \"[a-z]+_[a-z]+\"\n",
    "    return re.findall(pattern, string)"
   ]
  },
  {
   "cell_type": "code",
   "execution_count": 39,
   "id": "e2839812",
   "metadata": {},
   "outputs": [
    {
     "data": {
      "text/plain": [
       "['regular_expressions', 'in_python']"
      ]
     },
     "execution_count": 39,
     "metadata": {},
     "output_type": "execute_result"
    }
   ],
   "source": [
    "find_lowercase_sequence(\"Importance of regular_expressions in_python\")"
   ]
  },
  {
   "cell_type": "markdown",
   "id": "572780a0",
   "metadata": {},
   "source": [
    " "
   ]
  },
  {
   "cell_type": "markdown",
   "id": "7261c7ce",
   "metadata": {},
   "source": [
    "9. Write a Python program that matches a string that has an 'a' followed by anything, ending in 'b'."
   ]
  },
  {
   "cell_type": "code",
   "execution_count": 40,
   "id": "c5fa5e51",
   "metadata": {},
   "outputs": [],
   "source": [
    "def check_string_a_end_b(string):\n",
    "    pattern = r\"a.*b$\"\n",
    "    if re.search(pattern, string):\n",
    "        return True\n",
    "    return False"
   ]
  },
  {
   "cell_type": "code",
   "execution_count": 41,
   "id": "8dc0e154",
   "metadata": {},
   "outputs": [
    {
     "data": {
      "text/plain": [
       "True"
      ]
     },
     "execution_count": 41,
     "metadata": {},
     "output_type": "execute_result"
    }
   ],
   "source": [
    "check_string_a_end_b(\"cab\")"
   ]
  },
  {
   "cell_type": "code",
   "execution_count": 42,
   "id": "96bf8243",
   "metadata": {},
   "outputs": [
    {
     "data": {
      "text/plain": [
       "True"
      ]
     },
     "execution_count": 42,
     "metadata": {},
     "output_type": "execute_result"
    }
   ],
   "source": [
    "check_string_a_end_b(\"caaaaaccccccccbbb\")"
   ]
  },
  {
   "cell_type": "code",
   "execution_count": 43,
   "id": "68748d07",
   "metadata": {},
   "outputs": [
    {
     "data": {
      "text/plain": [
       "False"
      ]
     },
     "execution_count": 43,
     "metadata": {},
     "output_type": "execute_result"
    }
   ],
   "source": [
    "check_string_a_end_b(\"abbr\")"
   ]
  },
  {
   "cell_type": "code",
   "execution_count": 44,
   "id": "a176b669",
   "metadata": {},
   "outputs": [
    {
     "data": {
      "text/plain": [
       "False"
      ]
     },
     "execution_count": 44,
     "metadata": {},
     "output_type": "execute_result"
    }
   ],
   "source": [
    "check_string_a_end_b(\"a\")"
   ]
  },
  {
   "cell_type": "markdown",
   "id": "f474c144",
   "metadata": {},
   "source": [
    " "
   ]
  },
  {
   "cell_type": "markdown",
   "id": "88a7cf0b",
   "metadata": {},
   "source": [
    "10. Write a Python program that matches a word at the beginning of a string."
   ]
  },
  {
   "cell_type": "code",
   "execution_count": 45,
   "id": "bb15e08e",
   "metadata": {},
   "outputs": [],
   "source": [
    "def match_word_beginning(string, word):\n",
    "    pattern = \"^\" + word\n",
    "    if re.search(pattern, string):\n",
    "        return True\n",
    "    return False"
   ]
  },
  {
   "cell_type": "code",
   "execution_count": 46,
   "id": "eba7c832",
   "metadata": {},
   "outputs": [
    {
     "data": {
      "text/plain": [
       "True"
      ]
     },
     "execution_count": 46,
     "metadata": {},
     "output_type": "execute_result"
    }
   ],
   "source": [
    "match_word_beginning(\"Hello world\", \"Hello\")"
   ]
  },
  {
   "cell_type": "code",
   "execution_count": 47,
   "id": "bcdefddc",
   "metadata": {},
   "outputs": [
    {
     "data": {
      "text/plain": [
       "False"
      ]
     },
     "execution_count": 47,
     "metadata": {},
     "output_type": "execute_result"
    }
   ],
   "source": [
    "match_word_beginning(\"Hello world\", \"world\")"
   ]
  },
  {
   "cell_type": "code",
   "execution_count": 48,
   "id": "bee9c559",
   "metadata": {},
   "outputs": [
    {
     "data": {
      "text/plain": [
       "True"
      ]
     },
     "execution_count": 48,
     "metadata": {},
     "output_type": "execute_result"
    }
   ],
   "source": [
    "match_word_beginning(\"Helloworld!!\", \"Hello\")"
   ]
  },
  {
   "cell_type": "markdown",
   "id": "81c893d9",
   "metadata": {},
   "source": [
    " "
   ]
  },
  {
   "cell_type": "markdown",
   "id": "9db62d6e",
   "metadata": {},
   "source": [
    "11. Write a Python program to match a string that contains only upper and lowercase letters, numbers, and underscores."
   ]
  },
  {
   "cell_type": "code",
   "execution_count": 49,
   "id": "3521a5bb",
   "metadata": {},
   "outputs": [],
   "source": [
    "def match_string_upper_lower_digit_underscore(string):\n",
    "    pattern = \"^\\w+$\"\n",
    "    if re.search(pattern, string):\n",
    "        return True\n",
    "    return False"
   ]
  },
  {
   "cell_type": "code",
   "execution_count": 50,
   "id": "4aa8e276",
   "metadata": {},
   "outputs": [
    {
     "data": {
      "text/plain": [
       "True"
      ]
     },
     "execution_count": 50,
     "metadata": {},
     "output_type": "execute_result"
    }
   ],
   "source": [
    "match_string_upper_lower_digit_underscore(\"Hello_World\")"
   ]
  },
  {
   "cell_type": "code",
   "execution_count": 51,
   "id": "6eb726fd",
   "metadata": {},
   "outputs": [
    {
     "data": {
      "text/plain": [
       "False"
      ]
     },
     "execution_count": 51,
     "metadata": {},
     "output_type": "execute_result"
    }
   ],
   "source": [
    "match_string_upper_lower_digit_underscore(\"Hello@World\")"
   ]
  },
  {
   "cell_type": "code",
   "execution_count": 52,
   "id": "a364e8b8",
   "metadata": {},
   "outputs": [
    {
     "data": {
      "text/plain": [
       "True"
      ]
     },
     "execution_count": 52,
     "metadata": {},
     "output_type": "execute_result"
    }
   ],
   "source": [
    "match_string_upper_lower_digit_underscore(\"Hello123World\")"
   ]
  },
  {
   "cell_type": "code",
   "execution_count": 53,
   "id": "b78f6aad",
   "metadata": {},
   "outputs": [
    {
     "data": {
      "text/plain": [
       "False"
      ]
     },
     "execution_count": 53,
     "metadata": {},
     "output_type": "execute_result"
    }
   ],
   "source": [
    "match_string_upper_lower_digit_underscore(\"Hello World\")"
   ]
  },
  {
   "cell_type": "markdown",
   "id": "adc2e893",
   "metadata": {},
   "source": [
    " "
   ]
  },
  {
   "cell_type": "markdown",
   "id": "97fcc4ae",
   "metadata": {},
   "source": [
    "12. Write a Python program where a string will start with a specific number."
   ]
  },
  {
   "cell_type": "code",
   "execution_count": 54,
   "id": "d664b9fc",
   "metadata": {},
   "outputs": [],
   "source": [
    "def match_string_startswith_number(string, num):\n",
    "    pattern = \"^\"+str(num)+\".*\"\n",
    "    if re.search(pattern, string):\n",
    "        return True\n",
    "    return False"
   ]
  },
  {
   "cell_type": "code",
   "execution_count": 55,
   "id": "9a0e753b",
   "metadata": {},
   "outputs": [
    {
     "data": {
      "text/plain": [
       "True"
      ]
     },
     "execution_count": 55,
     "metadata": {},
     "output_type": "execute_result"
    }
   ],
   "source": [
    "match_string_startswith_number(\"123Hello\", 123)"
   ]
  },
  {
   "cell_type": "code",
   "execution_count": 56,
   "id": "7be2166c",
   "metadata": {},
   "outputs": [
    {
     "data": {
      "text/plain": [
       "False"
      ]
     },
     "execution_count": 56,
     "metadata": {},
     "output_type": "execute_result"
    }
   ],
   "source": [
    "match_string_startswith_number(\"123 Hello 456\", 456)"
   ]
  },
  {
   "cell_type": "code",
   "execution_count": 57,
   "id": "3e1760e1",
   "metadata": {},
   "outputs": [
    {
     "data": {
      "text/plain": [
       "True"
      ]
     },
     "execution_count": 57,
     "metadata": {},
     "output_type": "execute_result"
    }
   ],
   "source": [
    "match_string_startswith_number(\"1Hello\", 1)"
   ]
  },
  {
   "cell_type": "code",
   "execution_count": 58,
   "id": "feedaa25",
   "metadata": {},
   "outputs": [
    {
     "data": {
      "text/plain": [
       "False"
      ]
     },
     "execution_count": 58,
     "metadata": {},
     "output_type": "execute_result"
    }
   ],
   "source": [
    "match_string_startswith_number(\"Hello1\", 1)"
   ]
  },
  {
   "cell_type": "markdown",
   "id": "a7c2daca",
   "metadata": {},
   "source": [
    " "
   ]
  },
  {
   "cell_type": "markdown",
   "id": "7b739d9e",
   "metadata": {},
   "source": [
    "13. Write a Python program to remove leading zeros from an IP address"
   ]
  },
  {
   "cell_type": "code",
   "execution_count": 59,
   "id": "54dfcd33",
   "metadata": {},
   "outputs": [],
   "source": [
    "def remove_leading_zeros(ip_addr):\n",
    "    pattern = r\"\\b0+(\\d+)\"\n",
    "    result = re.sub(pattern, r\"\\1\", ip_addr)\n",
    "    print(result)"
   ]
  },
  {
   "cell_type": "code",
   "execution_count": 60,
   "id": "fa7d7e8c",
   "metadata": {},
   "outputs": [
    {
     "name": "stdout",
     "output_type": "stream",
     "text": [
      "192.168.1.12\n"
     ]
    }
   ],
   "source": [
    "remove_leading_zeros(\"192.168.001.012\")"
   ]
  },
  {
   "cell_type": "code",
   "execution_count": 61,
   "id": "9b5df8ab",
   "metadata": {},
   "outputs": [
    {
     "name": "stdout",
     "output_type": "stream",
     "text": [
      "127.0.0.1\n"
     ]
    }
   ],
   "source": [
    "remove_leading_zeros(\"127.0.0.01\")"
   ]
  },
  {
   "cell_type": "markdown",
   "id": "1d85784a",
   "metadata": {},
   "source": [
    " "
   ]
  },
  {
   "cell_type": "markdown",
   "id": "9d2ddbb6",
   "metadata": {},
   "source": [
    "14. Write a regular expression in python to match a date string in the form of Month name followed by day number and year stored in a text file.<br>\n",
    "Sample text: ' On August 15th 1947 that India was declared independent from British colonialism, and the reins of control were handed over to the leaders of the Country’.<br>\n",
    "Output- August 15th 1947<br>\n",
    "Hint- Use re.match() method here"
   ]
  },
  {
   "cell_type": "code",
   "execution_count": 62,
   "id": "c5c34237",
   "metadata": {},
   "outputs": [],
   "source": [
    "def match_date_string_from_text(text):\n",
    "    pattern = \".*((January|February|March|April|May|June|July|August|September|October|November|December)\\s(\\d{1,2})(st|nd|rd|th)\\s(\\d{4}))\"\n",
    "    match =  re.match(pattern, text)\n",
    "    if match:\n",
    "        return match.group(1)\n",
    "    return None"
   ]
  },
  {
   "cell_type": "code",
   "execution_count": 63,
   "id": "0a341239",
   "metadata": {},
   "outputs": [
    {
     "data": {
      "text/plain": [
       "'August 15th 1947'"
      ]
     },
     "execution_count": 63,
     "metadata": {},
     "output_type": "execute_result"
    }
   ],
   "source": [
    "with open('file.txt', 'r') as file:\n",
    "    text = file.read()\n",
    "match_date_string_from_text(text)"
   ]
  },
  {
   "cell_type": "markdown",
   "id": "e9f0fb54",
   "metadata": {},
   "source": [
    " "
   ]
  },
  {
   "cell_type": "markdown",
   "id": "f9d0148d",
   "metadata": {},
   "source": [
    "15. Write a Python program to search some literals strings in a string. Go to the editor<br>\n",
    "Sample text : 'The quick brown fox jumps over the lazy dog.'<br>\n",
    "Searched words : 'fox', 'dog', 'horse'"
   ]
  },
  {
   "cell_type": "code",
   "execution_count": 64,
   "id": "7760daee",
   "metadata": {},
   "outputs": [],
   "source": [
    "def search_literals(string, words):\n",
    "    words_present = []\n",
    "    for word in words:\n",
    "        pattern = r\"\\b\"+word\n",
    "        if re.search(pattern, string):\n",
    "            words_present.append(word)\n",
    "    return words_present"
   ]
  },
  {
   "cell_type": "code",
   "execution_count": 65,
   "id": "54e3723c",
   "metadata": {},
   "outputs": [
    {
     "data": {
      "text/plain": [
       "['fox', 'dog']"
      ]
     },
     "execution_count": 65,
     "metadata": {},
     "output_type": "execute_result"
    }
   ],
   "source": [
    "string = 'The quick brown fox jumps over the lazy dog.'\n",
    "words = ['fox', 'dog', 'horse']\n",
    "search_literals(string, words)"
   ]
  },
  {
   "cell_type": "markdown",
   "id": "c57711a6",
   "metadata": {},
   "source": [
    " "
   ]
  },
  {
   "cell_type": "markdown",
   "id": "a57a1780",
   "metadata": {},
   "source": [
    "16. Write a Python program to search a literals string in a string and also find the location within the original string where the pattern occurs<br>\n",
    "Sample text : 'The quick brown fox jumps over the lazy dog.'<br>\n",
    "Searched words : 'fox'"
   ]
  },
  {
   "cell_type": "code",
   "execution_count": 66,
   "id": "0871d717",
   "metadata": {},
   "outputs": [],
   "source": [
    "def search_literal_location(string, word):\n",
    "    pattern = r\"\\b\"+word\n",
    "    match = re.finditer(pattern, string)\n",
    "    locs = []\n",
    "    for m in match:\n",
    "        start = m.start()\n",
    "        end = m.end()\n",
    "        locs.append((start, end))\n",
    "    return locs"
   ]
  },
  {
   "cell_type": "code",
   "execution_count": 67,
   "id": "b6b88272",
   "metadata": {},
   "outputs": [
    {
     "data": {
      "text/plain": [
       "[(16, 19)]"
      ]
     },
     "execution_count": 67,
     "metadata": {},
     "output_type": "execute_result"
    }
   ],
   "source": [
    "string = 'The quick brown fox jumps over the lazy dog.'\n",
    "word = 'fox'\n",
    "search_literal_location(string, word)"
   ]
  },
  {
   "cell_type": "code",
   "execution_count": 68,
   "id": "9e3b872c",
   "metadata": {},
   "outputs": [
    {
     "data": {
      "text/plain": [
       "[(16, 19), (40, 43)]"
      ]
     },
     "execution_count": 68,
     "metadata": {},
     "output_type": "execute_result"
    }
   ],
   "source": [
    "string = 'The quick brown fox jumps over the lazy fox.'\n",
    "word = 'fox'\n",
    "search_literal_location(string, word)"
   ]
  },
  {
   "cell_type": "markdown",
   "id": "a5be0857",
   "metadata": {},
   "source": [
    " "
   ]
  },
  {
   "cell_type": "markdown",
   "id": "0bb9e750",
   "metadata": {},
   "source": [
    "17. Write a Python program to find the substrings within a string.<br>\n",
    "Sample text : 'Python exercises, PHP exercises, C# exercises'<br>\n",
    "Pattern : 'exercises'"
   ]
  },
  {
   "cell_type": "code",
   "execution_count": 69,
   "id": "3069c9e5",
   "metadata": {},
   "outputs": [],
   "source": [
    "def find_substrings(text, pattern):\n",
    "    match = re.finditer(pattern, text)\n",
    "    substr = []\n",
    "    for m in match:\n",
    "        start = m.start()\n",
    "        end = m.end()\n",
    "        substr.append(text[start:end])\n",
    "    return substr"
   ]
  },
  {
   "cell_type": "code",
   "execution_count": 70,
   "id": "6000cb60",
   "metadata": {},
   "outputs": [
    {
     "data": {
      "text/plain": [
       "['exercises', 'exercises', 'exercises']"
      ]
     },
     "execution_count": 70,
     "metadata": {},
     "output_type": "execute_result"
    }
   ],
   "source": [
    "text = \"Python exercises, PHP exercises, C# exercises\"\n",
    "pattern = \"exercises\"\n",
    "find_substrings(text, pattern)"
   ]
  },
  {
   "cell_type": "markdown",
   "id": "62065646",
   "metadata": {},
   "source": [
    " "
   ]
  },
  {
   "cell_type": "markdown",
   "id": "767a9ba9",
   "metadata": {},
   "source": [
    "18. Write a Python program to find the occurrence and position of the substrings within a string."
   ]
  },
  {
   "cell_type": "code",
   "execution_count": 71,
   "id": "6f6ecceb",
   "metadata": {},
   "outputs": [],
   "source": [
    "def find_substrings_position(text, pattern):\n",
    "    match = re.finditer(pattern, text)\n",
    "    pos = []\n",
    "    for m in match:\n",
    "        start = m.start()\n",
    "        end = m.end()\n",
    "        pos.append((pattern, start, end))\n",
    "    return pos"
   ]
  },
  {
   "cell_type": "code",
   "execution_count": 72,
   "id": "00b5da52",
   "metadata": {},
   "outputs": [
    {
     "name": "stdout",
     "output_type": "stream",
     "text": [
      "Substring: exercises, Position: 7-16\n",
      "Substring: exercises, Position: 22-31\n",
      "Substring: exercises, Position: 36-45\n"
     ]
    }
   ],
   "source": [
    "text = \"Python exercises, PHP exercises, C# exercises\"\n",
    "pattern = \"exercises\"\n",
    "res = find_substrings_position(text, pattern)\n",
    "for r in res:\n",
    "    pattern, start, end = r\n",
    "    print(f\"Substring: {pattern}, Position: {start}-{end}\")"
   ]
  },
  {
   "cell_type": "markdown",
   "id": "a78683af",
   "metadata": {},
   "source": [
    " "
   ]
  },
  {
   "cell_type": "markdown",
   "id": "25be8cb1",
   "metadata": {},
   "source": [
    "19. Write a Python program to convert a date of yyyy-mm-dd format to dd-mm-yyyy format."
   ]
  },
  {
   "cell_type": "code",
   "execution_count": 73,
   "id": "38a5d1ab",
   "metadata": {},
   "outputs": [],
   "source": [
    "def convert_date_format(date):\n",
    "    pattern = r\"(\\d{4})-(\\d{2})-(\\d{2})\"\n",
    "    new_date = re.sub(pattern, r\"\\3-\\2-\\1\", date)\n",
    "    return new_date"
   ]
  },
  {
   "cell_type": "code",
   "execution_count": 74,
   "id": "07cf27ad",
   "metadata": {},
   "outputs": [
    {
     "data": {
      "text/plain": [
       "'28-07-2023'"
      ]
     },
     "execution_count": 74,
     "metadata": {},
     "output_type": "execute_result"
    }
   ],
   "source": [
    "convert_date_format(\"2023-07-28\")"
   ]
  },
  {
   "cell_type": "markdown",
   "id": "7c231053",
   "metadata": {},
   "source": [
    " "
   ]
  },
  {
   "cell_type": "markdown",
   "id": "53783c56",
   "metadata": {},
   "source": [
    "20. Write a Python program to find all words starting with 'a' or 'e' in a given string."
   ]
  },
  {
   "cell_type": "code",
   "execution_count": 75,
   "id": "f12ad02a",
   "metadata": {},
   "outputs": [],
   "source": [
    "def find_words_startwith_a_or_e(string):\n",
    "    pattern = r\"\\b[ae]\\w+\\b\"\n",
    "    return re.findall(pattern, string)"
   ]
  },
  {
   "cell_type": "code",
   "execution_count": 76,
   "id": "235db19d",
   "metadata": {},
   "outputs": [
    {
     "data": {
      "text/plain": [
       "['am', 'eating', 'an', 'apple']"
      ]
     },
     "execution_count": 76,
     "metadata": {},
     "output_type": "execute_result"
    }
   ],
   "source": [
    "find_words_startwith_a_or_e(\"I am eating an apple with a friend\")"
   ]
  },
  {
   "cell_type": "markdown",
   "id": "ac6a89f0",
   "metadata": {},
   "source": [
    " "
   ]
  },
  {
   "cell_type": "markdown",
   "id": "362a9c09",
   "metadata": {},
   "source": [
    "21. Write a Python program to separate and print the numbers and their position of a given string."
   ]
  },
  {
   "cell_type": "code",
   "execution_count": 77,
   "id": "bfb4b102",
   "metadata": {},
   "outputs": [],
   "source": [
    "def find_number_position(string):\n",
    "    pattern = \"\\d+\"\n",
    "    match = re.finditer(pattern, string)\n",
    "    numbers = []\n",
    "    for m in match:\n",
    "        num = m.group()\n",
    "        start = m.start()\n",
    "        end = m.end()\n",
    "        numbers.append((num, start, end))\n",
    "    return numbers"
   ]
  },
  {
   "cell_type": "code",
   "execution_count": 78,
   "id": "d63e80f8",
   "metadata": {},
   "outputs": [
    {
     "name": "stdout",
     "output_type": "stream",
     "text": [
      "Number: 123, Position: 6-9\n",
      "Number: 456, Position: 12-15\n"
     ]
    }
   ],
   "source": [
    "string = \"Hello 123 @ 456World\"\n",
    "res = find_number_position(string)\n",
    "for r in res:\n",
    "    num, start, end = r\n",
    "    print(f\"Number: {num}, Position: {start}-{end}\")"
   ]
  },
  {
   "cell_type": "markdown",
   "id": "974fca03",
   "metadata": {},
   "source": [
    " "
   ]
  },
  {
   "cell_type": "markdown",
   "id": "465b39c7",
   "metadata": {},
   "source": [
    "22. Write a regular expression in python program to extract maximum numeric value from a string."
   ]
  },
  {
   "cell_type": "code",
   "execution_count": 79,
   "id": "415c1570",
   "metadata": {},
   "outputs": [],
   "source": [
    "def extract_max_num_value(string):\n",
    "    pattern = \"\\d+\"\n",
    "    match = re.findall(pattern, string)\n",
    "    if match:\n",
    "        num_list = [int(x) for x in match]\n",
    "        return max(num_list)\n",
    "    return None"
   ]
  },
  {
   "cell_type": "code",
   "execution_count": 80,
   "id": "a9d8a6db",
   "metadata": {},
   "outputs": [
    {
     "data": {
      "text/plain": [
       "49"
      ]
     },
     "execution_count": 80,
     "metadata": {},
     "output_type": "execute_result"
    }
   ],
   "source": [
    "string = \"There are 10 cows, 49 chicken, 20 goats and 12 sheep in the farm.\"\n",
    "extract_max_num_value(string)"
   ]
  },
  {
   "cell_type": "markdown",
   "id": "f48fdf00",
   "metadata": {},
   "source": [
    " "
   ]
  },
  {
   "cell_type": "markdown",
   "id": "fc45a1e3",
   "metadata": {},
   "source": [
    "23. Write a Regex in Python to put spaces between words starting with capital letters."
   ]
  },
  {
   "cell_type": "code",
   "execution_count": 81,
   "id": "54008e63",
   "metadata": {},
   "outputs": [],
   "source": [
    "def put_spaces_between_words(string):\n",
    "    pattern = \"([A-Z][a-z]+)\"\n",
    "    return re.sub(pattern, r\"\\1 \", string).strip()"
   ]
  },
  {
   "cell_type": "code",
   "execution_count": 82,
   "id": "52efcf3d",
   "metadata": {},
   "outputs": [
    {
     "data": {
      "text/plain": [
       "'Importance Of Regular Expressions In Python'"
      ]
     },
     "execution_count": 82,
     "metadata": {},
     "output_type": "execute_result"
    }
   ],
   "source": [
    "put_spaces_between_words(\"ImportanceOfRegularExpressionsInPython\")"
   ]
  },
  {
   "cell_type": "markdown",
   "id": "17172723",
   "metadata": {},
   "source": [
    " "
   ]
  },
  {
   "cell_type": "markdown",
   "id": "f36feee6",
   "metadata": {},
   "source": [
    "24. Python regex to find sequences of one upper case letter followed by lower case letters."
   ]
  },
  {
   "cell_type": "code",
   "execution_count": 83,
   "id": "e5e68f23",
   "metadata": {},
   "outputs": [],
   "source": [
    "def find_sequence_startwith_uppercase(string):\n",
    "    pattern = \"[A-Z][a-z]+\"\n",
    "    return re.findall(pattern, string)"
   ]
  },
  {
   "cell_type": "code",
   "execution_count": 84,
   "id": "f0309345",
   "metadata": {},
   "outputs": [
    {
     "data": {
      "text/plain": [
       "['Importance', 'Regular', 'Expressions', 'Python']"
      ]
     },
     "execution_count": 84,
     "metadata": {},
     "output_type": "execute_result"
    }
   ],
   "source": [
    "find_sequence_startwith_uppercase(\"Importance of Regular Expressions in Python\")"
   ]
  },
  {
   "cell_type": "markdown",
   "id": "2682d687",
   "metadata": {},
   "source": [
    " "
   ]
  },
  {
   "cell_type": "markdown",
   "id": "dd6d3bff",
   "metadata": {},
   "source": [
    "25. Write a Python program to remove duplicate words from Sentence using Regular Expression."
   ]
  },
  {
   "cell_type": "code",
   "execution_count": 85,
   "id": "b023d718",
   "metadata": {},
   "outputs": [],
   "source": [
    "def remove_duplicates(string):\n",
    "    pattern = r\"\\b(\\w+)\\b\\s*(?=.*(\\b\\1\\b))\"\n",
    "    return re.sub(pattern, \"\", string)"
   ]
  },
  {
   "cell_type": "code",
   "execution_count": 86,
   "id": "f1b3a072",
   "metadata": {},
   "outputs": [
    {
     "data": {
      "text/plain": [
       "'Importance of Regular Expressions in Python'"
      ]
     },
     "execution_count": 86,
     "metadata": {},
     "output_type": "execute_result"
    }
   ],
   "source": [
    "remove_duplicates(\"Importance of Regular Regular Expressions in Python Python\")"
   ]
  },
  {
   "cell_type": "markdown",
   "id": "eedba969",
   "metadata": {},
   "source": [
    " "
   ]
  },
  {
   "cell_type": "markdown",
   "id": "a1894f88",
   "metadata": {},
   "source": [
    "26. Write a python program using RegEx to accept string ending with alphanumeric character."
   ]
  },
  {
   "cell_type": "code",
   "execution_count": 87,
   "id": "9551fd53",
   "metadata": {},
   "outputs": [],
   "source": [
    "def check_endwith_alpha_num(string):\n",
    "    pattern = \".*[a-zA-Z0-9]$\"\n",
    "    if re.search(pattern, string):\n",
    "        return True\n",
    "    return False"
   ]
  },
  {
   "cell_type": "code",
   "execution_count": 88,
   "id": "c2fe0776",
   "metadata": {},
   "outputs": [
    {
     "data": {
      "text/plain": [
       "True"
      ]
     },
     "execution_count": 88,
     "metadata": {},
     "output_type": "execute_result"
    }
   ],
   "source": [
    "check_endwith_alpha_num(\"Hello\")"
   ]
  },
  {
   "cell_type": "code",
   "execution_count": 89,
   "id": "5c1f3625",
   "metadata": {},
   "outputs": [
    {
     "data": {
      "text/plain": [
       "True"
      ]
     },
     "execution_count": 89,
     "metadata": {},
     "output_type": "execute_result"
    }
   ],
   "source": [
    "check_endwith_alpha_num(\"Hello1\")"
   ]
  },
  {
   "cell_type": "code",
   "execution_count": 90,
   "id": "d4cfe760",
   "metadata": {},
   "outputs": [
    {
     "data": {
      "text/plain": [
       "False"
      ]
     },
     "execution_count": 90,
     "metadata": {},
     "output_type": "execute_result"
    }
   ],
   "source": [
    "check_endwith_alpha_num(\"Hello_\")"
   ]
  },
  {
   "cell_type": "code",
   "execution_count": 91,
   "id": "c6b0e72b",
   "metadata": {},
   "outputs": [
    {
     "data": {
      "text/plain": [
       "False"
      ]
     },
     "execution_count": 91,
     "metadata": {},
     "output_type": "execute_result"
    }
   ],
   "source": [
    "check_endwith_alpha_num(\"Hello!\")"
   ]
  },
  {
   "cell_type": "markdown",
   "id": "2fc0265d",
   "metadata": {},
   "source": [
    "  "
   ]
  },
  {
   "cell_type": "markdown",
   "id": "0cfd3576",
   "metadata": {},
   "source": [
    "27. Write a python program using RegEx to extract the hashtags.<br>\n",
    "Sample Text: text = \"\"\"RT @kapil_kausik: #Doltiwal I mean #xyzabc is \"hurt\" by #Demonetization as the same has rendered USELESS <ed><U+00A0><U+00BD><ed><U+00B1><U+0089> \"acquired funds\" No wo\"\"\"<br>\n",
    "Output: ['#Doltiwal', '#xyzabc', '#Demonetization']"
   ]
  },
  {
   "cell_type": "code",
   "execution_count": 92,
   "id": "c19bbc2b",
   "metadata": {},
   "outputs": [],
   "source": [
    "def extract_hashtags(string):\n",
    "    pattern = \"#\\w+\"\n",
    "    return re.findall(pattern, string)"
   ]
  },
  {
   "cell_type": "code",
   "execution_count": 93,
   "id": "adaaa794",
   "metadata": {},
   "outputs": [
    {
     "data": {
      "text/plain": [
       "['#Doltiwal', '#xyzabc', '#Demonetization']"
      ]
     },
     "execution_count": 93,
     "metadata": {},
     "output_type": "execute_result"
    }
   ],
   "source": [
    "text = \"\"\"RT @kapil_kausik: #Doltiwal I mean #xyzabc is \"hurt\" by #Demonetization as the same has\n",
    "rendered USELESS <U+00A0><U+00BD><U+00B1><U+0089> \"acquired funds\" No wo\"\"\"\n",
    "extract_hashtags(text)"
   ]
  },
  {
   "cell_type": "markdown",
   "id": "12fbdf5d",
   "metadata": {},
   "source": [
    " "
   ]
  },
  {
   "cell_type": "markdown",
   "id": "5289cc76",
   "metadata": {},
   "source": [
    "28. Write a python program using RegEx to remove <U+..> like symbols.<br>\n",
    "Check the below sample text, there are strange symbols something of the sort <U+..> all over the place. You need to come up with a general Regex expression that will cover all such symbols.<br>\n",
    "Sample Text: \"@Jags123456 Bharat band on 28??&lt;ed&gt;<U+00A0><U+00BD>&lt;ed&gt;<U+00B8><U+0082>Those who are protesting #demonetization are all different party leaders\"<br>\n",
    "Output: @Jags123456 Bharat band on 28??&lt;ed&gt;&lt;ed&gt;Those who are protesting #demonetization are all different party leaders"
   ]
  },
  {
   "cell_type": "code",
   "execution_count": 94,
   "id": "3403e205",
   "metadata": {},
   "outputs": [],
   "source": [
    "def remove_unicode_symbols(string):\n",
    "    pattern = \"<U\\+\\w+>\"\n",
    "    return re.sub(pattern, \"\", string)"
   ]
  },
  {
   "cell_type": "code",
   "execution_count": 95,
   "id": "5c336ef2",
   "metadata": {},
   "outputs": [
    {
     "data": {
      "text/plain": [
       "'@Jags123456 Bharat band on 28??<ed><ed>Those who are protesting #demonetization are all different party leaders'"
      ]
     },
     "execution_count": 95,
     "metadata": {},
     "output_type": "execute_result"
    }
   ],
   "source": [
    "text = \"@Jags123456 Bharat band on 28??<ed><U+00A0><U+00BD><ed><U+00B8><U+0082>Those who are protesting #demonetization are all different party leaders\"\n",
    "remove_unicode_symbols(text)"
   ]
  },
  {
   "cell_type": "markdown",
   "id": "c9752fab",
   "metadata": {},
   "source": [
    " "
   ]
  },
  {
   "cell_type": "markdown",
   "id": "3c810bf6",
   "metadata": {},
   "source": [
    "29. Write a python program to extract dates from the text stored in the text file.<br>\n",
    "Sample Text: Ron was born on 12-09-1992 and he was admitted to school 15-12-1999.<br>\n",
    "Store this sample text in the file and then extract dates"
   ]
  },
  {
   "cell_type": "code",
   "execution_count": 96,
   "id": "4814c5ab",
   "metadata": {},
   "outputs": [],
   "source": [
    "def extract_dates(file_path):\n",
    "    with open(file_path, 'r') as file:\n",
    "        text = file.read()\n",
    "    pattern = \"\\d{2}-\\d{2}-\\d{4}\"\n",
    "    return re.findall(pattern, text)"
   ]
  },
  {
   "cell_type": "code",
   "execution_count": 97,
   "id": "8dbf1553",
   "metadata": {},
   "outputs": [
    {
     "data": {
      "text/plain": [
       "['12-09-1992', '15-12-1999']"
      ]
     },
     "execution_count": 97,
     "metadata": {},
     "output_type": "execute_result"
    }
   ],
   "source": [
    "extract_dates('file2.txt')"
   ]
  },
  {
   "cell_type": "markdown",
   "id": "e3966e3f",
   "metadata": {},
   "source": [
    " "
   ]
  },
  {
   "cell_type": "markdown",
   "id": "45f9f2ee",
   "metadata": {},
   "source": [
    "30. Write a Python program to replace all occurrences of a space, comma, or dot with a colon.<br>\n",
    "Sample Text- 'Python Exercises, PHP exercises.'<br>\n",
    "Output: Python:Exercises::PHP:exercises:"
   ]
  },
  {
   "cell_type": "code",
   "execution_count": 98,
   "id": "1d72bc41",
   "metadata": {},
   "outputs": [],
   "source": [
    "def replace_with_colon(string):\n",
    "    pattern = \"[ ,.]\"\n",
    "    return re.sub(pattern, \":\", string)"
   ]
  },
  {
   "cell_type": "code",
   "execution_count": 99,
   "id": "d47cbc8a",
   "metadata": {},
   "outputs": [
    {
     "data": {
      "text/plain": [
       "'Python:Exercises::PHP:exercises:'"
      ]
     },
     "execution_count": 99,
     "metadata": {},
     "output_type": "execute_result"
    }
   ],
   "source": [
    "replace_with_colon(\"Python Exercises, PHP exercises.\")"
   ]
  },
  {
   "cell_type": "markdown",
   "id": "2d3cb175",
   "metadata": {},
   "source": [
    " "
   ]
  }
 ],
 "metadata": {
  "kernelspec": {
   "display_name": "Python 3 (ipykernel)",
   "language": "python",
   "name": "python3"
  },
  "language_info": {
   "codemirror_mode": {
    "name": "ipython",
    "version": 3
   },
   "file_extension": ".py",
   "mimetype": "text/x-python",
   "name": "python",
   "nbconvert_exporter": "python",
   "pygments_lexer": "ipython3",
   "version": "3.9.12"
  }
 },
 "nbformat": 4,
 "nbformat_minor": 5
}
